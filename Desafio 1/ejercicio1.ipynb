{
 "cells": [
  {
   "cell_type": "markdown",
   "metadata": {
    "id": "Ue5hxxkdAQJg"
   },
   "source": [
    "<img src=\"https://github.com/FIUBA-Posgrado-Inteligencia-Artificial/procesamiento_lenguaje_natural/raw/main/logoFIUBA.jpg\" width=\"500\" align=\"center\">\n",
    "\n",
    "\n",
    "# Procesamiento de lenguaje natural\n",
    "## Word2vect\n"
   ]
  },
  {
   "cell_type": "code",
   "execution_count": 1,
   "metadata": {
    "id": "kCED1hh-Ioyf"
   },
   "outputs": [],
   "source": [
    "import numpy as np\n",
    "import pandas as pd"
   ]
  },
  {
   "cell_type": "code",
   "execution_count": 2,
   "metadata": {
    "id": "PUbfVnzIIoMj"
   },
   "outputs": [],
   "source": [
    "def cosine_similarity(a, b):\n",
    "    return np.dot(a, b) / (np.linalg.norm(a) * (np.linalg.norm(b)))"
   ]
  },
  {
   "cell_type": "markdown",
   "metadata": {
    "id": "DMOa4JPSCJ29"
   },
   "source": [
    "### Datos"
   ]
  },
  {
   "cell_type": "code",
   "execution_count": 3,
   "metadata": {
    "id": "RIO7b8GjAC17"
   },
   "outputs": [],
   "source": [
    "corpus = np.array(['que dia es hoy', 'martes el dia de hoy es martes', 'martes muchas gracias'])"
   ]
  },
  {
   "cell_type": "markdown",
   "metadata": {
    "id": "8WqdaTmO8P1r"
   },
   "source": [
    "Documento 1 --> que dia es hoy \\\n",
    "Documento 2 --> martes el dia de hoy es martes \\\n",
    "Documento 3 --> martes muchas gracias"
   ]
  },
  {
   "cell_type": "markdown",
   "metadata": {
    "id": "FVHxBRNzCMOS"
   },
   "source": [
    "### 1 - Obtener el vocabulario del corpus (los términos utilizados)\n",
    "- Cada documento transformarlo en una lista de términos\n",
    "- Armar un vector de términos no repetidos de todos los documentos"
   ]
  },
  {
   "cell_type": "code",
   "execution_count": 4,
   "metadata": {},
   "outputs": [],
   "source": [
    "def ObtenerListadoTerminos(corpus):\n",
    "    listado_terminos = np.empty([corpus.shape[0],],dtype=object)\n",
    "    for i in range(len(corpus)):\n",
    "        listado_terminos[i] = corpus[i].split(\" \")\n",
    "\n",
    "    return listado_terminos"
   ]
  },
  {
   "cell_type": "code",
   "execution_count": 5,
   "metadata": {},
   "outputs": [],
   "source": [
    "def ObtenerVocabulario(listado_terminos):\n",
    "    vocabulario = set()\n",
    "    for lista in listado_terminos:\n",
    "        vocabulario =  vocabulario  | set(lista)\n",
    "    vocabulario = np.array(list(vocabulario))\n",
    "    return vocabulario"
   ]
  },
  {
   "cell_type": "code",
   "execution_count": 6,
   "metadata": {},
   "outputs": [],
   "source": [
    "listado_terminos = ObtenerListadoTerminos(corpus)\n",
    "vocabulario = ObtenerVocabulario(listado_terminos)"
   ]
  },
  {
   "cell_type": "code",
   "execution_count": 7,
   "metadata": {},
   "outputs": [
    {
     "name": "stdout",
     "output_type": "stream",
     "text": [
      "Listado de terminos obtenidos:\n",
      "\n",
      "[list(['que', 'dia', 'es', 'hoy'])\n",
      " list(['martes', 'el', 'dia', 'de', 'hoy', 'es', 'martes'])\n",
      " list(['martes', 'muchas', 'gracias'])]\n"
     ]
    }
   ],
   "source": [
    "print(\"Listado de terminos obtenidos:\\n\")\n",
    "print(listado_terminos)"
   ]
  },
  {
   "cell_type": "code",
   "execution_count": 8,
   "metadata": {},
   "outputs": [
    {
     "name": "stdout",
     "output_type": "stream",
     "text": [
      "Vocabulario obtenido:\n",
      "\n",
      "['muchas' 'de' 'el' 'martes' 'que' 'dia' 'gracias' 'hoy' 'es']\n"
     ]
    }
   ],
   "source": [
    "print(\"Vocabulario obtenido:\\n\")\n",
    "print(vocabulario)"
   ]
  },
  {
   "cell_type": "markdown",
   "metadata": {
    "id": "RUhH983FI7It"
   },
   "source": [
    "### 2- OneHot encoding\n",
    "Data una lista de textos, devolver una matriz con la representación oneHotEncoding de estos"
   ]
  },
  {
   "cell_type": "code",
   "execution_count": 9,
   "metadata": {},
   "outputs": [],
   "source": [
    "def ArmarOneHotEnconding(listado_terminos):\n",
    "    vocabulario = ObtenerVocabulario(listado_terminos)\n",
    "    dataframe = pd.DataFrame(np.zeros((len(listado_terminos),len(vocabulario))) ,columns=vocabulario,dtype=np.int8)\n",
    "    for i,lista_term_doc in enumerate(listado_terminos):\n",
    "        for termino in vocabulario:\n",
    "            dataframe.loc[i, termino]=np.isin(termino, lista_term_doc).astype(int)  \n",
    "    return dataframe"
   ]
  },
  {
   "cell_type": "code",
   "execution_count": 10,
   "metadata": {},
   "outputs": [],
   "source": [
    "oneHotEcodingTerminos = ArmarOneHotEnconding(listado_terminos)"
   ]
  },
  {
   "cell_type": "code",
   "execution_count": 11,
   "metadata": {},
   "outputs": [
    {
     "name": "stdout",
     "output_type": "stream",
     "text": [
      "Representacion oneHotEncoding de la lista de terminos:\n",
      "\n"
     ]
    },
    {
     "data": {
      "text/html": [
       "<div>\n",
       "<style scoped>\n",
       "    .dataframe tbody tr th:only-of-type {\n",
       "        vertical-align: middle;\n",
       "    }\n",
       "\n",
       "    .dataframe tbody tr th {\n",
       "        vertical-align: top;\n",
       "    }\n",
       "\n",
       "    .dataframe thead th {\n",
       "        text-align: right;\n",
       "    }\n",
       "</style>\n",
       "<table border=\"1\" class=\"dataframe\">\n",
       "  <thead>\n",
       "    <tr style=\"text-align: right;\">\n",
       "      <th></th>\n",
       "      <th>muchas</th>\n",
       "      <th>de</th>\n",
       "      <th>el</th>\n",
       "      <th>martes</th>\n",
       "      <th>que</th>\n",
       "      <th>dia</th>\n",
       "      <th>gracias</th>\n",
       "      <th>hoy</th>\n",
       "      <th>es</th>\n",
       "    </tr>\n",
       "  </thead>\n",
       "  <tbody>\n",
       "    <tr>\n",
       "      <th>0</th>\n",
       "      <td>0</td>\n",
       "      <td>0</td>\n",
       "      <td>0</td>\n",
       "      <td>0</td>\n",
       "      <td>1</td>\n",
       "      <td>1</td>\n",
       "      <td>0</td>\n",
       "      <td>1</td>\n",
       "      <td>1</td>\n",
       "    </tr>\n",
       "    <tr>\n",
       "      <th>1</th>\n",
       "      <td>0</td>\n",
       "      <td>1</td>\n",
       "      <td>1</td>\n",
       "      <td>1</td>\n",
       "      <td>0</td>\n",
       "      <td>1</td>\n",
       "      <td>0</td>\n",
       "      <td>1</td>\n",
       "      <td>1</td>\n",
       "    </tr>\n",
       "    <tr>\n",
       "      <th>2</th>\n",
       "      <td>1</td>\n",
       "      <td>0</td>\n",
       "      <td>0</td>\n",
       "      <td>1</td>\n",
       "      <td>0</td>\n",
       "      <td>0</td>\n",
       "      <td>1</td>\n",
       "      <td>0</td>\n",
       "      <td>0</td>\n",
       "    </tr>\n",
       "  </tbody>\n",
       "</table>\n",
       "</div>"
      ],
      "text/plain": [
       "   muchas  de  el  martes  que  dia  gracias  hoy  es\n",
       "0       0   0   0       0    1    1        0    1   1\n",
       "1       0   1   1       1    0    1        0    1   1\n",
       "2       1   0   0       1    0    0        1    0   0"
      ]
     },
     "execution_count": 11,
     "metadata": {},
     "output_type": "execute_result"
    }
   ],
   "source": [
    "print(\"Representacion oneHotEncoding de la lista de terminos:\\n\")\n",
    "oneHotEcodingTerminos"
   ]
  },
  {
   "cell_type": "markdown",
   "metadata": {
    "id": "IIyWGmCpJVQL"
   },
   "source": [
    "### 3- Vectores de frecuencia\n",
    "Data una lista de textos, devolver una matriz con la representación de frecuencia de estos"
   ]
  },
  {
   "cell_type": "code",
   "execution_count": 12,
   "metadata": {
    "id": "yqij_7eHJbUi"
   },
   "outputs": [],
   "source": [
    "def ArmarVectorDeFrecuencia(listado_terminos):\n",
    "    vocabulario = ObtenerVocabulario(listado_terminos)\n",
    "    dataframe = pd.DataFrame(np.zeros((len(listado_terminos),len(vocabulario))) ,columns=vocabulario,dtype=np.int8)\n",
    "    for i,lista_term_doc in enumerate(listado_terminos):\n",
    "        for termino in vocabulario:\n",
    "            dataframe.loc[i, termino] = lista_term_doc.count(termino)\n",
    "    return dataframe"
   ]
  },
  {
   "cell_type": "code",
   "execution_count": 13,
   "metadata": {},
   "outputs": [],
   "source": [
    "vectorFrecuencia = ArmarVectorDeFrecuencia(listado_terminos)"
   ]
  },
  {
   "cell_type": "code",
   "execution_count": 14,
   "metadata": {},
   "outputs": [
    {
     "name": "stdout",
     "output_type": "stream",
     "text": [
      "Vector de frecuencia de la lista de terminos:\n",
      "\n"
     ]
    },
    {
     "data": {
      "text/html": [
       "<div>\n",
       "<style scoped>\n",
       "    .dataframe tbody tr th:only-of-type {\n",
       "        vertical-align: middle;\n",
       "    }\n",
       "\n",
       "    .dataframe tbody tr th {\n",
       "        vertical-align: top;\n",
       "    }\n",
       "\n",
       "    .dataframe thead th {\n",
       "        text-align: right;\n",
       "    }\n",
       "</style>\n",
       "<table border=\"1\" class=\"dataframe\">\n",
       "  <thead>\n",
       "    <tr style=\"text-align: right;\">\n",
       "      <th></th>\n",
       "      <th>muchas</th>\n",
       "      <th>de</th>\n",
       "      <th>el</th>\n",
       "      <th>martes</th>\n",
       "      <th>que</th>\n",
       "      <th>dia</th>\n",
       "      <th>gracias</th>\n",
       "      <th>hoy</th>\n",
       "      <th>es</th>\n",
       "    </tr>\n",
       "  </thead>\n",
       "  <tbody>\n",
       "    <tr>\n",
       "      <th>0</th>\n",
       "      <td>0</td>\n",
       "      <td>0</td>\n",
       "      <td>0</td>\n",
       "      <td>0</td>\n",
       "      <td>1</td>\n",
       "      <td>1</td>\n",
       "      <td>0</td>\n",
       "      <td>1</td>\n",
       "      <td>1</td>\n",
       "    </tr>\n",
       "    <tr>\n",
       "      <th>1</th>\n",
       "      <td>0</td>\n",
       "      <td>1</td>\n",
       "      <td>1</td>\n",
       "      <td>2</td>\n",
       "      <td>0</td>\n",
       "      <td>1</td>\n",
       "      <td>0</td>\n",
       "      <td>1</td>\n",
       "      <td>1</td>\n",
       "    </tr>\n",
       "    <tr>\n",
       "      <th>2</th>\n",
       "      <td>1</td>\n",
       "      <td>0</td>\n",
       "      <td>0</td>\n",
       "      <td>1</td>\n",
       "      <td>0</td>\n",
       "      <td>0</td>\n",
       "      <td>1</td>\n",
       "      <td>0</td>\n",
       "      <td>0</td>\n",
       "    </tr>\n",
       "  </tbody>\n",
       "</table>\n",
       "</div>"
      ],
      "text/plain": [
       "   muchas  de  el  martes  que  dia  gracias  hoy  es\n",
       "0       0   0   0       0    1    1        0    1   1\n",
       "1       0   1   1       2    0    1        0    1   1\n",
       "2       1   0   0       1    0    0        1    0   0"
      ]
     },
     "execution_count": 14,
     "metadata": {},
     "output_type": "execute_result"
    }
   ],
   "source": [
    "print(\"Vector de frecuencia de la lista de terminos:\\n\")\n",
    "vectorFrecuencia"
   ]
  },
  {
   "cell_type": "markdown",
   "metadata": {
    "id": "z_Ot8HvWJcBu"
   },
   "source": [
    "### 4- TF-IDF\n",
    "Data una lista de textos, devolver una matriz con la representacion TFIDF"
   ]
  },
  {
   "cell_type": "code",
   "execution_count": 15,
   "metadata": {},
   "outputs": [],
   "source": [
    "def ArmarIDF(listado_terminos):\n",
    "    oneHotEcodingTerminos = ArmarOneHotEnconding(listado_terminos)\n",
    "    IDF = np.log10(len(listado_terminos) / oneHotEcodingTerminos.sum(axis=0))\n",
    "    return IDF\n",
    "\n",
    "def ArmarTFIDF(listado_terminos):\n",
    "    IDF = ArmarIDF(listado_terminos)\n",
    "    TF = ArmarVectorDeFrecuencia(listado_terminos)\n",
    "    TFIDF = TF * IDF\n",
    "    return TFIDF"
   ]
  },
  {
   "cell_type": "code",
   "execution_count": 16,
   "metadata": {},
   "outputs": [],
   "source": [
    "TFIDF = ArmarTFIDF(listado_terminos)"
   ]
  },
  {
   "cell_type": "code",
   "execution_count": 17,
   "metadata": {},
   "outputs": [
    {
     "name": "stdout",
     "output_type": "stream",
     "text": [
      "Valor calculado para TF-IDF:\n",
      "\n"
     ]
    },
    {
     "data": {
      "text/html": [
       "<div>\n",
       "<style scoped>\n",
       "    .dataframe tbody tr th:only-of-type {\n",
       "        vertical-align: middle;\n",
       "    }\n",
       "\n",
       "    .dataframe tbody tr th {\n",
       "        vertical-align: top;\n",
       "    }\n",
       "\n",
       "    .dataframe thead th {\n",
       "        text-align: right;\n",
       "    }\n",
       "</style>\n",
       "<table border=\"1\" class=\"dataframe\">\n",
       "  <thead>\n",
       "    <tr style=\"text-align: right;\">\n",
       "      <th></th>\n",
       "      <th>muchas</th>\n",
       "      <th>de</th>\n",
       "      <th>el</th>\n",
       "      <th>martes</th>\n",
       "      <th>que</th>\n",
       "      <th>dia</th>\n",
       "      <th>gracias</th>\n",
       "      <th>hoy</th>\n",
       "      <th>es</th>\n",
       "    </tr>\n",
       "  </thead>\n",
       "  <tbody>\n",
       "    <tr>\n",
       "      <th>0</th>\n",
       "      <td>0.000000</td>\n",
       "      <td>0.000000</td>\n",
       "      <td>0.000000</td>\n",
       "      <td>0.000000</td>\n",
       "      <td>0.477121</td>\n",
       "      <td>0.176091</td>\n",
       "      <td>0.000000</td>\n",
       "      <td>0.176091</td>\n",
       "      <td>0.176091</td>\n",
       "    </tr>\n",
       "    <tr>\n",
       "      <th>1</th>\n",
       "      <td>0.000000</td>\n",
       "      <td>0.477121</td>\n",
       "      <td>0.477121</td>\n",
       "      <td>0.352183</td>\n",
       "      <td>0.000000</td>\n",
       "      <td>0.176091</td>\n",
       "      <td>0.000000</td>\n",
       "      <td>0.176091</td>\n",
       "      <td>0.176091</td>\n",
       "    </tr>\n",
       "    <tr>\n",
       "      <th>2</th>\n",
       "      <td>0.477121</td>\n",
       "      <td>0.000000</td>\n",
       "      <td>0.000000</td>\n",
       "      <td>0.176091</td>\n",
       "      <td>0.000000</td>\n",
       "      <td>0.000000</td>\n",
       "      <td>0.477121</td>\n",
       "      <td>0.000000</td>\n",
       "      <td>0.000000</td>\n",
       "    </tr>\n",
       "  </tbody>\n",
       "</table>\n",
       "</div>"
      ],
      "text/plain": [
       "     muchas        de        el    martes       que       dia   gracias  \\\n",
       "0  0.000000  0.000000  0.000000  0.000000  0.477121  0.176091  0.000000   \n",
       "1  0.000000  0.477121  0.477121  0.352183  0.000000  0.176091  0.000000   \n",
       "2  0.477121  0.000000  0.000000  0.176091  0.000000  0.000000  0.477121   \n",
       "\n",
       "        hoy        es  \n",
       "0  0.176091  0.176091  \n",
       "1  0.176091  0.176091  \n",
       "2  0.000000  0.000000  "
      ]
     },
     "execution_count": 17,
     "metadata": {},
     "output_type": "execute_result"
    }
   ],
   "source": [
    "print(\"Valor calculado para TF-IDF:\\n\")\n",
    "TFIDF"
   ]
  },
  {
   "cell_type": "markdown",
   "metadata": {
    "id": "xMcsfndWJjm_"
   },
   "source": [
    "### 5 - Comparación de documentos\n",
    "Realizar una funcion que reciba el corpus y el índice de un documento y devuelva los documentos ordenados por la similitud coseno"
   ]
  },
  {
   "cell_type": "code",
   "execution_count": 18,
   "metadata": {
    "id": "CZdiop6IJpZN"
   },
   "outputs": [],
   "source": [
    "def listaSimilitud(corpus,indice):\n",
    "    listado_similitudes = pd.DataFrame()\n",
    "    listado_similitudes.index = corpus\n",
    "    listado_terminos = ObtenerListadoTerminos(corpus)\n",
    "    TFIDF = ArmarTFIDF(listado_terminos)\n",
    "    TFIDF_indice = TFIDF.iloc[[indice]]\n",
    "    for idx,lista_term_doc in enumerate(listado_terminos):\n",
    "         listado_similitudes.loc[corpus[idx],\"distancia\"]=cosine_similarity(TFIDF_indice,TFIDF.iloc[idx])\n",
    "    \n",
    "    listado_similitudes = listado_similitudes.drop(corpus[indice]).sort_values(by=\"distancia\",ascending=False)\n",
    "    return listado_similitudes\n",
    "        \n",
    "def mostrarDistancias(corpus,indice):\n",
    "    print(\"Distancia calculada para el documento \\\"{}\\\" :\\n\".format(corpus[indice]))\n",
    "    print(listaSimilitud(corpus,indice))\n",
    "    print(\"\\n\")"
   ]
  },
  {
   "cell_type": "code",
   "execution_count": 19,
   "metadata": {},
   "outputs": [
    {
     "name": "stdout",
     "output_type": "stream",
     "text": [
      "Distancia calculada para el documento \"que dia es hoy\" :\n",
      "\n",
      "                                distancia\n",
      "martes el dia de hoy es martes   0.200342\n",
      "martes muchas gracias            0.000000\n",
      "\n",
      "\n",
      "Distancia calculada para el documento \"martes el dia de hoy es martes\" :\n",
      "\n",
      "                       distancia\n",
      "que dia es hoy          0.200342\n",
      "martes muchas gracias   0.108457\n",
      "\n",
      "\n",
      "Distancia calculada para el documento \"martes muchas gracias\" :\n",
      "\n",
      "                                distancia\n",
      "martes el dia de hoy es martes   0.108457\n",
      "que dia es hoy                   0.000000\n",
      "\n",
      "\n"
     ]
    }
   ],
   "source": [
    "mostrarDistancias(corpus,0)\n",
    "mostrarDistancias(corpus,1)\n",
    "mostrarDistancias(corpus,2)\n",
    "    "
   ]
  }
 ],
 "metadata": {
  "colab": {
   "collapsed_sections": [],
   "name": "1a - word2vec.ipynb",
   "provenance": []
  },
  "kernelspec": {
   "display_name": "Python 3 (ipykernel)",
   "language": "python",
   "name": "python3"
  },
  "language_info": {
   "codemirror_mode": {
    "name": "ipython",
    "version": 3
   },
   "file_extension": ".py",
   "mimetype": "text/x-python",
   "name": "python",
   "nbconvert_exporter": "python",
   "pygments_lexer": "ipython3",
   "version": "3.9.12"
  }
 },
 "nbformat": 4,
 "nbformat_minor": 4
}
