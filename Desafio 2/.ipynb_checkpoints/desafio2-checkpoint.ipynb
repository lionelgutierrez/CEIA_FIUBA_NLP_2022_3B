{
 "cells": [
  {
   "cell_type": "markdown",
   "metadata": {
    "id": "Ue5hxxkdAQJg"
   },
   "source": [
    "<img src=\"https://github.com/hernancontigiani/ceia_memorias_especializacion/raw/master/Figures/logoFIUBA.jpg\" width=\"500\" align=\"center\">\n",
    "\n",
    "\n",
    "\n"
   ]
  },
  {
   "cell_type": "markdown",
   "metadata": {},
   "source": [
    "# Procesamiento de lenguaje natural\n",
    "## Bot con sparCy utilizando un corpus de wikipedia"
   ]
  },
  {
   "cell_type": "markdown",
   "metadata": {},
   "source": [
    "## 1- instalamos e importamos las librerias necesarias"
   ]
  },
  {
   "cell_type": "code",
   "execution_count": 67,
   "metadata": {},
   "outputs": [],
   "source": [
    "!pip install spacy==3.3 --quiet\n",
    "!pip install spacy-stanza==1.0.2 --quiet"
   ]
  },
  {
   "cell_type": "code",
   "execution_count": 68,
   "metadata": {
    "id": "kCED1hh-Ioyf"
   },
   "outputs": [],
   "source": [
    "import json\n",
    "import string\n",
    "import random\n",
    "import re\n",
    "import unicodedata\n",
    "import urllib.request\n",
    "\n",
    "import nltk\n",
    "import warnings\n",
    "warnings.filterwarnings('ignore')\n",
    "\n",
    "import numpy as np\n",
    "\n",
    "# Para leer y parsear el texto en HTML de wikipedia\n",
    "import bs4 as bs\n",
    "\n",
    "import stanza\n",
    "import spacy_stanza"
   ]
  },
  {
   "cell_type": "code",
   "execution_count": 69,
   "metadata": {},
   "outputs": [
    {
     "data": {
      "application/vnd.jupyter.widget-view+json": {
       "model_id": "2643a8ceedea475d8ab3cd13912f9670",
       "version_major": 2,
       "version_minor": 0
      },
      "text/plain": [
       "Downloading https://raw.githubusercontent.com/stanfordnlp/stanza-resources/main/resources_1.2.2.json:   0%|   …"
      ]
     },
     "metadata": {},
     "output_type": "display_data"
    },
    {
     "name": "stderr",
     "output_type": "stream",
     "text": [
      "2022-07-04 18:31:38 INFO: Downloading default packages for language: es (Spanish)...\n",
      "2022-07-04 18:31:41 INFO: File exists: C:\\Users\\Lio\\stanza_resources\\es\\default.zip.\n",
      "2022-07-04 18:31:45 INFO: Finished downloading models and saved to C:\\Users\\Lio\\stanza_resources.\n",
      "2022-07-04 18:31:46 INFO: Loading these models for language: es (Spanish):\n",
      "=======================\n",
      "| Processor | Package |\n",
      "-----------------------\n",
      "| tokenize  | ancora  |\n",
      "| mwt       | ancora  |\n",
      "| pos       | ancora  |\n",
      "| lemma     | ancora  |\n",
      "| depparse  | ancora  |\n",
      "| ner       | conll02 |\n",
      "=======================\n",
      "\n",
      "2022-07-04 18:31:46 INFO: Use device: cpu\n",
      "2022-07-04 18:31:46 INFO: Loading: tokenize\n",
      "2022-07-04 18:31:46 INFO: Loading: mwt\n",
      "2022-07-04 18:31:46 INFO: Loading: pos\n",
      "2022-07-04 18:31:46 INFO: Loading: lemma\n",
      "2022-07-04 18:31:46 INFO: Loading: depparse\n",
      "2022-07-04 18:31:47 INFO: Loading: ner\n",
      "2022-07-04 18:31:48 INFO: Done loading processors!\n"
     ]
    }
   ],
   "source": [
    "# Descargamos el diccionario en español y armar el pipeline de NLP con spacy\n",
    "stanza.download(\"es\")\n",
    "nlp = spacy_stanza.load_pipeline(\"es\")\n"
   ]
  },
  {
   "cell_type": "markdown",
   "metadata": {
    "id": "DMOa4JPSCJ29"
   },
   "source": [
    "## 2- Cargamos los datos que vamos a utilizar para nuestro bot\n",
    "Se consumira los datos del artículo de wikipedia sobre la copa del mundo de Qatar 2022.\n",
    "\n",
    "Nos quedamos con los párrafos del documento únicamente\n",
    "\n",
    "URL: https://es.wikipedia.org/wiki/Copa_Mundial_de_F%C3%BAtbol_de_2022\n"
   ]
  },
  {
   "cell_type": "code",
   "execution_count": 70,
   "metadata": {
    "id": "RIO7b8GjAC17"
   },
   "outputs": [],
   "source": [
    "raw_html = urllib.request.urlopen('https://es.wikipedia.org/wiki/Copa_Mundial_de_F%C3%BAtbol_de_2022')\n",
    "raw_html = raw_html.read()\n",
    "\n",
    "article_html = bs.BeautifulSoup(raw_html, 'lxml')\n",
    "article_paragraphs = article_html.find_all('p')\n",
    "\n",
    "article_text = ''\n",
    "\n",
    "for para in article_paragraphs:\n",
    "    article_text += para.text\n",
    "\n",
    "article_text = article_text.lower()"
   ]
  },
  {
   "cell_type": "markdown",
   "metadata": {},
   "source": [
    "### Vemos el texto ya cargado y transformado a minúsculas"
   ]
  },
  {
   "cell_type": "code",
   "execution_count": 71,
   "metadata": {
    "id": "pUH30a1_rOkS"
   },
   "outputs": [
    {
     "data": {
      "text/plain": [
       "\"8 (en 5 ciudades)\\nla copa mundial de fútbol de la fifa catar 2022 (en árabe, كأس العالم لكرة القدم قطر 2022) será la xxii edición de la copa mundial de fútbol masculino organizada por la fifa. esta edición se realizará desde el 21 de noviembre al 18 de diciembre de 2022 en catar, que consiguió los derechos de organización el 2 de diciembre de 2010.[1]\\u200b\\nesta será la tercera vez que la copa del mundo de la fifa se disputará en el continente asiático tras la copa mundial de fútbol de 2002 en corea del sur y japón y el de rusia 2018 (aunque esta última contaba con una única sede en territorio asiático), y la primera que se celebra en asia occidental, dada la ubicación euroasiática de la que gozaba el anterior anfitrión: rusia.[2]\\u200b también por primera vez, el torneo tiene lugar en oriente próximo, en un país árabe y de mayoría musulmana, así como el de menor extensión territorial.[3]\\u200b\\nigualmente será el mundial de mayor tiempo de espera desde 1950 respecto a su edición anterior, ya que se desarrollará entre los meses de noviembre y diciembre de 2022, a diferencia de los meses habituales de junio y julio. de forma paralela será la copa mundial de fútbol más corta desde 1978, pues durará solamente 28 días a diferencia de los 32 días habituales en los últimos campeonatos.[4]\\u200b[5]\\u200b\\nantes de que se hiciera oficial el nombre del país que organizaría el mundial, la organización catarí (encabezada por el francés zinedine zidane junto al entonces emir de catar hamad bin jalifa al thani) presentó al futuro estadio icónico de lusail como sede del partido inaugural y de la final, entre otros encuentros.\\nlos países del consejo de cooperación del golfo (ccg) han dado su respaldo a que catar sea la sede del mundial de 2022, ante las críticas de corrupción despertadas. una alianza con la federación española de fútbol que implicó en particular al f. c. barcelona y al real madrid ya que los patrocinadores de ambos equipos son originarios de medio oriente fue una de las bases que permitió a catar obtener así el apoyo de varios países latinoamericanos y conseguir la candidatura para obtener el mundial de 2022.[6]\\u200b\\nen 2011, joseph blatter anunció que este mundial podría ser adelantado a enero de 2022 o postergado a noviembre del mismo año,[7]\\u200b debido a que en catar en verano las temperaturas llegan a 50º c y así podría protegerse a los futbolistas y a todos los relacionados con el mundial.[8]\\u200b los organizadores anunciaron que contarían con aire acondicionado en los estadios debido al clima árido cálido, excesivamente caluroso en junio-julio.\\ndurante una sesión en zúrich, se anunció la repartición de los 31 cupos de la siguiente manera:[9]\\u200b\\ncatar ha clasificado automáticamente como organizador. \\nen abril de 2018, la conmebol solicitó a la fifa que la copa mundial de catar 2022 cuente ya con 48 equipos participantes, lo cual está previsto para la futura copa mundial de fútbol de 2026.[10]\\u200b en julio del mismo año, gianni infantino declaró que la decisión pudiera estar en manos del comité organizador.[11]\\u200b[12]\\u200b[13]\\u200b[14]\\u200b el 16 de marzo de 2019 la fifa había emitido un comunicado en el que afirmó la posibilidad de que el mundial de catar 2022 tuviera un total de 48 participantes. sin embargo, el 22 de mayo de 2019, en la reunión del consejo de la fifa, de forma oficial, finalmente se descartó la ampliación por motivos logísticos, por no llegar a tiempo para la organización, lo que sí estará listo para el próximo mundial de canadá, estados unidos y méxico 2026.[15]\\u200b\\nlos primeros partidos de clasificación se jugaron en junio de 2019 en asia, siendo el primero de estos, una victoria de mongolia ante brunéi por 2-0, el 6 de junio de ese año.[16]\\u200b\\nen cursiva el único equipo debutante.\\n\\nel sorteo de clasificación se programó para julio de 2019; esto se canceló posteriormente para permitir que cada confederación realizara sus sorteos individuales para sus torneos de clasificación.[17]\\u200b \\nel sorteo final para definir los grupos de la copa mundial se realizó el 1 de abril de 2022 en doha, catar, junto con el 72.° congreso de la fifa.[18]\\u200b\\nla organización fue encargada al supremo comité para el desarrollo y legado, presidido por altos cargos cataríes.[19]\\u200b\\ncatar hasta la actualidad confirmó ocho estadios en cinco ciudades para el mundial: al wakrah, doha, rayán, jor y lusail, todas ellas albergarán los 64 partidos de la copa mundial.[19]\\u200b\\nde los ocho estadios solo el estadio internacional jalifa estaba totalmente terminado al momento de su elección como sede, el cual se encuentra reinaugurado luego de su remodelación para poder albergar sus partidos.[19]\\u200b el estadio al bayt se comenzó a construir sobre el terreno del desaparecido estadio al khor.[19]\\u200b el estadio 974 será el primer complejo deportivo totalmente desmontable y una vez finalizado el torneo sus partes serán donadas a los países subdesarrollados.[19]\\u200b el estadio icónico de lusail donde se jugará el partido de apertura y el de la final se construye paralelamente a su ciudad homónima.[20]\\u200b[21]\\u200b las autoridades del país árabe aseguraron que los estadios y las fan fest tendrán climatizadores para ventilar el ambiente.[22]\\u200b\\nla mascota oficial del mundial de catar 2022 es la'eeb que fue presentado el 1 de abril de 2022 en el sorteo para definir los grupos.[23]\\u200b\\nel 1 de abril de 2022 se lanzó la canción oficial del mundial llamado «hayya hayya (better together)» interpretado por el cantante estadounidense trinidad cardona con la participación del ícono del afrobeats davido y aisha.[24]\\u200b\\nal rihla es el nombre oficial del balón para el torneo.[25]\\u200b \\nla fifa, a través de varias compañías, vendió a diferentes países del mundo los derechos de transmisión.\\nla fifa anunció una lista de 36 árbitros, provenientes de las 6 confederaciones continentales. a ella deben sumarse 63 árbitros asistentes y los colegiados que formarán parte del equipo de videoarbitraje (var). por primera vez en una copa del mundo habrá árbitras, seis fueron designadas por la fifa para esta edición.[37]\\u200b[38]\\u200b se indica entre paréntesis el número de ediciones en que han participado anteriormente.\\nla fifa anunció una lista de 24 árbitros, provenientes de 5 de las 6 confederaciones continentales (conmebol, uefa, concacaf, caf y afc).[38]\\u200b se indica entre paréntesis el número de ediciones en que han participado anteriormente.\\nla programación de los partidos fue anunciada por la fifa el 15 de julio de 2020,[39]\\u200b el comité ejecutivo de la fifa anunció la hora local de los partidos: el partido inaugural se jugará a las 13:00 y la final se jugará a las 18:00; los partidos correspondientes a las dos primeras fechas de la fase de grupos, a las 13:00, 16:00, 19:00 y 22:00; los partidos de la tercera fecha de la fase de grupos, los octavos y los cuartos de final, a las 18:00 y 22:00; las semifinales a las 22:00; el partido por el tercer puesto y la final a las 18:00.[40]\\u200b\\n\\n\\n\\n\\n\\n\\n\\n\\n\\n\\n\\n\\n\\n\\n\\n\\n\\n\\ndiversas agrupaciones y medios de comunicación han expresado su preocupación acerca de la idoneidad de catar para acoger el evento,[41]\\u200b[42]\\u200b debido a serios cuestionamientos sobre el respeto de los derechos humanos, particularmente en los casos de las condiciones laborales de los trabajadores y los derechos de la comunidad lgbt, ya que la homosexualidad se llega a condenar con pena de muerte,[42]\\u200b[43]\\u200b[44]\\u200b[45]\\u200b así como a las acusaciones contra catar de apoyar el terrorismo islamista tanto diplomática como financieramente.[46]\\u200b\\nlos funcionarios de la fifa han sido acusados de corrupción y de aceptar que catar «compró» la copa del mundo.[47]\\u200b el tratamiento de los trabajadores de la construcción fue cuestionado por grupos defensores de los derechos humanos.[48]\\u200b las condiciones climáticas provocaron que algunos consideran inviable el organizar el torneo en este país, en respuesta, se planeó implementar aire acondicionado en los estadios. joseph blatter, quien fuera presidente de la fifa cuando catar fue seleccionado, comentó que adjudicar la copa del mundo fue un «error» debido al calor extremo.[49]\\u200b[50]\\u200b\\nen un informe de la confederación sindical internacional, fechado en 2015,[51]\\u200b se estimó que habría cerca de 7000 trabajadores muertos antes del inicio del mundial.[52]\\u200b fundación internacional para la democracia estimó un total de 10\\xa0000 trabajadores migrantes muertos.[53]\\u200b amnistía internacional denunció prácticas de abuso y explotación contra los trabajadores, especialmente migrantes, en la construcción de los estadios. se advirtió sobre casos de amenazas por quejas de las condiciones de vida, retraso en el pago de salarios y elevadas comisiones de contratación.[54]\\u200b el diario the guardian, en un artículo publicado en febrero de 2021, reveló alrededor de 6.500 trabajadores migrantes muertos, aunque el «número total de muertos es significativamente mayor, ya que estas cifras no incluyen las muertes de varios países que envían un gran número de trabajadores a catar, incluidas filipinas y kenia. tampoco se incluyen las muertes ocurridas en los últimos meses de 2020».[55]\\u200b amnistía internacional solicitó al gobierno de catar respuestas sobre los fallecimientos de trabajadores migrantes.[56]\\u200b catar anunció en mayo del 2021 una serie de medidas destinadas a proteger a los trabajadores del calor.[57]\\u200b sin embargo, a pesar de que se atribuyó la mayoría de las muertes a «causas naturales» esto deja sin explicación alrededor del 70% de las muertes.[58]\\u200b\\n\\n\""
      ]
     },
     "execution_count": 71,
     "metadata": {},
     "output_type": "execute_result"
    }
   ],
   "source": [
    "article_text"
   ]
  },
  {
   "cell_type": "code",
   "execution_count": 72,
   "metadata": {
    "id": "BtGLJjt6rQhK"
   },
   "outputs": [
    {
     "name": "stdout",
     "output_type": "stream",
     "text": [
      "Cantidad de caracteres en el artículo es: 9379\n"
     ]
    }
   ],
   "source": [
    "print(\"Cantidad de caracteres en el artículo es:\", len(article_text))"
   ]
  },
  {
   "cell_type": "code",
   "execution_count": 73,
   "metadata": {},
   "outputs": [
    {
     "name": "stdout",
     "output_type": "stream",
     "text": [
      "Lista de caracteres del texto:  ['\\xa0', 'g', 'q', 't', '6', ';', 'ú', \"'\", 'ا', '5', 'p', 'c', 'ق', '1', ':', 'ر', 'º', '°', '7', 'n', 'ó', 'é', 'h', '«', 'أ', '[', '3', 'm', 'س', 'f', ')', '2', 'a', 'x', 's', '\\n', 'r', '.', ',', ' ', 'y', '%', 'w', '4', '-', 'í', 'k', '»', 'ل', 'd', 'v', 'b', '8', '\\u200b', 'o', 'د', ']', 'l', 'ك', 'u', 'e', 'i', 'j', 'ñ', '9', '0', 'á', '(', 'م', 'ة', 'ط', 'ع', 'z']\n"
     ]
    }
   ],
   "source": [
    "lista_caracteres = list(set(article_text))\n",
    "print(\"Lista de caracteres del texto: \",lista_caracteres)"
   ]
  },
  {
   "cell_type": "markdown",
   "metadata": {
    "id": "FVHxBRNzCMOS"
   },
   "source": [
    "## 3 - Realizamos en preprocesamiento del texto\n",
    "- Removemos caracteres especiales\n",
    "- Removemos acentos\n",
    "- Quitamos espacios y saltos de línea\n",
    "- Quitamos las referencias bibliográficas (tags sup)"
   ]
  },
  {
   "cell_type": "markdown",
   "metadata": {},
   "source": [
    "### Definimos nuestra funcion de limpieza"
   ]
  },
  {
   "cell_type": "code",
   "execution_count": 74,
   "metadata": {},
   "outputs": [],
   "source": [
    "def preprocess_clean_text(text):    \n",
    "    # sacar tildes de las palabras\n",
    "    text = unicodedata.normalize('NFKD', text).encode('ascii', 'ignore').decode('utf-8', 'ignore')\n",
    "    # auitar los suscriptis\n",
    "    text = re.sub(\"[\\[].*?[\\]]\", \"\", text)\n",
    "    text = text.replace('\\u200b', '')\n",
    "    \n",
    "    # quitar caracteres especiales\n",
    "    text = re.sub(r'\\[[0-9]*\\]', ' ', text)\n",
    "    text = re.sub(r'\\s+', ' ', text)\n",
    "\n",
    "    return text\n"
   ]
  },
  {
   "cell_type": "markdown",
   "metadata": {},
   "source": [
    "### Aplicamos la limpieza y vemos el texto resultante"
   ]
  },
  {
   "cell_type": "code",
   "execution_count": 75,
   "metadata": {},
   "outputs": [],
   "source": [
    "text = preprocess_clean_text(article_text)"
   ]
  },
  {
   "cell_type": "code",
   "execution_count": 76,
   "metadata": {
    "id": "g7ycrAMYrn66"
   },
   "outputs": [
    {
     "data": {
      "text/plain": [
       "\"8 (en 5 ciudades) la copa mundial de futbol de la fifa catar 2022 (en arabe, 2022) sera la xxii edicion de la copa mundial de futbol masculino organizada por la fifa. esta edicion se realizara desde el 21 de noviembre al 18 de diciembre de 2022 en catar, que consiguio los derechos de organizacion el 2 de diciembre de 2010. esta sera la tercera vez que la copa del mundo de la fifa se disputara en el continente asiatico tras la copa mundial de futbol de 2002 en corea del sur y japon y el de rusia 2018 (aunque esta ultima contaba con una unica sede en territorio asiatico), y la primera que se celebra en asia occidental, dada la ubicacion euroasiatica de la que gozaba el anterior anfitrion: rusia. tambien por primera vez, el torneo tiene lugar en oriente proximo, en un pais arabe y de mayoria musulmana, asi como el de menor extension territorial. igualmente sera el mundial de mayor tiempo de espera desde 1950 respecto a su edicion anterior, ya que se desarrollara entre los meses de noviembre y diciembre de 2022, a diferencia de los meses habituales de junio y julio. de forma paralela sera la copa mundial de futbol mas corta desde 1978, pues durara solamente 28 dias a diferencia de los 32 dias habituales en los ultimos campeonatos. antes de que se hiciera oficial el nombre del pais que organizaria el mundial, la organizacion catari (encabezada por el frances zinedine zidane junto al entonces emir de catar hamad bin jalifa al thani) presento al futuro estadio iconico de lusail como sede del partido inaugural y de la final, entre otros encuentros. los paises del consejo de cooperacion del golfo (ccg) han dado su respaldo a que catar sea la sede del mundial de 2022, ante las criticas de corrupcion despertadas. una alianza con la federacion espanola de futbol que implico en particular al f. c. barcelona y al real madrid ya que los patrocinadores de ambos equipos son originarios de medio oriente fue una de las bases que permitio a catar obtener asi el apoyo de varios paises latinoamericanos y conseguir la candidatura para obtener el mundial de 2022. en 2011, joseph blatter anuncio que este mundial podria ser adelantado a enero de 2022 o postergado a noviembre del mismo ano, debido a que en catar en verano las temperaturas llegan a 50o c y asi podria protegerse a los futbolistas y a todos los relacionados con el mundial. los organizadores anunciaron que contarian con aire acondicionado en los estadios debido al clima arido calido, excesivamente caluroso en junio-julio. durante una sesion en zurich, se anuncio la reparticion de los 31 cupos de la siguiente manera: catar ha clasificado automaticamente como organizador. en abril de 2018, la conmebol solicito a la fifa que la copa mundial de catar 2022 cuente ya con 48 equipos participantes, lo cual esta previsto para la futura copa mundial de futbol de 2026. en julio del mismo ano, gianni infantino declaro que la decision pudiera estar en manos del comite organizador. el 16 de marzo de 2019 la fifa habia emitido un comunicado en el que afirmo la posibilidad de que el mundial de catar 2022 tuviera un total de 48 participantes. sin embargo, el 22 de mayo de 2019, en la reunion del consejo de la fifa, de forma oficial, finalmente se descarto la ampliacion por motivos logisticos, por no llegar a tiempo para la organizacion, lo que si estara listo para el proximo mundial de canada, estados unidos y mexico 2026. los primeros partidos de clasificacion se jugaron en junio de 2019 en asia, siendo el primero de estos, una victoria de mongolia ante brunei por 2-0, el 6 de junio de ese ano. en cursiva el unico equipo debutante. el sorteo de clasificacion se programo para julio de 2019; esto se cancelo posteriormente para permitir que cada confederacion realizara sus sorteos individuales para sus torneos de clasificacion. el sorteo final para definir los grupos de la copa mundial se realizo el 1 de abril de 2022 en doha, catar, junto con el 72. congreso de la fifa. la organizacion fue encargada al supremo comite para el desarrollo y legado, presidido por altos cargos cataries. catar hasta la actualidad confirmo ocho estadios en cinco ciudades para el mundial: al wakrah, doha, rayan, jor y lusail, todas ellas albergaran los 64 partidos de la copa mundial. de los ocho estadios solo el estadio internacional jalifa estaba totalmente terminado al momento de su eleccion como sede, el cual se encuentra reinaugurado luego de su remodelacion para poder albergar sus partidos. el estadio al bayt se comenzo a construir sobre el terreno del desaparecido estadio al khor. el estadio 974 sera el primer complejo deportivo totalmente desmontable y una vez finalizado el torneo sus partes seran donadas a los paises subdesarrollados. el estadio iconico de lusail donde se jugara el partido de apertura y el de la final se construye paralelamente a su ciudad homonima. las autoridades del pais arabe aseguraron que los estadios y las fan fest tendran climatizadores para ventilar el ambiente. la mascota oficial del mundial de catar 2022 es la'eeb que fue presentado el 1 de abril de 2022 en el sorteo para definir los grupos. el 1 de abril de 2022 se lanzo la cancion oficial del mundial llamado hayya hayya (better together) interpretado por el cantante estadounidense trinidad cardona con la participacion del icono del afrobeats davido y aisha. al rihla es el nombre oficial del balon para el torneo. la fifa, a traves de varias companias, vendio a diferentes paises del mundo los derechos de transmision. la fifa anuncio una lista de 36 arbitros, provenientes de las 6 confederaciones continentales. a ella deben sumarse 63 arbitros asistentes y los colegiados que formaran parte del equipo de videoarbitraje (var). por primera vez en una copa del mundo habra arbitras, seis fueron designadas por la fifa para esta edicion. se indica entre parentesis el numero de ediciones en que han participado anteriormente. la fifa anuncio una lista de 24 arbitros, provenientes de 5 de las 6 confederaciones continentales (conmebol, uefa, concacaf, caf y afc). se indica entre parentesis el numero de ediciones en que han participado anteriormente. la programacion de los partidos fue anunciada por la fifa el 15 de julio de 2020, el comite ejecutivo de la fifa anuncio la hora local de los partidos: el partido inaugural se jugara a las 13:00 y la final se jugara a las 18:00; los partidos correspondientes a las dos primeras fechas de la fase de grupos, a las 13:00, 16:00, 19:00 y 22:00; los partidos de la tercera fecha de la fase de grupos, los octavos y los cuartos de final, a las 18:00 y 22:00; las semifinales a las 22:00; el partido por el tercer puesto y la final a las 18:00. diversas agrupaciones y medios de comunicacion han expresado su preocupacion acerca de la idoneidad de catar para acoger el evento, debido a serios cuestionamientos sobre el respeto de los derechos humanos, particularmente en los casos de las condiciones laborales de los trabajadores y los derechos de la comunidad lgbt, ya que la homosexualidad se llega a condenar con pena de muerte, asi como a las acusaciones contra catar de apoyar el terrorismo islamista tanto diplomatica como financieramente. los funcionarios de la fifa han sido acusados de corrupcion y de aceptar que catar compro la copa del mundo. el tratamiento de los trabajadores de la construccion fue cuestionado por grupos defensores de los derechos humanos. las condiciones climaticas provocaron que algunos consideran inviable el organizar el torneo en este pais, en respuesta, se planeo implementar aire acondicionado en los estadios. joseph blatter, quien fuera presidente de la fifa cuando catar fue seleccionado, comento que adjudicar la copa del mundo fue un error debido al calor extremo. en un informe de la confederacion sindical internacional, fechado en 2015, se estimo que habria cerca de 7000 trabajadores muertos antes del inicio del mundial. fundacion internacional para la democracia estimo un total de 10 000 trabajadores migrantes muertos. amnistia internacional denuncio practicas de abuso y explotacion contra los trabajadores, especialmente migrantes, en la construccion de los estadios. se advirtio sobre casos de amenazas por quejas de las condiciones de vida, retraso en el pago de salarios y elevadas comisiones de contratacion. el diario the guardian, en un articulo publicado en febrero de 2021, revelo alrededor de 6.500 trabajadores migrantes muertos, aunque el numero total de muertos es significativamente mayor, ya que estas cifras no incluyen las muertes de varios paises que envian un gran numero de trabajadores a catar, incluidas filipinas y kenia. tampoco se incluyen las muertes ocurridas en los ultimos meses de 2020. amnistia internacional solicito al gobierno de catar respuestas sobre los fallecimientos de trabajadores migrantes. catar anuncio en mayo del 2021 una serie de medidas destinadas a proteger a los trabajadores del calor. sin embargo, a pesar de que se atribuyo la mayoria de las muertes a causas naturales esto deja sin explicacion alrededor del 70% de las muertes. \""
      ]
     },
     "execution_count": 76,
     "metadata": {},
     "output_type": "execute_result"
    }
   ],
   "source": [
    "text"
   ]
  },
  {
   "cell_type": "code",
   "execution_count": 77,
   "metadata": {
    "id": "PA5F0s4UsMpf"
   },
   "outputs": [
    {
     "name": "stdout",
     "output_type": "stream",
     "text": [
      "Cantidad de caracteres en el artículo es: 9063\n"
     ]
    }
   ],
   "source": [
    "print(\"Cantidad de caracteres en el artículo es:\", len(text))"
   ]
  },
  {
   "cell_type": "code",
   "execution_count": 78,
   "metadata": {},
   "outputs": [
    {
     "name": "stdout",
     "output_type": "stream",
     "text": [
      "Lista de caracteres del texto:  ['g', 'q', 't', '6', ';', \"'\", '5', 'p', 'c', '1', ':', '7', 'n', 'h', '3', 'm', 'f', ')', '2', 'a', 'x', 's', 'r', '.', ',', ' ', 'y', '%', 'w', '4', '-', 'k', 'd', 'v', 'b', '8', 'o', 'l', 'u', 'e', 'i', 'j', '9', '0', '(', 'z']\n"
     ]
    }
   ],
   "source": [
    "lista_caracteres = list(set(text))\n",
    "print(\"Lista de caracteres del texto: \",lista_caracteres)"
   ]
  },
  {
   "cell_type": "code",
   "execution_count": 79,
   "metadata": {},
   "outputs": [
    {
     "data": {
      "text/plain": [
       "['8 (en 5 ciudades) la copa mundial de futbol de la fifa catar 2022 (en arabe, 2022) sera la xxii edicion de la copa mundial de futbol masculino organizada por la fifa.',\n",
       " 'esta edicion se realizara desde el 21 de noviembre al 18 de diciembre de 2022 en catar, que consiguio los derechos de organizacion el 2 de diciembre de 2010. esta sera la tercera vez que la copa del mundo de la fifa se disputara en el continente asiatico tras la copa mundial de futbol de 2002 en corea del sur y japon y el de rusia 2018 (aunque esta ultima contaba con una unica sede en territorio asiatico), y la primera que se celebra en asia occidental, dada la ubicacion euroasiatica de la que gozaba el anterior anfitrion: rusia.',\n",
       " 'tambien por primera vez, el torneo tiene lugar en oriente proximo, en un pais arabe y de mayoria musulmana, asi como el de menor extension territorial.',\n",
       " 'igualmente sera el mundial de mayor tiempo de espera desde 1950 respecto a su edicion anterior, ya que se desarrollara entre los meses de noviembre y diciembre de 2022, a diferencia de los meses habituales de junio y julio.',\n",
       " 'de forma paralela sera la copa mundial de futbol mas corta desde 1978, pues durara solamente 28 dias a diferencia de los 32 dias habituales en los ultimos campeonatos.',\n",
       " 'antes de que se hiciera oficial el nombre del pais que organizaria el mundial, la organizacion catari (encabezada por el frances zinedine zidane junto al entonces emir de catar hamad bin jalifa al thani) presento al futuro estadio iconico de lusail como sede del partido inaugural y de la final, entre otros encuentros.',\n",
       " 'los paises del consejo de cooperacion del golfo (ccg) han dado su respaldo a que catar sea la sede del mundial de 2022, ante las criticas de corrupcion despertadas.',\n",
       " 'una alianza con la federacion espanola de futbol que implico en particular al f. c. barcelona y al real madrid ya que los patrocinadores de ambos equipos son originarios de medio oriente fue una de las bases que permitio a catar obtener asi el apoyo de varios paises latinoamericanos y conseguir la candidatura para obtener el mundial de 2022. en 2011, joseph blatter anuncio que este mundial podria ser adelantado a enero de 2022 o postergado a noviembre del mismo ano, debido a que en catar en verano las temperaturas llegan a 50o c y asi podria protegerse a los futbolistas y a todos los relacionados con el mundial.',\n",
       " 'los organizadores anunciaron que contarian con aire acondicionado en los estadios debido al clima arido calido, excesivamente caluroso en junio-julio.',\n",
       " 'durante una sesion en zurich, se anuncio la reparticion de los 31 cupos de la siguiente manera: catar ha clasificado automaticamente como organizador.',\n",
       " 'en abril de 2018, la conmebol solicito a la fifa que la copa mundial de catar 2022 cuente ya con 48 equipos participantes, lo cual esta previsto para la futura copa mundial de futbol de 2026. en julio del mismo ano, gianni infantino declaro que la decision pudiera estar en manos del comite organizador.',\n",
       " 'el 16 de marzo de 2019 la fifa habia emitido un comunicado en el que afirmo la posibilidad de que el mundial de catar 2022 tuviera un total de 48 participantes.',\n",
       " 'sin embargo, el 22 de mayo de 2019, en la reunion del consejo de la fifa, de forma oficial, finalmente se descarto la ampliacion por motivos logisticos, por no llegar a tiempo para la organizacion, lo que si estara listo para el proximo mundial de canada, estados unidos y mexico 2026. los primeros partidos de clasificacion se jugaron en junio de 2019 en asia, siendo el primero de estos, una victoria de mongolia ante brunei por 2-0, el 6 de junio de ese ano.',\n",
       " 'en cursiva el unico equipo debutante.',\n",
       " 'el sorteo de clasificacion se programo para julio de 2019; esto se cancelo posteriormente para permitir que cada confederacion realizara sus sorteos individuales para sus torneos de clasificacion.',\n",
       " 'el sorteo final para definir los grupos de la copa mundial se realizo el 1 de abril de 2022 en doha, catar, junto con el 72. congreso de la fifa.',\n",
       " 'la organizacion fue encargada al supremo comite para el desarrollo y legado, presidido por altos cargos cataries.',\n",
       " 'catar hasta la actualidad confirmo ocho estadios en cinco ciudades para el mundial: al wakrah, doha, rayan, jor y lusail, todas ellas albergaran los 64 partidos de la copa mundial.',\n",
       " 'de los ocho estadios solo el estadio internacional jalifa estaba totalmente terminado al momento de su eleccion como sede, el cual se encuentra reinaugurado luego de su remodelacion para poder albergar sus partidos.',\n",
       " 'el estadio al bayt se comenzo a construir sobre el terreno del desaparecido estadio al khor.',\n",
       " 'el estadio 974 sera el primer complejo deportivo totalmente desmontable y una vez finalizado el torneo sus partes seran donadas a los paises subdesarrollados.',\n",
       " 'el estadio iconico de lusail donde se jugara el partido de apertura y el de la final se construye paralelamente a su ciudad homonima.',\n",
       " 'las autoridades del pais arabe aseguraron que los estadios y las fan fest tendran climatizadores para ventilar el ambiente.',\n",
       " \"la mascota oficial del mundial de catar 2022 es la'eeb que fue presentado el 1 de abril de 2022 en el sorteo para definir los grupos.\",\n",
       " 'el 1 de abril de 2022 se lanzo la cancion oficial del mundial llamado hayya hayya (better together) interpretado por el cantante estadounidense trinidad cardona con la participacion del icono del afrobeats davido y aisha.',\n",
       " 'al rihla es el nombre oficial del balon para el torneo.',\n",
       " 'la fifa, a traves de varias companias, vendio a diferentes paises del mundo los derechos de transmision.',\n",
       " 'la fifa anuncio una lista de 36 arbitros, provenientes de las 6 confederaciones continentales.',\n",
       " 'a ella deben sumarse 63 arbitros asistentes y los colegiados que formaran parte del equipo de videoarbitraje (var).',\n",
       " 'por primera vez en una copa del mundo habra arbitras, seis fueron designadas por la fifa para esta edicion.',\n",
       " 'se indica entre parentesis el numero de ediciones en que han participado anteriormente.',\n",
       " 'la fifa anuncio una lista de 24 arbitros, provenientes de 5 de las 6 confederaciones continentales (conmebol, uefa, concacaf, caf y afc).',\n",
       " 'se indica entre parentesis el numero de ediciones en que han participado anteriormente.',\n",
       " 'la programacion de los partidos fue anunciada por la fifa el 15 de julio de 2020, el comite ejecutivo de la fifa anuncio la hora local de los partidos: el partido inaugural se jugara a las 13:00 y la final se jugara a las 18:00; los partidos correspondientes a las dos primeras fechas de la fase de grupos, a las 13:00, 16:00, 19:00 y 22:00; los partidos de la tercera fecha de la fase de grupos, los octavos y los cuartos de final, a las 18:00 y 22:00; las semifinales a las 22:00; el partido por el tercer puesto y la final a las 18:00. diversas agrupaciones y medios de comunicacion han expresado su preocupacion acerca de la idoneidad de catar para acoger el evento, debido a serios cuestionamientos sobre el respeto de los derechos humanos, particularmente en los casos de las condiciones laborales de los trabajadores y los derechos de la comunidad lgbt, ya que la homosexualidad se llega a condenar con pena de muerte, asi como a las acusaciones contra catar de apoyar el terrorismo islamista tanto diplomatica como financieramente.',\n",
       " 'los funcionarios de la fifa han sido acusados de corrupcion y de aceptar que catar compro la copa del mundo.',\n",
       " 'el tratamiento de los trabajadores de la construccion fue cuestionado por grupos defensores de los derechos humanos.',\n",
       " 'las condiciones climaticas provocaron que algunos consideran inviable el organizar el torneo en este pais, en respuesta, se planeo implementar aire acondicionado en los estadios.',\n",
       " 'joseph blatter, quien fuera presidente de la fifa cuando catar fue seleccionado, comento que adjudicar la copa del mundo fue un error debido al calor extremo.',\n",
       " 'en un informe de la confederacion sindical internacional, fechado en 2015, se estimo que habria cerca de 7000 trabajadores muertos antes del inicio del mundial.',\n",
       " 'fundacion internacional para la democracia estimo un total de 10 000 trabajadores migrantes muertos.',\n",
       " 'amnistia internacional denuncio practicas de abuso y explotacion contra los trabajadores, especialmente migrantes, en la construccion de los estadios.',\n",
       " 'se advirtio sobre casos de amenazas por quejas de las condiciones de vida, retraso en el pago de salarios y elevadas comisiones de contratacion.',\n",
       " 'el diario the guardian, en un articulo publicado en febrero de 2021, revelo alrededor de 6.500 trabajadores migrantes muertos, aunque el numero total de muertos es significativamente mayor, ya que estas cifras no incluyen las muertes de varios paises que envian un gran numero de trabajadores a catar, incluidas filipinas y kenia.',\n",
       " 'tampoco se incluyen las muertes ocurridas en los ultimos meses de 2020. amnistia internacional solicito al gobierno de catar respuestas sobre los fallecimientos de trabajadores migrantes.',\n",
       " 'catar anuncio en mayo del 2021 una serie de medidas destinadas a proteger a los trabajadores del calor.',\n",
       " 'sin embargo, a pesar de que se atribuyo la mayoria de las muertes a causas naturales esto deja sin explicacion alrededor del 70% de las muertes.']"
      ]
     },
     "execution_count": 79,
     "metadata": {},
     "output_type": "execute_result"
    }
   ],
   "source": [
    "# Generamos el corpus para ver el listado de documentos generados a partir de nuestro artículo\n",
    "corpus = nltk.sent_tokenize(text)\n",
    "corpus"
   ]
  },
  {
   "cell_type": "markdown",
   "metadata": {
    "id": "NlYKyb3OtDse"
   },
   "source": [
    "## 4 - Definimos la funcion para el procesamiento completo del texto mediante spaCy\n",
    "- Tokenization → Lemmatization → Remove stopwords → Remove punctuation\n",
    "- Quitar símbolos de puntuación"
   ]
  },
  {
   "cell_type": "code",
   "execution_count": 80,
   "metadata": {},
   "outputs": [],
   "source": [
    "def get_processed_text(text):\n",
    "    doc = nlp(text)\n",
    "    \n",
    "    # Tokenization y lemmatization\n",
    "    lemma_list = []\n",
    "    for token in doc:\n",
    "        lemma_list.append(token.lemma_)\n",
    "    \n",
    "    # Filtrado de stop words\n",
    "    filtered_sentence =[]\n",
    "    for word in lemma_list:\n",
    "        lexeme = nlp.vocab[word]\n",
    "        if lexeme.is_stop == False:\n",
    "            filtered_sentence.append(word) \n",
    "    \n",
    "    # Filtrado de puntuacion\n",
    "    puntuacion = string.punctuation + \"¿¡\"\n",
    "    filtered_sentence = [w for w in filtered_sentence if w not in puntuacion]\n",
    "\n",
    "    return filtered_sentence"
   ]
  },
  {
   "cell_type": "markdown",
   "metadata": {},
   "source": [
    "### Visualizamos como hace scapy el procesamiento\n",
    "SI bien esta función se uitiliza luego dentro del cálculo del vector TF-IDF, ejecutamos el pipeline para ver el resultado obtenido por spacy en el procesamiento del artículo"
   ]
  },
  {
   "cell_type": "code",
   "execution_count": 81,
   "metadata": {},
   "outputs": [],
   "source": [
    "filtradas = get_processed_text(text)"
   ]
  },
  {
   "cell_type": "code",
   "execution_count": 82,
   "metadata": {},
   "outputs": [
    {
     "name": "stdout",
     "output_type": "stream",
     "text": [
      "Palabras resultantes del procesamiento:\n",
      " ['8', '5', 'ciudad', 'copa', 'mundial', 'futbol', 'fifa', 'catar', '2022', 'arabe', '2022', 'xxii', 'edicion', 'copa', 'mundial', 'futbol', 'masculino', 'organizado', 'fifa', 'edicion', '21', 'noviembre', '18', 'diciembre', '2022', 'catar', 'derecho', 'organizacion', '2', 'diciembre', '2010', 'copa', 'mundo', 'fifa', 'disputar', 'continente', 'asiatico', 'copa', 'mundial', 'futbol', '2002', 'corea', 'sur', 'japon', 'rusia', '2018', 'ultima', 'contar', 'unico', 'sede', 'territorio', 'asiatico', 'celebrar', 'asia', 'occidental', 'ubicacion', 'euroasiatico', 'gozar', 'anfitrion', 'rusia', 'torneo', 'lugar', 'oriente', 'pais', 'arabe', 'mayoria', 'musulmán', 'asar', 'menor', 'extension', 'territorial', 'igualmente', 'mundial', 'tiempo', 'espera', '1950', 'edicion', 'desarrollar', 'mes', 'noviembre', 'diciembre', '2022', 'diferencia', 'mes', 'habitual', 'junio', 'julio', 'forma', 'paralelo', 'copa', 'mundial', 'futbol', 'corto', '1978', 'durar', '28', 'diferencia', '32', 'habitual', 'campeonato', 'oficial', 'nombre', 'pais', 'organizar', 'mundial', 'organizacion', 'catari', 'encabezado', 'france', 'zinedine', 'zidane', 'emir', 'catar', 'hamad', 'bin', 'jalifa', 'thani', 'presentar', 'futuro', 'estadio', 'iconico', 'lusail', 'sede', 'partido', 'inaugural', 'encuentro', 'pais', 'consejo', 'cooperacion', 'golfo', 'ccg', 'respaldo', 'catar', 'sede', 'mundial', '2022', 'critica', 'corrupcion', 'despertado', 'alianza', 'federacion', 'espanol', 'futbol', 'implicar', 'particular', 'f.', 'c.', 'barcelono', 'real', 'madrid', 'patrocinador', 'equipo', 'originario', 'oriente', 'base', 'permitir', 'catar', 'obtener', 'apoyo', 'pais', 'latinoamericano', 'candidatura', 'obtener', 'mundial', '2022', '2011', 'joseph', 'blatter', 'anuncio', 'mundial', 'adelantar', 'enero', '2022', 'postergado', 'noviembre', 'ano', 'catar', 'verano', 'temperatura', 'llegar', '50o', 'c', 'proteger', 'futbolista', 'relacionado', 'mundial', 'organizador', 'anunciar', 'contariar', 'aire', 'acondicionado', 'estadio', 'clima', 'arido', 'calido', 'excesivamente', 'caluroso', 'junio-julio', 'sesion', 'zurich', 'anuncio', 'reparticion', '31', 'cupo', 'catar', 'clasificado', 'automaticamente', 'organizador', 'abril', '2018', 'conmebol', 'solicitar', 'fifa', 'copa', 'mundial', 'catar', '2022', 'contar', '48', 'equipo', 'participante', 'previsto', 'futuro', 'copa', 'mundial', 'futbol', '2026', 'julio', 'ano', 'gianni', 'infantino', 'declarar', 'decision', 'mano', 'comite', 'organizador', '16', 'marzo', '2019', 'fifa', 'emitir', 'comunicado', 'afirmar', 'posibilidad', 'mundial', 'catar', '2022', '48', 'participante', '22', 'mayo', '2019', 'reunion', 'consejo', 'fifa', 'forma', 'oficial', 'finalmente', 'descartar', 'ampliacion', 'motivo', 'logistico', 'llegar', 'tiempo', 'organizacion', 'listo', 'mundial', 'canada', 'unido', 'mexico', '2026', 'partido', 'clasificacion', 'jugar', 'junio', '2019', 'asia', 'victoria', 'mongolia', 'brunei', '2-0', '6', 'junio', 'ano', 'cursiva', 'unico', 'equipo', 'debutante', 'sorteo', 'clasificacion', 'prograr', 'julio', '2019', 'cancelar', 'posteriormente', 'permitir', 'confederacion', 'sorteo', 'individual', 'torneo', 'clasificacion', 'sorteo', 'definir', 'grupo', 'copa', 'mundial', '1', 'abril', '2022', 'doha', 'catar', '72.', 'congreso', 'fifa', 'organizacion', 'encargada', 'supremo', 'comite', 'desarrollo', 'legado', 'presidido', 'alto', 'cargo', 'catarie', 'catar', 'actualidad', 'confirmar', 'estadio', 'ciudad', 'mundial', 'wakrah', 'doha', 'raer', 'jor', 'lusail', 'albergar', '64', 'partido', 'copa', 'mundial', 'estadio', 'estadio', 'internacional', 'jalifo', 'totalmente', 'terminar', 'momento', 'eleccion', 'sede', 'encontrar', 'reinaugurado', 'remodelacion', 'albergar', 'partido', 'estadio', 'bayt', 'comer', 'construir', 'terreno', 'desaparecido', 'estadio', 'khor', 'estadio', '974', 'complejo', 'deportivo', 'totalmente', 'desmontable', 'finalizar', 'torneo', 'donar', 'pais', 'subdesarrollado', 'estadio', 'iconico', 'lusail', 'jugar', 'partido', 'apertura', 'construir', 'paralelamente', 'ciudad', 'homonimo', 'autoridad', 'pais', 'arabe', 'asegurar', 'estadio', 'fan', 'fest', 'climatizador', 'ventilar', 'ambiente', 'mascota', 'oficial', 'mundial', 'catar', '2022', \"la'eeb\", 'presentar', '1', 'abril', '2022', 'sorteo', 'definir', 'grupo', '1', 'abril', '2022', 'lanzar', 'cancion', 'oficial', 'mundial', 'llamado', 'hayya', 'hayya', 'better', 'together', 'interpretado', 'cantante', 'estadounidense', 'trinidad', 'cardono', 'participacion', 'icono', 'afrobeat', 'davido', 'aisho', 'rihla', 'nombre', 'oficial', 'balon', 'torneo', 'fifa', 'trave', 'compania', 'vender', 'pais', 'mundo', 'derecho', 'transmision', 'fifa', 'anuncio', 'lista', '36', 'arbitro', 'proveniente', '6', 'confederación', 'continental', 'deber', 'sumar', '63', 'arbitro', 'asistente', 'colegiado', 'formar', 'equipo', 'videoarbitraje', 'var', 'copa', 'mundo', 'arbitro', 'designar', 'fifa', 'edicion', 'indicar', 'parentesis', 'numero', 'edición', 'participar', 'anteriormente', 'fifa', 'anuncio', 'lista', '24', 'arbitro', 'proveniente', '5', '6', 'confederación', 'continental', 'conmebol', 'uefa', 'concacaf', 'caf', 'afc', 'indicar', 'parentesis', 'numero', 'edición', 'participar', 'anteriormente', 'programacion', 'partido', 'anunciado', 'fifa', '15', 'julio', '2020', 'comite', 'ejecutivo', 'fifa', 'anuncio', 'hora', 'local', 'partido', 'partido', 'inaugural', 'jugar', '13:00', 'jugar', '18:00', 'partido', 'correspondiente', 'fecha', 'fase', 'grupo', '13:00', '16:00', '19:00', '22:00', 'partido', 'fecha', 'fase', 'grupo', 'octavo', 'cuarto', '18:00', '22:00', 'semifinal', '22:00', 'partido', 'puesto', '18:00', 'diverso', 'agrupación', 'comunicacion', 'expresar', 'preocupacion', 'acerca', 'idoneidad', 'catar', 'acoger', 'evento', 'serio', 'cuestionamiento', 'respeto', 'derecho', 'humanos', 'particularmente', 'caso', 'condición', 'laboral', 'trabajador', 'derecho', 'comunidad', 'lgbt', 'homosexualidad', 'llegar', 'condenar', 'pena', 'muerte', 'asar', 'acusación', 'catar', 'apoyar', 'terrorismo', 'islamista', 'diplomatico', 'financieramente', 'funcionario', 'fifa', 'acusado', 'corrupcion', 'aceptar', 'catar', 'comprar', 'copa', 'mundo', 'tratamiento', 'trabajador', 'construccion', 'cuestionar', 'grupo', 'defensor', 'derecho', 'humanos', 'condición', 'climatico', 'provocar', 'considerar', 'inviable', 'organizar', 'torneo', 'pais', 'respuesta', 'planear', 'implementar', 'aire', 'acondicionado', 'estadio', 'joseph', 'blatter', 'presidente', 'fifa', 'catar', 'seleccionar', 'comentar', 'adjudicar', 'copa', 'mundo', 'error', 'calor', 'extremo', 'informe', 'confederacion', 'sindical', 'internacional', 'fechado', '2015', 'cerca', '7000', 'trabajador', 'muerto', 'inicio', 'mundial', 'fundacion', 'internacional', 'democracia', '10', '000', 'trabajador', 'migrante', 'muerto', 'amnistia', 'internacional', 'denunciar', 'practica', 'abuso', 'explotacion', 'trabajador', 'especialmente', 'migrante', 'construccion', 'estadio', 'advertir', 'caso', 'amenaza', 'queja', 'condición', 'vida', 'retraso', 'pago', 'salario', 'elevado', 'comisión', 'contratacion', 'diario', 'the', 'guardian', 'articulo', 'publicado', 'febrero', '2021', 'revelar', '6500', 'trabajador', 'migrante', 'muerto', 'numero', 'muerto', 'significativamente', 'cifra', 'incluir', 'muerte', 'pais', 'enviar', 'numero', 'trabajador', 'catar', 'incluir', 'filipino', 'kenia', 'incluir', 'muerte', 'ocurrido', 'mes', '2020', 'amnistia', 'internacional', 'solicitar', 'gobierno', 'catar', 'respuesta', 'fallecimiento', 'trabajador', 'migrante', 'catar', 'anuncio', 'mayo', '2021', 'serie', 'medida', 'destinado', 'proteger', 'trabajador', 'calor', 'atribir', 'mayoria', 'muerte', 'causa', 'natural', 'dejar', 'explicacion', '70', 'muerte']\n"
     ]
    }
   ],
   "source": [
    "print(\"Palabras resultantes del procesamiento:\\n\",filtradas)"
   ]
  },
  {
   "cell_type": "markdown",
   "metadata": {},
   "source": [
    "## 5- Definimos nuestra función de cálculo del vector de TF-IDF\n",
    "Vamos a utilziar las stop words en español provistas por spacy"
   ]
  },
  {
   "cell_type": "code",
   "execution_count": 83,
   "metadata": {},
   "outputs": [],
   "source": [
    "from spacy.lang.es.stop_words import STOP_WORDS as STOP_WORDS_spacy\n",
    "spacy_stopwords = STOP_WORDS_spacy"
   ]
  },
  {
   "cell_type": "code",
   "execution_count": 84,
   "metadata": {
    "id": "IRYFHcBfk2Gt"
   },
   "outputs": [],
   "source": [
    "from sklearn.feature_extraction.text import TfidfVectorizer\n",
    "from sklearn.metrics.pairwise import cosine_similarity\n",
    "\n",
    "def generate_response(user_input, corpus):\n",
    "    response = ''\n",
    "    # Sumar al corpus la pregunta del usuario para calcular\n",
    "    # su cercania con otros documentos/sentencias\n",
    "    corpus.append(user_input)\n",
    "\n",
    "    # Creamos un vectorizar TFIDF que quite las \"stop words\" en epañol y \n",
    "    # nuestra funcion para obtener los tokens lematizados \"get_processed_text\"\n",
    "    word_vectorizer = TfidfVectorizer(tokenizer=get_processed_text, stop_words=spacy_stopwords)\n",
    "\n",
    "    # Crear los vectores a partir del corpus\n",
    "    all_word_vectors = word_vectorizer.fit_transform(corpus)\n",
    "\n",
    "    # Calcular la similitud coseno entre todas los documentos excepto el agregado (el útlimo \"-1\")\n",
    "    similar_vector_values = cosine_similarity(all_word_vectors[-1], all_word_vectors)\n",
    "\n",
    "    # Obtener el índice del vector más cercano a nuestra oración\n",
    "    # --> descartando la similitud contra nuestor vector propio\n",
    "    similar_sentence_number = similar_vector_values.argsort()[0][-2]\n",
    "    matched_vector = similar_vector_values.flatten()\n",
    "    matched_vector.sort()\n",
    "    vector_matched = matched_vector[-2]\n",
    "\n",
    "    if vector_matched == 0:\n",
    "        response = \"Lo siento. No puedo entenderte. Prueba con otra consulta\"\n",
    "    else:\n",
    "        response = corpus[similar_sentence_number]\n",
    "    \n",
    "    corpus.remove(user_input)\n",
    "    return response"
   ]
  },
  {
   "cell_type": "markdown",
   "metadata": {
    "id": "OK-BuXPBybSp"
   },
   "source": [
    "## 6 - Ensayamos el sistema\n",
    "El sistema intentará encontrar la parte del artículo que más se relaciona con nuestro texto de entrada. \n",
    "\n",
    "Las sugerencias a ensayar y probadas son:\n",
    "\n",
    "- mascota\n",
    "- estadio\n",
    "- balon\n",
    "- cancion\n",
    "- corrupcion\n",
    "- basquet"
   ]
  },
  {
   "cell_type": "code",
   "execution_count": 85,
   "metadata": {},
   "outputs": [
    {
     "name": "stdout",
     "output_type": "stream",
     "text": [
      "Pregunta:  ¿cual es la mascota del mundial?\n",
      "\n",
      "Respuesta:  la mascota oficial del mundial de catar 2022 es la'eeb que fue presentado el 1 de abril de 2022 en el sorteo para definir los grupos.\n"
     ]
    }
   ],
   "source": [
    "pregunta = \"¿cual es la mascota del mundial?\" \n",
    "resp = generate_response(pregunta,corpus)\n",
    "print(\"Pregunta: \",pregunta)\n",
    "print(\"\\nRespuesta: \",resp)"
   ]
  },
  {
   "cell_type": "code",
   "execution_count": 86,
   "metadata": {},
   "outputs": [
    {
     "name": "stdout",
     "output_type": "stream",
     "text": [
      "Pregunta:  ¿cual es el nombre del balon del mundial?\n",
      "\n",
      "Respuesta:  al rihla es el nombre oficial del balon para el torneo.\n"
     ]
    }
   ],
   "source": [
    "pregunta = \"¿cual es el nombre del balon del mundial?\"\n",
    "resp = generate_response(pregunta,corpus)\n",
    "print(\"Pregunta: \",pregunta)\n",
    "print(\"\\nRespuesta: \",resp)"
   ]
  },
  {
   "cell_type": "code",
   "execution_count": 87,
   "metadata": {},
   "outputs": [
    {
     "name": "stdout",
     "output_type": "stream",
     "text": [
      "Pregunta:  ¿donde se realiza el mundial?\n",
      "\n",
      "Respuesta:  catar hasta la actualidad confirmo ocho estadios en cinco ciudades para el mundial: al wakrah, doha, rayan, jor y lusail, todas ellas albergaran los 64 partidos de la copa mundial.\n"
     ]
    }
   ],
   "source": [
    "pregunta = \"¿donde se realiza el mundial?\"\n",
    "resp = generate_response(pregunta,corpus)\n",
    "print(\"Pregunta: \",pregunta)\n",
    "print(\"\\nRespuesta: \",resp)"
   ]
  },
  {
   "cell_type": "code",
   "execution_count": 88,
   "metadata": {},
   "outputs": [
    {
     "name": "stdout",
     "output_type": "stream",
     "text": [
      "Pregunta:  ¿Cual es la cancion oficial?\n",
      "\n",
      "Respuesta:  el 1 de abril de 2022 se lanzo la cancion oficial del mundial llamado hayya hayya (better together) interpretado por el cantante estadounidense trinidad cardona con la participacion del icono del afrobeats davido y aisha.\n"
     ]
    }
   ],
   "source": [
    "pregunta = \"¿Cual es la cancion oficial?\"\n",
    "resp = generate_response(pregunta,corpus)\n",
    "print(\"Pregunta: \",pregunta)\n",
    "print(\"\\nRespuesta: \",resp)"
   ]
  },
  {
   "cell_type": "code",
   "execution_count": 56,
   "metadata": {},
   "outputs": [
    {
     "name": "stdout",
     "output_type": "stream",
     "text": [
      "amnistia internacional denuncio practicas de abuso y explotacion contra los trabajadores, especialmente migrantes, en la construccion de los estadios.\n"
     ]
    }
   ],
   "source": [
    "pregunta = \"¿que repercusiones hubo sobre las condiciones laborales en la construccion de los estadios?\"\n",
    "resp = generate_response(pregunta,corpus)\n",
    "print(\"Pregunta: \",pregunta)\n",
    "print(\"\\nRespuesta: \",resp)"
   ]
  },
  {
   "cell_type": "code",
   "execution_count": 91,
   "metadata": {},
   "outputs": [
    {
     "name": "stdout",
     "output_type": "stream",
     "text": [
      "Pregunta:  ¿Que información tenes del partido inaugural?\n",
      "\n",
      "Respuesta:  la programacion de los partidos fue anunciada por la fifa el 15 de julio de 2020, el comite ejecutivo de la fifa anuncio la hora local de los partidos: el partido inaugural se jugara a las 13:00 y la final se jugara a las 18:00; los partidos correspondientes a las dos primeras fechas de la fase de grupos, a las 13:00, 16:00, 19:00 y 22:00; los partidos de la tercera fecha de la fase de grupos, los octavos y los cuartos de final, a las 18:00 y 22:00; las semifinales a las 22:00; el partido por el tercer puesto y la final a las 18:00. diversas agrupaciones y medios de comunicacion han expresado su preocupacion acerca de la idoneidad de catar para acoger el evento, debido a serios cuestionamientos sobre el respeto de los derechos humanos, particularmente en los casos de las condiciones laborales de los trabajadores y los derechos de la comunidad lgbt, ya que la homosexualidad se llega a condenar con pena de muerte, asi como a las acusaciones contra catar de apoyar el terrorismo islamista tanto diplomatica como financieramente.\n"
     ]
    }
   ],
   "source": [
    "pregunta = \"¿Que información tenes del partido inaugural?\"\n",
    "resp = generate_response(pregunta,corpus)\n",
    "print(\"Pregunta: \",pregunta)\n",
    "print(\"\\nRespuesta: \",resp)"
   ]
  },
  {
   "cell_type": "code",
   "execution_count": 92,
   "metadata": {},
   "outputs": [
    {
     "name": "stdout",
     "output_type": "stream",
     "text": [
      "Pregunta:  ¿Es importante el basket en quatar?\n",
      "\n",
      "Respuesta:  Lo siento. No puedo entenderte. Prueba con otra consulta\n"
     ]
    }
   ],
   "source": [
    "pregunta = \"¿Es importante el basket en quatar?\"\n",
    "resp = generate_response(pregunta,corpus)\n",
    "print(\"Pregunta: \",pregunta)\n",
    "print(\"\\nRespuesta: \",resp)"
   ]
  },
  {
   "cell_type": "markdown",
   "metadata": {},
   "source": [
    "## 7 - (Opcional) Codigo para pruebas utilizando gradio\n",
    "A continuación se deja el código que se puede utilizar para testear el bot utilizando gradio"
   ]
  },
  {
   "cell_type": "code",
   "execution_count": null,
   "metadata": {
    "id": "Z2X4j8XyydSb"
   },
   "outputs": [],
   "source": [
    "import sys\n",
    "!{sys.executable} -m pip install gradio --quiet"
   ]
  },
  {
   "cell_type": "code",
   "execution_count": null,
   "metadata": {
    "id": "SZv5MiVzynG1"
   },
   "outputs": [],
   "source": [
    "import gradio as gr\n",
    "\n",
    "def bot_response(human_text):\n",
    "    print(human_text)\n",
    "    return generate_response(human_text.lower(), corpus)\n",
    "\n",
    "iface = gr.Interface(\n",
    "    fn=bot_response,\n",
    "    inputs=[\"textbox\"],\n",
    "    outputs=\"text\",\n",
    "    layout=\"vertical\")\n",
    "\n",
    "iface.launch(debug=True)"
   ]
  },
  {
   "cell_type": "markdown",
   "metadata": {},
   "source": [
    "## 8 - Conclusiones\n",
    "\n",
    "* Se logró generar un bot basándose en un documento HTML de Wikipedia y el vector TD-IDF.\n",
    "* Se utilizó spacy junto a los diccionarios en español provistos por spacy_stanza. EL idioma español es más complejo para preprocesar que el idioma ingles, debido a los acentos y mayor cantidad de signos de puntuación, además de la complejidad de algunas palabras irregulares del lenguaje.\n",
    "* Es muy importante conocer el texto y formato del mismo para lograr un buen pre-procesmiento del documento. En lo particular de nuestro caso había tags HTML y caracteres especiales que eran necesarios preprocesar para evitar errores en el procesmiento y lemmatización del texto.\n",
    "* El texto de wikipedia no es la mejor opción debido al uso de tablas y otros elementos HTML que hacen más complejo el procesamiento. En una prueba aparte se sumaron los datos de las tablas al procesamiento, pero no se obtuvieron resultados mejores en las consultas realizadas. Habia información como los equipos por grupo y paises participantes que si se puedo consultar al agregar las tablas y un preprocesaado de los datos de las mismas, pero haciendo varios ajustes sobre la jerarquía de tags.\n",
    "\n",
    "Para este último caso se debe filtrar el HTML utilizando el código \n",
    "        <code>article_paragraphs = article_html.find_all(['p','table'])</code> y filtrando algunos caracteres extras que aparecen en el código\n",
    "        \n",
    "     \n"
   ]
  },
  {
   "cell_type": "code",
   "execution_count": null,
   "metadata": {},
   "outputs": [],
   "source": []
  }
 ],
 "metadata": {
  "colab": {
   "collapsed_sections": [],
   "name": "2c - bot_tfidf_nltk.ipynb",
   "provenance": []
  },
  "kernelspec": {
   "display_name": "Python 3 (ipykernel)",
   "language": "python",
   "name": "python3"
  },
  "language_info": {
   "codemirror_mode": {
    "name": "ipython",
    "version": 3
   },
   "file_extension": ".py",
   "mimetype": "text/x-python",
   "name": "python",
   "nbconvert_exporter": "python",
   "pygments_lexer": "ipython3",
   "version": "3.9.12"
  }
 },
 "nbformat": 4,
 "nbformat_minor": 4
}
