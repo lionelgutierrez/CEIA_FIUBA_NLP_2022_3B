{
  "cells": [
    {
      "cell_type": "markdown",
      "metadata": {
        "id": "pfa39F4lsLf3"
      },
      "source": [
        "<img src=\"https://github.com/hernancontigiani/ceia_memorias_especializacion/raw/master/Figures/logoFIUBA.jpg\" width=\"500\" align=\"center\">\n",
        "\n",
        "\n",
        "# Procesamiento de lenguaje natural\n",
        "## LSTM Bot QA"
      ]
    },
    {
      "cell_type": "markdown",
      "metadata": {
        "id": "ZqO0PRcFsPTe"
      },
      "source": [
        "### Datos\n",
        "El objecto es utilizar datos disponibles de convai de conversaciones en ingleś. Se construirá un BOT para responder a preguntas del usuario (QA).\\\n",
        "[LINK](http://convai.io/data/)"
      ]
    },
    {
      "cell_type": "code",
      "execution_count": 1,
      "metadata": {
        "id": "bDFC0I3j9oFD"
      },
      "outputs": [],
      "source": [
        "!pip install --upgrade --no-cache-dir gdown --quiet"
      ]
    },
    {
      "cell_type": "markdown",
      "source": [
        "#### Importamos las librerias necesarias"
      ],
      "metadata": {
        "id": "KS1RqBIlnkHZ"
      }
    },
    {
      "cell_type": "code",
      "execution_count": 2,
      "metadata": {
        "id": "cq3YXak9sGHd"
      },
      "outputs": [],
      "source": [
        "import re\n",
        "\n",
        "import numpy as np\n",
        "import pandas as pd\n",
        "\n",
        "import os\n",
        "import gdown\n",
        "\n",
        "import keras\n",
        "from keras.preprocessing.text import one_hot\n",
        "from keras.preprocessing.sequence import pad_sequences\n",
        "from keras.models import Sequential\n",
        "from keras.layers.core import Activation, Dropout, Dense\n",
        "from keras.layers import Flatten, LSTM, SimpleRNN\n",
        "from keras.models import Model\n",
        "from keras.layers.embeddings import Embedding\n",
        "from sklearn.model_selection import train_test_split\n",
        "from keras.preprocessing.text import Tokenizer\n",
        "from keras.layers import Input\n",
        "from keras.layers.merge import Concatenate\n",
        "from keras.layers import Bidirectional\n",
        "\n",
        "from keras.preprocessing.text import Tokenizer\n",
        "from keras.utils.np_utils import to_categorical\n",
        "\n",
        "import logging\n",
        "import os\n",
        "from pathlib import Path\n",
        "from io import StringIO\n",
        "import pickle\n",
        "\n",
        "from keras.models import Model\n",
        "from keras.layers import Input, LSTM, Dense\n",
        "from keras.utils.vis_utils import plot_model\n",
        "\n",
        "import matplotlib.pyplot as plt\n",
        "import seaborn as sns"
      ]
    },
    {
      "cell_type": "markdown",
      "source": [
        "#### Descargamos el dataset"
      ],
      "metadata": {
        "id": "2pgTq87qnp-r"
      }
    },
    {
      "cell_type": "code",
      "execution_count": 3,
      "metadata": {
        "id": "RHNkUaPp6aYq",
        "colab": {
          "base_uri": "https://localhost:8080/"
        },
        "outputId": "3f8267bc-b8e5-44a6-e697-d441fd21ff4c"
      },
      "outputs": [
        {
          "output_type": "stream",
          "name": "stdout",
          "text": [
            "El dataset ya se encuentra descargado\n"
          ]
        }
      ],
      "source": [
        "# Descargar la carpeta de dataset\n",
        "import os\n",
        "import gdown\n",
        "if os.access('data_volunteers.json', os.F_OK) is False:\n",
        "    url = 'https://drive.google.com/uc?id=1QPYxMTBSGNmbyGhknznuO3YWLBOJnhUQ&export=download'\n",
        "    output = 'data_volunteers.json'\n",
        "    gdown.download(url, output, quiet=False)\n",
        "else:\n",
        "    print(\"El dataset ya se encuentra descargado\")"
      ]
    },
    {
      "cell_type": "code",
      "execution_count": 4,
      "metadata": {
        "id": "WZy1-wgG-Rp7"
      },
      "outputs": [],
      "source": [
        "# dataset_file\n",
        "import json\n",
        "\n",
        "text_file = \"data_volunteers.json\"\n",
        "with open(text_file) as f:\n",
        "    data = json.load(f)\n",
        "\n"
      ]
    },
    {
      "cell_type": "code",
      "execution_count": 5,
      "metadata": {
        "id": "ue5qd54S-eew",
        "colab": {
          "base_uri": "https://localhost:8080/"
        },
        "outputId": "32fb383f-5bfd-4da9-9c89-77af434d015f"
      },
      "outputs": [
        {
          "output_type": "execute_result",
          "data": {
            "text/plain": [
              "dict_keys(['dialog', 'start_time', 'end_time', 'bot_profile', 'user_profile', 'eval_score', 'profile_match', 'participant1_id', 'participant2_id'])"
            ]
          },
          "metadata": {},
          "execution_count": 5
        }
      ],
      "source": [
        "# Observar los campos disponibles en cada linea del dataset\n",
        "data[0].keys()"
      ]
    },
    {
      "cell_type": "markdown",
      "source": [
        "#### Generamos las oraciones de entrada y de salida"
      ],
      "metadata": {
        "id": "0zOIYPXMnxIr"
      }
    },
    {
      "cell_type": "code",
      "execution_count": 6,
      "metadata": {
        "id": "jHBRAXPl-3dz",
        "colab": {
          "base_uri": "https://localhost:8080/"
        },
        "outputId": "5a7997d0-c4bc-4c5e-9c44-b87b59969426"
      },
      "outputs": [
        {
          "output_type": "stream",
          "name": "stdout",
          "text": [
            "Cantidad de rows utilizadas: 6033\n"
          ]
        }
      ],
      "source": [
        "chat_in = []\n",
        "chat_out = []\n",
        "\n",
        "input_sentences = []\n",
        "output_sentences = []\n",
        "output_sentences_inputs = []\n",
        "max_len = 30\n",
        "\n",
        "def clean_text(txt):\n",
        "    txt = txt.lower()    \n",
        "    txt.replace(\"\\'d\", \" had\")\n",
        "    txt.replace(\"\\'s\", \" is\")\n",
        "    txt.replace(\"\\'m\", \" am\")\n",
        "    txt.replace(\"don't\", \"do not\")\n",
        "    txt = re.sub(r'\\W+', ' ', txt)\n",
        "    \n",
        "    return txt\n",
        "\n",
        "for line in data:\n",
        "    for i in range(len(line['dialog'])-1):\n",
        "        chat_in = clean_text(line['dialog'][i]['text'])\n",
        "        chat_out = clean_text(line['dialog'][i+1]['text'])\n",
        "\n",
        "        if len(chat_in) >= max_len or len(chat_out) >= max_len:\n",
        "            continue\n",
        "\n",
        "        input_sentence, output = chat_in, chat_out\n",
        "        \n",
        "        # output sentence (decoder_output) tiene <eos>\n",
        "        output_sentence = output + ' <eos>'\n",
        "        # output sentence input (decoder_input) tiene <sos>\n",
        "        output_sentence_input = '<sos> ' + output\n",
        "\n",
        "        input_sentences.append(input_sentence)\n",
        "        output_sentences.append(output_sentence)\n",
        "        output_sentences_inputs.append(output_sentence_input)\n",
        "\n",
        "print(\"Cantidad de rows utilizadas:\", len(input_sentences))"
      ]
    },
    {
      "cell_type": "code",
      "execution_count": 7,
      "metadata": {
        "id": "07L1qj8pC_l6",
        "colab": {
          "base_uri": "https://localhost:8080/"
        },
        "outputId": "37fced99-4bb4-4fc3-edcd-e38b5a5f01e7"
      },
      "outputs": [
        {
          "output_type": "execute_result",
          "data": {
            "text/plain": [
              "('hi how are you ', 'not bad and you  <eos>', '<sos> not bad and you ')"
            ]
          },
          "metadata": {},
          "execution_count": 7
        }
      ],
      "source": [
        "input_sentences[1], output_sentences[1], output_sentences_inputs[1]"
      ]
    },
    {
      "cell_type": "markdown",
      "metadata": {
        "id": "8P-ynUNP5xp6"
      },
      "source": [
        "### 2 - Preprocesamiento\n",
        "Realizar el preprocesamiento necesario para obtener:\n",
        "- word2idx_inputs, max_input_len\n",
        "- word2idx_outputs, max_out_len, num_words_output\n",
        "- encoder_input_sequences, decoder_output_sequences, decoder_targets"
      ]
    },
    {
      "cell_type": "markdown",
      "source": [
        "#### Definir el tamaño máximo del vocabulario\n"
      ],
      "metadata": {
        "id": "iE--Esc3cM5R"
      }
    },
    {
      "cell_type": "code",
      "source": [
        "MAX_VOCAB_SIZE = 9000"
      ],
      "metadata": {
        "id": "CINqK8n2cLrU"
      },
      "execution_count": 8,
      "outputs": []
    },
    {
      "cell_type": "markdown",
      "source": [
        "#### Tokenizamos con el tokenizador de Keras el vector de palabras de entrada"
      ],
      "metadata": {
        "id": "yIK6yBmicZky"
      }
    },
    {
      "cell_type": "code",
      "source": [
        "input_tokenizer = Tokenizer(num_words=MAX_VOCAB_SIZE)\n",
        "input_tokenizer.fit_on_texts(input_sentences)\n",
        "input_integer_seq = input_tokenizer.texts_to_sequences(input_sentences)\n",
        "\n",
        "word2idx_inputs = input_tokenizer.word_index\n",
        "print(\"Palabras en el vocabulario de palabras de entrada:\", len(word2idx_inputs))\n",
        "\n",
        "max_input_len = max(len(sen) for sen in input_integer_seq)\n",
        "print(\"Sentencia de entrada más larga:\", max_input_len)"
      ],
      "metadata": {
        "colab": {
          "base_uri": "https://localhost:8080/"
        },
        "id": "Qve_iWlNcYYT",
        "outputId": "daaa221f-4cb0-4c26-95ea-497da6526975"
      },
      "execution_count": 9,
      "outputs": [
        {
          "output_type": "stream",
          "name": "stdout",
          "text": [
            "Palabras en el vocabulario de palabras de entrada: 1799\n",
            "Sentencia de entrada más larga: 9\n"
          ]
        }
      ]
    },
    {
      "cell_type": "markdown",
      "source": [
        "#### Tokenizamos con el tokenizador de Keras el vector de palabras de salida"
      ],
      "metadata": {
        "id": "aUn409kxdVML"
      }
    },
    {
      "cell_type": "code",
      "source": [
        "#DAdo que la salida esta también en ingles no necesito filtrar ningun caracter especial. Si debo evitar los caracteres < y >\n",
        "output_tokenizer = Tokenizer(num_words=MAX_VOCAB_SIZE,filters='!\"#$%&()*+,-./:;=¿?@[\\\\]^_`{|}~\\t\\n')\n",
        "#Sumo los simbolos de SOS y EOS a los textos del tokenizador. El EOS ya forma parte del vector de output_sentences\n",
        "output_tokenizer.fit_on_texts([\"<sos>\", \"<eos>\"] + output_sentences)\n",
        "output_integer_seq = output_tokenizer.texts_to_sequences(output_sentences)\n",
        "output_input_integer_seq = output_tokenizer.texts_to_sequences(output_sentences_inputs)\n",
        "\n",
        "word2idx_outputs = output_tokenizer.word_index\n",
        "print(\"Palabras en el vocabulario de palabras de salida:\", len(word2idx_outputs))\n",
        "\n",
        "num_words_output = min(len(word2idx_outputs) + 1, MAX_VOCAB_SIZE) # Se suma 1 por el primer <sos>\n",
        "max_out_len = max(len(sen) for sen in output_integer_seq)\n",
        "print(\"Sentencia de salida más larga:\", max_out_len)"
      ],
      "metadata": {
        "colab": {
          "base_uri": "https://localhost:8080/"
        },
        "id": "Wvp32sAudYi7",
        "outputId": "3bf66533-8bf3-4e87-c847-d24c5022ea59"
      },
      "execution_count": 10,
      "outputs": [
        {
          "output_type": "stream",
          "name": "stdout",
          "text": [
            "Palabras en el vocabulario de palabras de salida: 1806\n",
            "Sentencia de salida más larga: 10\n"
          ]
        }
      ]
    },
    {
      "cell_type": "markdown",
      "source": [
        "Tendremos para la entrada de la capa de encoding un maximo de 9 palabras, y para la layer del elemento anterior un maximo de 10 palabras"
      ],
      "metadata": {
        "id": "IKo7R32SeSZY"
      }
    },
    {
      "cell_type": "markdown",
      "source": [
        "#### Hacemos el padding de las oraciones"
      ],
      "metadata": {
        "id": "Xq5uAqsxezQ3"
      }
    },
    {
      "cell_type": "code",
      "source": [
        "print(\"Cantidad de rows del dataset:\", len(input_integer_seq))\n",
        "\n",
        "#En encoder padding va al principio\n",
        "encoder_input_sequences = pad_sequences(input_integer_seq, maxlen=max_input_len)\n",
        "print(\"encoder_input_sequences shape:\", encoder_input_sequences.shape)\n",
        "\n",
        "#En decoder padding va al final porque al principio esta el EOS\n",
        "decoder_input_sequences = pad_sequences(output_input_integer_seq, maxlen=max_out_len, padding='post')\n",
        "print(\"decoder_input_sequences shape:\", decoder_input_sequences.shape)"
      ],
      "metadata": {
        "colab": {
          "base_uri": "https://localhost:8080/"
        },
        "id": "bw73Ok4iez1v",
        "outputId": "1269cff9-9c1c-4dd3-f449-4a2e44e81ac6"
      },
      "execution_count": 11,
      "outputs": [
        {
          "output_type": "stream",
          "name": "stdout",
          "text": [
            "Cantidad de rows del dataset: 6033\n",
            "encoder_input_sequences shape: (6033, 9)\n",
            "decoder_input_sequences shape: (6033, 10)\n"
          ]
        }
      ]
    },
    {
      "cell_type": "markdown",
      "source": [
        "#### Ajustamos el vector de salida como un oneHotEncoding"
      ],
      "metadata": {
        "id": "3viYBJi-hbLu"
      }
    },
    {
      "cell_type": "code",
      "source": [
        "decoder_output_sequences = pad_sequences(output_integer_seq, maxlen=max_out_len, padding='post')\n",
        "decoder_targets = to_categorical(decoder_output_sequences, num_classes=num_words_output)\n",
        "decoder_targets.shape"
      ],
      "metadata": {
        "colab": {
          "base_uri": "https://localhost:8080/"
        },
        "id": "IhFofynUfu8J",
        "outputId": "38194e40-fbff-4bfa-f48d-1405b1d6e245"
      },
      "execution_count": 12,
      "outputs": [
        {
          "output_type": "execute_result",
          "data": {
            "text/plain": [
              "(6033, 10, 1807)"
            ]
          },
          "metadata": {},
          "execution_count": 12
        }
      ]
    },
    {
      "cell_type": "markdown",
      "metadata": {
        "id": "_CJIsLBbj6rg"
      },
      "source": [
        "### 3 - Preparar los embeddings\n",
        "Utilizar los embeddings de Glove o FastText para transformar los tokens de entrada en vectores"
      ]
    },
    {
      "cell_type": "markdown",
      "source": [
        "#### Descargamos los embedding de fasttex para utilizar en nuestro modelo"
      ],
      "metadata": {
        "id": "OdV2ctoxiZN3"
      }
    },
    {
      "cell_type": "code",
      "source": [
        "if os.access('fasttext.pkl', os.F_OK) is False:\n",
        "    url = 'https://drive.google.com/uc?id=1KU5qmAYh3LATMvVgocFDfW-PK3prm1WU&export=download'\n",
        "    output = 'fasttext.pkl'\n",
        "    gdown.download(url, output, quiet=False)\n",
        "else:\n",
        "    print(\"Los embeddings fasttext.pkl ya están descargados\")"
      ],
      "metadata": {
        "colab": {
          "base_uri": "https://localhost:8080/"
        },
        "id": "A1m5wpYtitCo",
        "outputId": "421a9235-ae03-4cb2-dbf1-db402995f842"
      },
      "execution_count": 13,
      "outputs": [
        {
          "output_type": "stream",
          "name": "stdout",
          "text": [
            "Los embeddings fasttext.pkl ya están descargados\n"
          ]
        }
      ]
    },
    {
      "cell_type": "markdown",
      "source": [
        "#### Generamos la funcion para leer los embeddings"
      ],
      "metadata": {
        "id": "p_YdKVVhi8mH"
      }
    },
    {
      "cell_type": "code",
      "source": [
        "class WordsEmbeddings(object):\n",
        "    logger = logging.getLogger(__name__)\n",
        "\n",
        "    def __init__(self):\n",
        "        # load the embeddings\n",
        "        words_embedding_pkl = Path(self.PKL_PATH)\n",
        "        if not words_embedding_pkl.is_file():\n",
        "            words_embedding_txt = Path(self.WORD_TO_VEC_MODEL_TXT_PATH)\n",
        "            assert words_embedding_txt.is_file(), 'Words embedding not available'\n",
        "            embeddings = self.convert_model_to_pickle()\n",
        "        else:\n",
        "            embeddings = self.load_model_from_pickle()\n",
        "        self.embeddings = embeddings\n",
        "        # build the vocabulary hashmap\n",
        "        index = np.arange(self.embeddings.shape[0])\n",
        "        # Dicctionarios para traducir de embedding a IDX de la palabra\n",
        "        self.word2idx = dict(zip(self.embeddings['word'], index))\n",
        "        self.idx2word = dict(zip(index, self.embeddings['word']))\n",
        "\n",
        "    def get_words_embeddings(self, words):\n",
        "        words_idxs = self.words2idxs(words)\n",
        "        return self.embeddings[words_idxs]['embedding']\n",
        "\n",
        "    def words2idxs(self, words):\n",
        "        return np.array([self.word2idx.get(word, -1) for word in words])\n",
        "\n",
        "    def idxs2words(self, idxs):\n",
        "        return np.array([self.idx2word.get(idx, '-1') for idx in idxs])\n",
        "\n",
        "    def load_model_from_pickle(self):\n",
        "        self.logger.debug(\n",
        "            'loading words embeddings from pickle {}'.format(\n",
        "                self.PKL_PATH\n",
        "            )\n",
        "        )\n",
        "        max_bytes = 2**28 - 1 # 256MB\n",
        "        bytes_in = bytearray(0)\n",
        "        input_size = os.path.getsize(self.PKL_PATH)\n",
        "        with open(self.PKL_PATH, 'rb') as f_in:\n",
        "            for _ in range(0, input_size, max_bytes):\n",
        "                bytes_in += f_in.read(max_bytes)\n",
        "        embeddings = pickle.loads(bytes_in)\n",
        "        self.logger.debug('words embeddings loaded')\n",
        "        return embeddings\n",
        "\n",
        "    def convert_model_to_pickle(self):\n",
        "        # create a numpy strctured array:\n",
        "        # word     embedding\n",
        "        # U50      np.float32[]\n",
        "        # word_1   a, b, c\n",
        "        # word_2   d, e, f\n",
        "        # ...\n",
        "        # word_n   g, h, i\n",
        "        self.logger.debug(\n",
        "            'converting and loading words embeddings from text file {}'.format(\n",
        "                self.WORD_TO_VEC_MODEL_TXT_PATH\n",
        "            )\n",
        "        )\n",
        "        structure = [('word', np.dtype('U' + str(self.WORD_MAX_SIZE))),\n",
        "                     ('embedding', np.float32, (self.N_FEATURES,))]\n",
        "        structure = np.dtype(structure)\n",
        "        # load numpy array from disk using a generator\n",
        "        with open(self.WORD_TO_VEC_MODEL_TXT_PATH, encoding=\"utf8\") as words_embeddings_txt:\n",
        "            embeddings_gen = (\n",
        "                (line.split()[0], line.split()[1:]) for line in words_embeddings_txt\n",
        "                if len(line.split()[1:]) == self.N_FEATURES\n",
        "            )\n",
        "            embeddings = np.fromiter(embeddings_gen, structure)\n",
        "        # add a null embedding\n",
        "        null_embedding = np.array(\n",
        "            [('null_embedding', np.zeros((self.N_FEATURES,), dtype=np.float32))],\n",
        "            dtype=structure\n",
        "        )\n",
        "        embeddings = np.concatenate([embeddings, null_embedding])\n",
        "        # dump numpy array to disk using pickle\n",
        "        max_bytes = 2**28 - 1 # # 256MB\n",
        "        bytes_out = pickle.dumps(embeddings, protocol=pickle.HIGHEST_PROTOCOL)\n",
        "        with open(self.PKL_PATH, 'wb') as f_out:\n",
        "            for idx in range(0, len(bytes_out), max_bytes):\n",
        "                f_out.write(bytes_out[idx:idx+max_bytes])\n",
        "        self.logger.debug('words embeddings loaded')\n",
        "        return embeddings\n",
        "\n",
        "\n",
        "class GloveEmbeddings(WordsEmbeddings):\n",
        "    WORD_TO_VEC_MODEL_TXT_PATH = 'glove.twitter.27B.50d.txt'\n",
        "    PKL_PATH = 'gloveembedding.pkl'\n",
        "    N_FEATURES = 50\n",
        "    WORD_MAX_SIZE = 60\n",
        "\n",
        "\n",
        "class FasttextEmbeddings(WordsEmbeddings):\n",
        "    WORD_TO_VEC_MODEL_TXT_PATH = 'cc.en.300.vec'\n",
        "    PKL_PATH = 'fasttext.pkl'\n",
        "    N_FEATURES = 300\n",
        "    WORD_MAX_SIZE = 60"
      ],
      "metadata": {
        "id": "IeNfPZYwi-On"
      },
      "execution_count": 14,
      "outputs": []
    },
    {
      "cell_type": "markdown",
      "source": [
        "#### Generamos la matriz de embeddings"
      ],
      "metadata": {
        "id": "4AKtwOC0jNJZ"
      }
    },
    {
      "cell_type": "code",
      "source": [
        "model_embeddings = FasttextEmbeddings()"
      ],
      "metadata": {
        "id": "AvNP-O0pjPmB"
      },
      "execution_count": 15,
      "outputs": []
    },
    {
      "cell_type": "code",
      "source": [
        "print('Preparando matriz de embeddings...')\n",
        "embed_dim = model_embeddings.N_FEATURES\n",
        "words_not_found = []\n",
        "\n",
        "# word_index provieen del tokenizer\n",
        "\n",
        "nb_words = min(MAX_VOCAB_SIZE, len(word2idx_inputs)) # vocab_size\n",
        "embedding_matrix = np.zeros((nb_words, embed_dim))\n",
        "for word, i in word2idx_inputs.items():\n",
        "    if i >= nb_words:\n",
        "        continue\n",
        "    embedding_vector = model_embeddings.get_words_embeddings(word)[0]\n",
        "    if (embedding_vector is not None) and len(embedding_vector) > 0:\n",
        "        \n",
        "        embedding_matrix[i] = embedding_vector\n",
        "    else:\n",
        "        # words not found in embedding index will be all-zeros.\n",
        "        words_not_found.append(word)\n",
        "\n",
        "print('Numero de word embeddings nulos:', np.sum(np.sum(embedding_matrix, axis=1) == 0))"
      ],
      "metadata": {
        "colab": {
          "base_uri": "https://localhost:8080/"
        },
        "id": "UA8nd1RSjas9",
        "outputId": "20ba24a1-025f-4889-f99c-0f476ba098fe"
      },
      "execution_count": 16,
      "outputs": [
        {
          "output_type": "stream",
          "name": "stdout",
          "text": [
            "Preparando matriz de embeddings...\n",
            "Numero de word embeddings nulos: 1\n"
          ]
        }
      ]
    },
    {
      "cell_type": "code",
      "source": [
        "print(\"Shape de la matriz de embeddings: \", embedding_matrix.shape)"
      ],
      "metadata": {
        "colab": {
          "base_uri": "https://localhost:8080/"
        },
        "id": "XNx1CRLLkHHM",
        "outputId": "4b50d27c-41b4-4eb8-f925-b9c436992d83"
      },
      "execution_count": 17,
      "outputs": [
        {
          "output_type": "stream",
          "name": "stdout",
          "text": [
            "Shape de la matriz de embeddings:  (1799, 300)\n"
          ]
        }
      ]
    },
    {
      "cell_type": "markdown",
      "metadata": {
        "id": "3vKbhjtIwPgM"
      },
      "source": [
        "### 4 - Entrenar el modelo\n",
        "Entrenar un modelo basado en el esquema encoder-decoder utilizando los datos generados en los puntos anteriores. Utilce como referencias los ejemplos vistos en clase."
      ]
    },
    {
      "cell_type": "markdown",
      "source": [
        "#### Definimos el modelo de nuestra red"
      ],
      "metadata": {
        "id": "YxeweT21kxNI"
      }
    },
    {
      "cell_type": "code",
      "source": [
        "n_units = 160\n",
        "\n",
        "# define training encoder\n",
        "encoder_inputs = Input(shape=(max_input_len))\n",
        "\n",
        "#Capa de embeddings\n",
        "encoder_embedding_layer = Embedding(\n",
        "          input_dim=nb_words,  # definido en el Tokenizador\n",
        "          output_dim=embed_dim,  # dimensión de los embeddings utilizados\n",
        "          input_length=max_input_len, # máxima sentencia de entrada\n",
        "          weights=[embedding_matrix],  # matrix de embeddings\n",
        "          trainable=False)      # marcar como layer no entrenable\n",
        "\n",
        "#Definimos el encoder\n",
        "encoder_inputs_x = encoder_embedding_layer(encoder_inputs)\n",
        "\n",
        "#LSTM del encoder con dropout\n",
        "encoder = LSTM(n_units, return_state=True, dropout=0.2)\n",
        "encoder_outputs, state_h, state_c = encoder(encoder_inputs_x)\n",
        "encoder_states = [state_h, state_c]\n",
        "\n",
        "# Definimos la parte del decoder\n",
        "decoder_inputs = Input(shape=(max_out_len))\n",
        "#Capa de embedding\n",
        "decoder_embedding_layer = Embedding(input_dim=num_words_output, output_dim=n_units, input_length=max_out_len)\n",
        "decoder_inputs_x = decoder_embedding_layer(decoder_inputs)\n",
        "\n",
        "#Decoder propiamente dicho con LSTM con dropout\n",
        "decoder_lstm = LSTM(n_units, return_sequences=True, return_state=True, dropout=0.2)\n",
        "decoder_outputs, _, _ = decoder_lstm(decoder_inputs_x, initial_state=encoder_states)\n",
        "\n",
        "# Capa densa final\n",
        "decoder_dense = Dense(num_words_output, activation='softmax')\n",
        "decoder_outputs = decoder_dense(decoder_outputs)\n",
        "model = Model([encoder_inputs, decoder_inputs], decoder_outputs)\n",
        "\n",
        "model.compile(loss='categorical_crossentropy', optimizer=\"Adam\", metrics=['accuracy'])\n",
        "model.summary()"
      ],
      "metadata": {
        "colab": {
          "base_uri": "https://localhost:8080/"
        },
        "id": "NJZafRXtkfg-",
        "outputId": "c7f9b838-5cc9-4ea3-8b23-70cfdfdfbeb2"
      },
      "execution_count": 18,
      "outputs": [
        {
          "output_type": "stream",
          "name": "stdout",
          "text": [
            "Model: \"model\"\n",
            "__________________________________________________________________________________________________\n",
            " Layer (type)                   Output Shape         Param #     Connected to                     \n",
            "==================================================================================================\n",
            " input_1 (InputLayer)           [(None, 9)]          0           []                               \n",
            "                                                                                                  \n",
            " input_2 (InputLayer)           [(None, 10)]         0           []                               \n",
            "                                                                                                  \n",
            " embedding (Embedding)          (None, 9, 300)       539700      ['input_1[0][0]']                \n",
            "                                                                                                  \n",
            " embedding_1 (Embedding)        (None, 10, 160)      289120      ['input_2[0][0]']                \n",
            "                                                                                                  \n",
            " lstm (LSTM)                    [(None, 160),        295040      ['embedding[0][0]']              \n",
            "                                 (None, 160),                                                     \n",
            "                                 (None, 160)]                                                     \n",
            "                                                                                                  \n",
            " lstm_1 (LSTM)                  [(None, 10, 160),    205440      ['embedding_1[0][0]',            \n",
            "                                 (None, 160),                     'lstm[0][1]',                   \n",
            "                                 (None, 160)]                     'lstm[0][2]']                   \n",
            "                                                                                                  \n",
            " dense (Dense)                  (None, 10, 1807)     290927      ['lstm_1[0][0]']                 \n",
            "                                                                                                  \n",
            "==================================================================================================\n",
            "Total params: 1,620,227\n",
            "Trainable params: 1,080,527\n",
            "Non-trainable params: 539,700\n",
            "__________________________________________________________________________________________________\n"
          ]
        }
      ]
    },
    {
      "cell_type": "markdown",
      "source": [
        "#### Plotemos el modelo para ver su arquitectura"
      ],
      "metadata": {
        "id": "96DXC_zlmVPo"
      }
    },
    {
      "cell_type": "code",
      "source": [
        "plot_model(model, to_file='model_plot.png', show_shapes=True, show_layer_names=True)"
      ],
      "metadata": {
        "colab": {
          "base_uri": "https://localhost:8080/",
          "height": 531
        },
        "id": "R3gg9Tx7maB5",
        "outputId": "5089b33d-3308-49d6-90c3-b472ef3f388e"
      },
      "execution_count": 19,
      "outputs": [
        {
          "output_type": "execute_result",
          "data": {
            "text/plain": [
              "<IPython.core.display.Image object>"
            ],
            "image/png": "[encoded data removed]"
          },
          "metadata": {},
          "execution_count": 19
        }
      ]
    },
    {
      "cell_type": "markdown",
      "source": [
        "#### Definimos el modelo solo encoder y lo ploteamos"
      ],
      "metadata": {
        "id": "GKmIebZpmom0"
      }
    },
    {
      "cell_type": "code",
      "source": [
        "encoder_model = Model(encoder_inputs, encoder_states)\n",
        "\n",
        "plot_model(encoder_model, to_file='encoder_plot.png', show_shapes=True, show_layer_names=True)"
      ],
      "metadata": {
        "colab": {
          "base_uri": "https://localhost:8080/",
          "height": 312
        },
        "id": "YzyxWkJ8mtfk",
        "outputId": "60f39143-3a32-4585-d2a8-5a58f7944f7c"
      },
      "execution_count": 20,
      "outputs": [
        {
          "output_type": "execute_result",
          "data": {
            "text/plain": [
              "<IPython.core.display.Image object>"
            ],
            "image/png": "[encoded data removed]"
          },
          "metadata": {},
          "execution_count": 20
        }
      ]
    },
    {
      "cell_type": "markdown",
      "source": [
        "#### Definimos el modelo decoder de inferencia y lo ploteamos"
      ],
      "metadata": {
        "id": "d1aDtM_-m6gx"
      }
    },
    {
      "cell_type": "code",
      "source": [
        "decoder_state_input_h = Input(shape=(n_units,))\n",
        "decoder_state_input_c = Input(shape=(n_units,))\n",
        "decoder_states_inputs = [decoder_state_input_h, decoder_state_input_c]\n",
        "\n",
        "decoder_inputs_single = Input(shape=(1,))\n",
        "decoder_inputs_single_x = decoder_embedding_layer(decoder_inputs_single)\n",
        "\n",
        "decoder_outputs, state_h, state_c = decoder_lstm(decoder_inputs_single_x, initial_state=decoder_states_inputs)\n",
        "decoder_states = [state_h, state_c]\n",
        "decoder_outputs = decoder_dense(decoder_outputs)\n",
        "decoder_model = Model([decoder_inputs_single] + decoder_states_inputs, [decoder_outputs] + decoder_states)\n",
        "\n",
        "plot_model(decoder_model, to_file='decoder_plot.png', show_shapes=True, show_layer_names=True)"
      ],
      "metadata": {
        "colab": {
          "base_uri": "https://localhost:8080/",
          "height": 372
        },
        "id": "dv-aR6OGm7tR",
        "outputId": "3cdf9822-1ab4-4ea5-9155-c50cbf5f3202"
      },
      "execution_count": 21,
      "outputs": [
        {
          "output_type": "execute_result",
          "data": {
            "text/plain": [
              "<IPython.core.display.Image object>"
            ],
            "image/png": "[encoded data removed]"
          },
          "metadata": {},
          "execution_count": 21
        }
      ]
    },
    {
      "cell_type": "markdown",
      "source": [
        "#### Hacemos el fit de nuestro modelo"
      ],
      "metadata": {
        "id": "sy7R536fnNUG"
      }
    },
    {
      "cell_type": "code",
      "source": [
        "CANT_EPOCHS = 60"
      ],
      "metadata": {
        "id": "QX5EvrHBnTYT"
      },
      "execution_count": 22,
      "outputs": []
    },
    {
      "cell_type": "code",
      "source": [
        "hist = model.fit(\n",
        "    [encoder_input_sequences, decoder_input_sequences],\n",
        "    decoder_targets,\n",
        "    epochs=CANT_EPOCHS, \n",
        "    validation_split=0.2)"
      ],
      "metadata": {
        "colab": {
          "base_uri": "https://localhost:8080/"
        },
        "id": "0QXY7SCTnPlf",
        "outputId": "ab4b76df-f25a-4efc-bb09-b15a93482384"
      },
      "execution_count": 23,
      "outputs": [
        {
          "output_type": "stream",
          "name": "stdout",
          "text": [
            "Epoch 1/60\n",
            "151/151 [==============================] - 12s 18ms/step - loss: 2.9236 - accuracy: 0.5410 - val_loss: 2.2216 - val_accuracy: 0.6321\n",
            "Epoch 2/60\n",
            "151/151 [==============================] - 2s 11ms/step - loss: 1.9953 - accuracy: 0.6378 - val_loss: 2.0162 - val_accuracy: 0.6701\n",
            "Epoch 3/60\n",
            "151/151 [==============================] - 2s 11ms/step - loss: 1.7264 - accuracy: 0.6967 - val_loss: 1.8701 - val_accuracy: 0.6957\n",
            "Epoch 4/60\n",
            "151/151 [==============================] - 2s 14ms/step - loss: 1.5693 - accuracy: 0.7196 - val_loss: 1.7948 - val_accuracy: 0.7027\n",
            "Epoch 5/60\n",
            "151/151 [==============================] - 2s 15ms/step - loss: 1.4721 - accuracy: 0.7304 - val_loss: 1.7423 - val_accuracy: 0.7082\n",
            "Epoch 6/60\n",
            "151/151 [==============================] - 2s 13ms/step - loss: 1.4052 - accuracy: 0.7387 - val_loss: 1.7141 - val_accuracy: 0.7135\n",
            "Epoch 7/60\n",
            "151/151 [==============================] - 2s 13ms/step - loss: 1.3518 - accuracy: 0.7435 - val_loss: 1.6936 - val_accuracy: 0.7158\n",
            "Epoch 8/60\n",
            "151/151 [==============================] - 2s 13ms/step - loss: 1.3088 - accuracy: 0.7453 - val_loss: 1.6823 - val_accuracy: 0.7202\n",
            "Epoch 9/60\n",
            "151/151 [==============================] - 2s 13ms/step - loss: 1.2692 - accuracy: 0.7512 - val_loss: 1.6656 - val_accuracy: 0.7212\n",
            "Epoch 10/60\n",
            "151/151 [==============================] - 2s 13ms/step - loss: 1.2363 - accuracy: 0.7554 - val_loss: 1.6596 - val_accuracy: 0.7231\n",
            "Epoch 11/60\n",
            "151/151 [==============================] - 2s 13ms/step - loss: 1.2057 - accuracy: 0.7578 - val_loss: 1.6514 - val_accuracy: 0.7239\n",
            "Epoch 12/60\n",
            "151/151 [==============================] - 2s 13ms/step - loss: 1.1774 - accuracy: 0.7609 - val_loss: 1.6472 - val_accuracy: 0.7281\n",
            "Epoch 13/60\n",
            "151/151 [==============================] - 2s 14ms/step - loss: 1.1528 - accuracy: 0.7628 - val_loss: 1.6460 - val_accuracy: 0.7296\n",
            "Epoch 14/60\n",
            "151/151 [==============================] - 2s 15ms/step - loss: 1.1298 - accuracy: 0.7651 - val_loss: 1.6482 - val_accuracy: 0.7287\n",
            "Epoch 15/60\n",
            "151/151 [==============================] - 3s 22ms/step - loss: 1.1071 - accuracy: 0.7676 - val_loss: 1.6444 - val_accuracy: 0.7297\n",
            "Epoch 16/60\n",
            "151/151 [==============================] - 2s 13ms/step - loss: 1.0856 - accuracy: 0.7718 - val_loss: 1.6463 - val_accuracy: 0.7312\n",
            "Epoch 17/60\n",
            "151/151 [==============================] - 2s 13ms/step - loss: 1.0671 - accuracy: 0.7737 - val_loss: 1.6484 - val_accuracy: 0.7302\n",
            "Epoch 18/60\n",
            "151/151 [==============================] - 2s 13ms/step - loss: 1.0463 - accuracy: 0.7766 - val_loss: 1.6471 - val_accuracy: 0.7315\n",
            "Epoch 19/60\n",
            "151/151 [==============================] - 2s 13ms/step - loss: 1.0284 - accuracy: 0.7795 - val_loss: 1.6484 - val_accuracy: 0.7317\n",
            "Epoch 20/60\n",
            "151/151 [==============================] - 2s 13ms/step - loss: 1.0120 - accuracy: 0.7812 - val_loss: 1.6569 - val_accuracy: 0.7314\n",
            "Epoch 21/60\n",
            "151/151 [==============================] - 2s 13ms/step - loss: 0.9937 - accuracy: 0.7826 - val_loss: 1.6632 - val_accuracy: 0.7325\n",
            "Epoch 22/60\n",
            "151/151 [==============================] - 2s 13ms/step - loss: 0.9777 - accuracy: 0.7849 - val_loss: 1.6640 - val_accuracy: 0.7344\n",
            "Epoch 23/60\n",
            "151/151 [==============================] - 2s 13ms/step - loss: 0.9621 - accuracy: 0.7874 - val_loss: 1.6690 - val_accuracy: 0.7328\n",
            "Epoch 24/60\n",
            "151/151 [==============================] - 2s 13ms/step - loss: 0.9472 - accuracy: 0.7890 - val_loss: 1.6723 - val_accuracy: 0.7332\n",
            "Epoch 25/60\n",
            "151/151 [==============================] - 2s 13ms/step - loss: 0.9315 - accuracy: 0.7922 - val_loss: 1.6770 - val_accuracy: 0.7338\n",
            "Epoch 26/60\n",
            "151/151 [==============================] - 2s 13ms/step - loss: 0.9185 - accuracy: 0.7938 - val_loss: 1.6825 - val_accuracy: 0.7335\n",
            "Epoch 27/60\n",
            "151/151 [==============================] - 3s 22ms/step - loss: 0.9043 - accuracy: 0.7962 - val_loss: 1.6858 - val_accuracy: 0.7335\n",
            "Epoch 28/60\n",
            "151/151 [==============================] - 2s 14ms/step - loss: 0.8906 - accuracy: 0.7982 - val_loss: 1.6933 - val_accuracy: 0.7334\n",
            "Epoch 29/60\n",
            "151/151 [==============================] - 3s 18ms/step - loss: 0.8778 - accuracy: 0.8000 - val_loss: 1.6989 - val_accuracy: 0.7341\n",
            "Epoch 30/60\n",
            "151/151 [==============================] - 3s 21ms/step - loss: 0.8644 - accuracy: 0.8025 - val_loss: 1.7038 - val_accuracy: 0.7358\n",
            "Epoch 31/60\n",
            "151/151 [==============================] - 3s 20ms/step - loss: 0.8527 - accuracy: 0.8042 - val_loss: 1.7072 - val_accuracy: 0.7359\n",
            "Epoch 32/60\n",
            "151/151 [==============================] - 3s 18ms/step - loss: 0.8398 - accuracy: 0.8063 - val_loss: 1.7136 - val_accuracy: 0.7351\n",
            "Epoch 33/60\n",
            "151/151 [==============================] - 3s 18ms/step - loss: 0.8298 - accuracy: 0.8075 - val_loss: 1.7194 - val_accuracy: 0.7358\n",
            "Epoch 34/60\n",
            "151/151 [==============================] - 4s 24ms/step - loss: 0.8175 - accuracy: 0.8101 - val_loss: 1.7270 - val_accuracy: 0.7345\n",
            "Epoch 35/60\n",
            "151/151 [==============================] - 2s 15ms/step - loss: 0.8072 - accuracy: 0.8111 - val_loss: 1.7295 - val_accuracy: 0.7331\n",
            "Epoch 36/60\n",
            "151/151 [==============================] - 4s 25ms/step - loss: 0.7963 - accuracy: 0.8124 - val_loss: 1.7380 - val_accuracy: 0.7354\n",
            "Epoch 37/60\n",
            "151/151 [==============================] - 3s 19ms/step - loss: 0.7857 - accuracy: 0.8144 - val_loss: 1.7422 - val_accuracy: 0.7340\n",
            "Epoch 38/60\n",
            "151/151 [==============================] - 2s 14ms/step - loss: 0.7762 - accuracy: 0.8162 - val_loss: 1.7495 - val_accuracy: 0.7359\n",
            "Epoch 39/60\n",
            "151/151 [==============================] - 2s 16ms/step - loss: 0.7658 - accuracy: 0.8178 - val_loss: 1.7581 - val_accuracy: 0.7354\n",
            "Epoch 40/60\n",
            "151/151 [==============================] - 2s 13ms/step - loss: 0.7571 - accuracy: 0.8186 - val_loss: 1.7629 - val_accuracy: 0.7365\n",
            "Epoch 41/60\n",
            "151/151 [==============================] - 2s 13ms/step - loss: 0.7480 - accuracy: 0.8196 - val_loss: 1.7711 - val_accuracy: 0.7355\n",
            "Epoch 42/60\n",
            "151/151 [==============================] - 3s 21ms/step - loss: 0.7393 - accuracy: 0.8215 - val_loss: 1.7790 - val_accuracy: 0.7362\n",
            "Epoch 43/60\n",
            "151/151 [==============================] - 2s 17ms/step - loss: 0.7304 - accuracy: 0.8226 - val_loss: 1.7855 - val_accuracy: 0.7352\n",
            "Epoch 44/60\n",
            "151/151 [==============================] - 2s 16ms/step - loss: 0.7215 - accuracy: 0.8245 - val_loss: 1.8003 - val_accuracy: 0.7349\n",
            "Epoch 45/60\n",
            "151/151 [==============================] - 2s 13ms/step - loss: 0.7128 - accuracy: 0.8261 - val_loss: 1.8076 - val_accuracy: 0.7355\n",
            "Epoch 46/60\n",
            "151/151 [==============================] - 2s 16ms/step - loss: 0.7057 - accuracy: 0.8269 - val_loss: 1.8090 - val_accuracy: 0.7361\n",
            "Epoch 47/60\n",
            "151/151 [==============================] - 2s 13ms/step - loss: 0.6963 - accuracy: 0.8295 - val_loss: 1.8203 - val_accuracy: 0.7365\n",
            "Epoch 48/60\n",
            "151/151 [==============================] - 2s 14ms/step - loss: 0.6878 - accuracy: 0.8292 - val_loss: 1.8352 - val_accuracy: 0.7337\n",
            "Epoch 49/60\n",
            "151/151 [==============================] - 2s 14ms/step - loss: 0.6806 - accuracy: 0.8315 - val_loss: 1.8369 - val_accuracy: 0.7332\n",
            "Epoch 50/60\n",
            "151/151 [==============================] - 3s 17ms/step - loss: 0.6736 - accuracy: 0.8333 - val_loss: 1.8400 - val_accuracy: 0.7340\n",
            "Epoch 51/60\n",
            "151/151 [==============================] - 3s 17ms/step - loss: 0.6669 - accuracy: 0.8337 - val_loss: 1.8550 - val_accuracy: 0.7342\n",
            "Epoch 52/60\n",
            "151/151 [==============================] - 2s 16ms/step - loss: 0.6584 - accuracy: 0.8356 - val_loss: 1.8585 - val_accuracy: 0.7341\n",
            "Epoch 53/60\n",
            "151/151 [==============================] - 2s 13ms/step - loss: 0.6515 - accuracy: 0.8360 - val_loss: 1.8667 - val_accuracy: 0.7355\n",
            "Epoch 54/60\n",
            "151/151 [==============================] - 2s 13ms/step - loss: 0.6440 - accuracy: 0.8378 - val_loss: 1.8705 - val_accuracy: 0.7318\n",
            "Epoch 55/60\n",
            "151/151 [==============================] - 2s 13ms/step - loss: 0.6376 - accuracy: 0.8383 - val_loss: 1.8813 - val_accuracy: 0.7354\n",
            "Epoch 56/60\n",
            "151/151 [==============================] - 2s 13ms/step - loss: 0.6293 - accuracy: 0.8411 - val_loss: 1.8914 - val_accuracy: 0.7336\n",
            "Epoch 57/60\n",
            "151/151 [==============================] - 2s 13ms/step - loss: 0.6227 - accuracy: 0.8421 - val_loss: 1.9028 - val_accuracy: 0.7352\n",
            "Epoch 58/60\n",
            "151/151 [==============================] - 3s 18ms/step - loss: 0.6161 - accuracy: 0.8427 - val_loss: 1.9010 - val_accuracy: 0.7330\n",
            "Epoch 59/60\n",
            "151/151 [==============================] - 2s 13ms/step - loss: 0.6090 - accuracy: 0.8445 - val_loss: 1.9169 - val_accuracy: 0.7341\n",
            "Epoch 60/60\n",
            "151/151 [==============================] - 2s 13ms/step - loss: 0.6014 - accuracy: 0.8467 - val_loss: 1.9277 - val_accuracy: 0.7337\n"
          ]
        }
      ]
    },
    {
      "cell_type": "markdown",
      "source": [
        "#### Ploteamos las metricas del entrenamiento"
      ],
      "metadata": {
        "id": "JfKZ46_0n4Hh"
      }
    },
    {
      "cell_type": "code",
      "source": [
        "epoch_count = range(1, len(hist.history['accuracy']) + 1)\n",
        "sns.lineplot(x=epoch_count,  y=hist.history['accuracy'], label='train')\n",
        "sns.lineplot(x=epoch_count,  y=hist.history['val_accuracy'], label='valid')\n",
        "plt.show()"
      ],
      "metadata": {
        "colab": {
          "base_uri": "https://localhost:8080/",
          "height": 265
        },
        "id": "nPqTiCW3n8a2",
        "outputId": "7ff3fd76-855e-4d4e-9228-4507a69ad847"
      },
      "execution_count": 24,
      "outputs": [
        {
          "output_type": "display_data",
          "data": {
            "text/plain": [
              "<Figure size 432x288 with 1 Axes>"
            ],
            "image/png": "[encoded data removed]"
          },
          "metadata": {
            "needs_background": "light"
          }
        }
      ]
    },
    {
      "cell_type": "markdown",
      "metadata": {
        "id": "Zbwn0ekDy_s2"
      },
      "source": [
        "### 5 - Inferencia\n",
        "Experimentar el funcionamiento de su modelo. Recuerde que debe realizar la inferencia de los modelos por separado de encoder y decoder."
      ]
    },
    {
      "cell_type": "markdown",
      "source": [
        "#### Armamos lo conversores de indice a palabra:"
      ],
      "metadata": {
        "id": "bj5DJihUovgp"
      }
    },
    {
      "cell_type": "code",
      "source": [
        "idx2word_input = {v:k for k, v in word2idx_inputs.items()}\n",
        "idx2word_target = {v:k for k, v in word2idx_outputs.items()}"
      ],
      "metadata": {
        "id": "dtDMx1mqoulp"
      },
      "execution_count": 25,
      "outputs": []
    },
    {
      "cell_type": "markdown",
      "source": [
        "#### Definimos nuestra funcion de respuesta"
      ],
      "metadata": {
        "id": "75sEUjWCo-tB"
      }
    },
    {
      "cell_type": "code",
      "source": [
        "def answer_question(input_seq):\n",
        "    # Se transforma la sequencia de entrada a los stados \"h\" y \"c\" de la LSTM\n",
        "    # para enviar la primera vez al decoder\"\n",
        "    states_value = encoder_model.predict(input_seq)\n",
        "\n",
        "    # Se inicializa la secuencia de entrada al decoder como \"<sos>\"\n",
        "    target_seq = np.zeros((1, 1))\n",
        "    target_seq[0, 0] = word2idx_outputs[\"<sos>\"]\n",
        "\n",
        "    # Se obtiene el indice que finaliza la inferencia\n",
        "    eos = word2idx_outputs[\"<eos>\"]\n",
        "    \n",
        "    output_sentence = []\n",
        "    for _ in range(max_out_len):\n",
        "        # Predicción del próximo elemento\n",
        "        output_tokens, h, c = decoder_model.predict([target_seq] + states_value)\n",
        "        idx = np.argmax(output_tokens[0, 0, :])\n",
        "\n",
        "        # Si es \"end of sentece <eos>\" se acaba\n",
        "        if eos == idx:\n",
        "            break\n",
        "\n",
        "        # Transformar ídx a palabra\n",
        "        word = ''        \n",
        "        if idx > 0:\n",
        "            word = idx2word_target[idx]\n",
        "            output_sentence.append(word)\n",
        "\n",
        "        # Actualizar los estados dado la ultimo prediccion\n",
        "        states_value = [h, c]\n",
        "\n",
        "        # Actualizar secuencia de entrada con la salida (re-alimentacion)\n",
        "        target_seq[0, 0] = idx\n",
        "\n",
        "    return ' '.join(output_sentence)"
      ],
      "metadata": {
        "id": "OseBMeFBpBZQ"
      },
      "execution_count": 26,
      "outputs": []
    },
    {
      "cell_type": "markdown",
      "source": [
        "#### Generamos algunas consultas para ver el comportamiento del bot"
      ],
      "metadata": {
        "id": "YnTXXyysqM7x"
      }
    },
    {
      "cell_type": "code",
      "source": [
        "for t in range(5):\n",
        "  i = np.random.choice(len(input_sentences))\n",
        "  input_seq = encoder_input_sequences[i:i+1]\n",
        "  translation = answer_question(input_seq)\n",
        "  print('-')\n",
        "  print('Input:', input_sentences[i])\n",
        "  print('Response:', translation)"
      ],
      "metadata": {
        "colab": {
          "base_uri": "https://localhost:8080/"
        },
        "id": "2minMb9CqQug",
        "outputId": "7fd0fd3f-e211-406e-b192-1fb742b11fb5"
      },
      "execution_count": 27,
      "outputs": [
        {
          "output_type": "stream",
          "name": "stdout",
          "text": [
            "-\n",
            "Input: do you \n",
            "Response: what do you do for a living\n",
            "-\n",
            "Input: oh really how old are they \n",
            "Response: no\n",
            "-\n",
            "Input: i think you actually have \n",
            "Response: i love to go to the beach\n",
            "-\n",
            "Input: what kind of dog breed is he \n",
            "Response: i do not have any\n",
            "-\n",
            "Input: talk to you later \n",
            "Response: i like to go to the beach\n"
          ]
        }
      ]
    },
    {
      "cell_type": "markdown",
      "source": [
        "#### Generamos una conversacion con varias preguntas hechas por nosotros"
      ],
      "metadata": {
        "id": "ecSRlV-PqRPF"
      }
    },
    {
      "cell_type": "code",
      "source": [
        "frase_analizar = input('Frase usuario: ')\n",
        "while frase_analizar !='':\n",
        "  frase_tokenizada = input_tokenizer.texts_to_sequences([frase_analizar])[0]\n",
        "  frase_encodeada = pad_sequences([frase_tokenizada], maxlen=max_input_len)\n",
        "  respuesta_bot = answer_question(frase_encodeada)\n",
        "  print('Respuesta bot : ',respuesta_bot)\n",
        "  frase_analizar = input('Frase usuario: ')"
      ],
      "metadata": {
        "colab": {
          "base_uri": "https://localhost:8080/"
        },
        "id": "XC6btZ4BsuHT",
        "outputId": "11004923-9617-4fec-8c35-e0ad00d01982"
      },
      "execution_count": 28,
      "outputs": [
        {
          "name": "stdout",
          "output_type": "stream",
          "text": [
            "Frase usuario: Hello. What's your name?\n",
            "Respuesta bot :  my name is lucy\n",
            "Frase usuario: How old are you?\n",
            "Respuesta bot :  i am 32 i am 32\n",
            "Frase usuario: Are you human?\n",
            "Respuesta bot :  i am not sure what you mean\n",
            "Frase usuario: Are you a bot?\n",
            "Respuesta bot :  i am a girl i am a girl\n",
            "Frase usuario: Are you an IA?\n",
            "Respuesta bot :  no i am not sure\n",
            "Frase usuario: Are you intelligent?\n",
            "Respuesta bot :  no\n",
            "Frase usuario: Do you like music?\n",
            "Respuesta bot :  i like to go to the beach\n",
            "Frase usuario: How many times have you gone to the beach?\n",
            "Respuesta bot :  i am a student\n",
            "Frase usuario: Can you help me?\n",
            "Respuesta bot :  i am a student\n",
            "Frase usuario: What do you study?\n",
            "Respuesta bot :  i am a student\n",
            "Frase usuario: Do like to study?\n",
            "Respuesta bot :  i like to go to the beach\n",
            "Frase usuario: Whtat's the weather like?\n",
            "Respuesta bot :  what do you do for a living\n",
            "Frase usuario: I work. What do you do for a living?\n",
            "Respuesta bot :  i am a student\n",
            "Frase usuario: Do you read?\n",
            "Respuesta bot :  i am a girl i am a girl\n",
            "Frase usuario: Do you have any pet?\n",
            "Respuesta bot :  no\n",
            "Frase usuario: Where are you from?\n",
            "Respuesta bot :  i am from the united states\n",
            "Frase usuario: Do you have friends?\n",
            "Respuesta bot :  i do not have any\n",
            "Frase usuario: DO you want to be my friend?\n",
            "Respuesta bot :  what do you do for a living\n",
            "Frase usuario: Do you like humans?\n",
            "Respuesta bot :  i do not know what to say\n",
            "Frase usuario: Who is your fatter?\n",
            "Respuesta bot :  i like to play video games\n",
            "Frase usuario: Who is your mather?\n",
            "Respuesta bot :  i like to play video games\n",
            "Frase usuario: What do you care about?\n",
            "Respuesta bot :  i am a student\n",
            "Frase usuario: Do you have a dog?\n",
            "Respuesta bot :  i am a student\n",
            "Frase usuario: Tell me something\n",
            "Respuesta bot :  what do you do for a living\n",
            "Frase usuario: \n"
          ]
        }
      ]
    },
    {
      "cell_type": "markdown",
      "source": [
        "### Conclusiones"
      ],
      "metadata": {
        "id": "oR-lMiPIuv6-"
      }
    },
    {
      "cell_type": "markdown",
      "source": [
        "* Se pude implementar un bot que responde varias de nuestras preguntas con coherencia\n",
        "* Se pudo utilizar fasttex como embeddings pre-entrenados\n",
        "* Con una arquitectura formada por 160 neuronas se obtuvo un tiempo de entrenamiento de 2 minutos y medio y se lograron resultados aceptables"
      ],
      "metadata": {
        "id": "WrF-B8oWuxqg"
      }
    }
  ],
  "metadata": {
    "accelerator": "GPU",
    "colab": {
      "collapsed_sections": [],
      "name": "Desafio_6.ipynb",
      "provenance": [],
      "toc_visible": true
    },
    "kernelspec": {
      "display_name": "Python 3 (ipykernel)",
      "language": "python",
      "name": "python3"
    },
    "language_info": {
      "codemirror_mode": {
        "name": "ipython",
        "version": 3
      },
      "file_extension": ".py",
      "mimetype": "text/x-python",
      "name": "python",
      "nbconvert_exporter": "python",
      "pygments_lexer": "ipython3",
      "version": "3.9.12"
    }
  },
  "nbformat": 4,
  "nbformat_minor": 0
}