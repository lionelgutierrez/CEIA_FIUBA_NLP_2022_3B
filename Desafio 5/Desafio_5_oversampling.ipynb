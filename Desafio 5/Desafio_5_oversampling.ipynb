{
 "cells": [
  {
   "cell_type": "markdown",
   "metadata": {
    "id": "kBLpTr7plguX"
   },
   "source": [
    "<img src=\"https://github.com/hernancontigiani/ceia_memorias_especializacion/raw/master/Figures/logoFIUBA.jpg\" width=\"500\" align=\"center\">\n",
    "\n",
    "\n",
    "# Procesamiento de lenguaje natural\n",
    "## Sentiment analysis con Embeddings + LSTM"
   ]
  },
  {
   "cell_type": "markdown",
   "metadata": {
    "id": "9W6nuajhlqZD"
   },
   "source": [
    "### Objetivo\n",
    "El objetivo es utilizar las críticas de compradores de ropa para que el sistema determine la evaluación del comprador y su crítica (cuantas estrellas le asigna al producto)."
   ]
  },
  {
   "cell_type": "code",
   "execution_count": 1,
   "metadata": {
    "colab": {
     "base_uri": "https://localhost:8080/"
    },
    "id": "i6zvzv3qZ6xS",
    "outputId": "eb854560-90d7-4f0c-9d04-d3bdc503e641"
   },
   "outputs": [
    {
     "name": "stdout",
     "output_type": "stream",
     "text": [
      "  Installing build dependencies ... \u001b[?25l\u001b[?25hdone\n",
      "  Getting requirements to build wheel ... \u001b[?25l\u001b[?25hdone\n",
      "    Preparing wheel metadata ... \u001b[?25l\u001b[?25hdone\n",
      "  Building wheel for gdown (PEP 517) ... \u001b[?25l\u001b[?25hdone\n"
     ]
    }
   ],
   "source": [
    "!pip install --upgrade --no-cache-dir gdown --quiet"
   ]
  },
  {
   "cell_type": "code",
   "execution_count": 2,
   "metadata": {
    "id": "hCpOVzJdl8_p"
   },
   "outputs": [],
   "source": [
    "import numpy as np\n",
    "import random\n",
    "import io\n",
    "import pickle\n",
    "import pandas as pd\n",
    "import os\n",
    "import gdown\n",
    "import logging\n",
    "from pathlib import Path\n",
    "from io import StringIO\n",
    "import pickle\n",
    "\n",
    "import matplotlib.pyplot as plt\n",
    "import seaborn as sns\n",
    "\n",
    "from tensorflow import keras\n",
    "from tensorflow.keras import layers\n",
    "\n",
    "from keras.utils.np_utils import to_categorical\n",
    "from keras.preprocessing.sequence import pad_sequences\n",
    "from keras.preprocessing.text import text_to_word_sequence\n",
    "from keras.preprocessing.text import Tokenizer \n",
    "from keras.models import Sequential\n",
    "from keras.layers import Dense\n",
    "from keras.layers import LSTM\n",
    "from keras.layers import Embedding\n",
    "from keras.layers import Dropout\n",
    "from keras.layers import Bidirectional\n",
    "from keras.utils.vis_utils import plot_model\n",
    "from sklearn.model_selection import train_test_split\n",
    "from sklearn.metrics import roc_curve\n",
    "from sklearn.metrics import auc\n",
    "from imblearn.over_sampling import SMOTE\n",
    "from imblearn.over_sampling import RandomOverSampler\n",
    "\n"
   ]
  },
  {
   "cell_type": "markdown",
   "metadata": {
    "id": "8UPeRkrAmbF3"
   },
   "source": [
    "### Datos\n",
    "Utilizaremos como dataset críticas de compradores de ropa (eCommerce) los cuales puntuaron a cada prenda con un puntaje de 1 a 5 estrellas.\\\n",
    "Referencia del dataset: [LINK](https://www.kaggle.com/nicapotato/womens-ecommerce-clothing-reviews/version/1)"
   ]
  },
  {
   "cell_type": "code",
   "execution_count": 3,
   "metadata": {
    "colab": {
     "base_uri": "https://localhost:8080/"
    },
    "id": "C7jLvTU3lSyL",
    "outputId": "661f8091-68a4-4b0c-90ca-6ac67e71a527"
   },
   "outputs": [
    {
     "name": "stderr",
     "output_type": "stream",
     "text": [
      "Downloading...\n",
      "From: https://drive.google.com/uc?id=1k2Dz4oY5uxI3JEaT6m-L2T2HvLkECYIP\n",
      "To: /content/clothing_ecommerce_reviews.csv\n",
      "100%|██████████| 8.48M/8.48M [00:00<00:00, 21.5MB/s]\n"
     ]
    }
   ],
   "source": [
    "# Descargar la carpeta de dataset\n",
    "if os.access('clothing_ecommerce_reviews.csv', os.F_OK) is False:\n",
    "    url = 'https://drive.google.com/uc?id=1k2Dz4oY5uxI3JEaT6m-L2T2HvLkECYIP'\n",
    "    output = 'clothing_ecommerce_reviews.csv'\n",
    "    gdown.download(url, output, quiet=False)\n",
    "else:\n",
    "    print(\"El dataset ya se encuentra descargado\")"
   ]
  },
  {
   "cell_type": "code",
   "execution_count": 4,
   "metadata": {
    "colab": {
     "base_uri": "https://localhost:8080/",
     "height": 354
    },
    "id": "o-SV1P3dnD1J",
    "outputId": "51afb090-b4e4-4f41-ebf4-b081d98b3d87"
   },
   "outputs": [
    {
     "data": {
      "text/html": [
       "\n",
       "  <div id=\"df-32525668-c061-477b-a010-d6fbf8a2b4cb\">\n",
       "    <div class=\"colab-df-container\">\n",
       "      <div>\n",
       "<style scoped>\n",
       "    .dataframe tbody tr th:only-of-type {\n",
       "        vertical-align: middle;\n",
       "    }\n",
       "\n",
       "    .dataframe tbody tr th {\n",
       "        vertical-align: top;\n",
       "    }\n",
       "\n",
       "    .dataframe thead th {\n",
       "        text-align: right;\n",
       "    }\n",
       "</style>\n",
       "<table border=\"1\" class=\"dataframe\">\n",
       "  <thead>\n",
       "    <tr style=\"text-align: right;\">\n",
       "      <th></th>\n",
       "      <th>Clothing ID</th>\n",
       "      <th>Age</th>\n",
       "      <th>Title</th>\n",
       "      <th>Review Text</th>\n",
       "      <th>Rating</th>\n",
       "      <th>Recommended IND</th>\n",
       "      <th>Positive Feedback Count</th>\n",
       "      <th>Division Name</th>\n",
       "      <th>Department Name</th>\n",
       "      <th>Class Name</th>\n",
       "    </tr>\n",
       "  </thead>\n",
       "  <tbody>\n",
       "    <tr>\n",
       "      <th>0</th>\n",
       "      <td>767</td>\n",
       "      <td>33</td>\n",
       "      <td>NaN</td>\n",
       "      <td>Absolutely wonderful - silky and sexy and comf...</td>\n",
       "      <td>4</td>\n",
       "      <td>1</td>\n",
       "      <td>0</td>\n",
       "      <td>Initmates</td>\n",
       "      <td>Intimate</td>\n",
       "      <td>Intimates</td>\n",
       "    </tr>\n",
       "    <tr>\n",
       "      <th>1</th>\n",
       "      <td>1080</td>\n",
       "      <td>34</td>\n",
       "      <td>NaN</td>\n",
       "      <td>Love this dress!  it's sooo pretty.  i happene...</td>\n",
       "      <td>5</td>\n",
       "      <td>1</td>\n",
       "      <td>4</td>\n",
       "      <td>General</td>\n",
       "      <td>Dresses</td>\n",
       "      <td>Dresses</td>\n",
       "    </tr>\n",
       "    <tr>\n",
       "      <th>2</th>\n",
       "      <td>1077</td>\n",
       "      <td>60</td>\n",
       "      <td>Some major design flaws</td>\n",
       "      <td>I had such high hopes for this dress and reall...</td>\n",
       "      <td>3</td>\n",
       "      <td>0</td>\n",
       "      <td>0</td>\n",
       "      <td>General</td>\n",
       "      <td>Dresses</td>\n",
       "      <td>Dresses</td>\n",
       "    </tr>\n",
       "    <tr>\n",
       "      <th>3</th>\n",
       "      <td>1049</td>\n",
       "      <td>50</td>\n",
       "      <td>My favorite buy!</td>\n",
       "      <td>I love, love, love this jumpsuit. it's fun, fl...</td>\n",
       "      <td>5</td>\n",
       "      <td>1</td>\n",
       "      <td>0</td>\n",
       "      <td>General Petite</td>\n",
       "      <td>Bottoms</td>\n",
       "      <td>Pants</td>\n",
       "    </tr>\n",
       "    <tr>\n",
       "      <th>4</th>\n",
       "      <td>847</td>\n",
       "      <td>47</td>\n",
       "      <td>Flattering shirt</td>\n",
       "      <td>This shirt is very flattering to all due to th...</td>\n",
       "      <td>5</td>\n",
       "      <td>1</td>\n",
       "      <td>6</td>\n",
       "      <td>General</td>\n",
       "      <td>Tops</td>\n",
       "      <td>Blouses</td>\n",
       "    </tr>\n",
       "  </tbody>\n",
       "</table>\n",
       "</div>\n",
       "      <button class=\"colab-df-convert\" onclick=\"convertToInteractive('df-32525668-c061-477b-a010-d6fbf8a2b4cb')\"\n",
       "              title=\"Convert this dataframe to an interactive table.\"\n",
       "              style=\"display:none;\">\n",
       "        \n",
       "  <svg xmlns=\"http://www.w3.org/2000/svg\" height=\"24px\"viewBox=\"0 0 24 24\"\n",
       "       width=\"24px\">\n",
       "    <path d=\"M0 0h24v24H0V0z\" fill=\"none\"/>\n",
       "    <path d=\"M18.56 5.44l.94 2.06.94-2.06 2.06-.94-2.06-.94-.94-2.06-.94 2.06-2.06.94zm-11 1L8.5 8.5l.94-2.06 2.06-.94-2.06-.94L8.5 2.5l-.94 2.06-2.06.94zm10 10l.94 2.06.94-2.06 2.06-.94-2.06-.94-.94-2.06-.94 2.06-2.06.94z\"/><path d=\"M17.41 7.96l-1.37-1.37c-.4-.4-.92-.59-1.43-.59-.52 0-1.04.2-1.43.59L10.3 9.45l-7.72 7.72c-.78.78-.78 2.05 0 2.83L4 21.41c.39.39.9.59 1.41.59.51 0 1.02-.2 1.41-.59l7.78-7.78 2.81-2.81c.8-.78.8-2.07 0-2.86zM5.41 20L4 18.59l7.72-7.72 1.47 1.35L5.41 20z\"/>\n",
       "  </svg>\n",
       "      </button>\n",
       "      \n",
       "  <style>\n",
       "    .colab-df-container {\n",
       "      display:flex;\n",
       "      flex-wrap:wrap;\n",
       "      gap: 12px;\n",
       "    }\n",
       "\n",
       "    .colab-df-convert {\n",
       "      background-color: #E8F0FE;\n",
       "      border: none;\n",
       "      border-radius: 50%;\n",
       "      cursor: pointer;\n",
       "      display: none;\n",
       "      fill: #1967D2;\n",
       "      height: 32px;\n",
       "      padding: 0 0 0 0;\n",
       "      width: 32px;\n",
       "    }\n",
       "\n",
       "    .colab-df-convert:hover {\n",
       "      background-color: #E2EBFA;\n",
       "      box-shadow: 0px 1px 2px rgba(60, 64, 67, 0.3), 0px 1px 3px 1px rgba(60, 64, 67, 0.15);\n",
       "      fill: #174EA6;\n",
       "    }\n",
       "\n",
       "    [theme=dark] .colab-df-convert {\n",
       "      background-color: #3B4455;\n",
       "      fill: #D2E3FC;\n",
       "    }\n",
       "\n",
       "    [theme=dark] .colab-df-convert:hover {\n",
       "      background-color: #434B5C;\n",
       "      box-shadow: 0px 1px 3px 1px rgba(0, 0, 0, 0.15);\n",
       "      filter: drop-shadow(0px 1px 2px rgba(0, 0, 0, 0.3));\n",
       "      fill: #FFFFFF;\n",
       "    }\n",
       "  </style>\n",
       "\n",
       "      <script>\n",
       "        const buttonEl =\n",
       "          document.querySelector('#df-32525668-c061-477b-a010-d6fbf8a2b4cb button.colab-df-convert');\n",
       "        buttonEl.style.display =\n",
       "          google.colab.kernel.accessAllowed ? 'block' : 'none';\n",
       "\n",
       "        async function convertToInteractive(key) {\n",
       "          const element = document.querySelector('#df-32525668-c061-477b-a010-d6fbf8a2b4cb');\n",
       "          const dataTable =\n",
       "            await google.colab.kernel.invokeFunction('convertToInteractive',\n",
       "                                                     [key], {});\n",
       "          if (!dataTable) return;\n",
       "\n",
       "          const docLinkHtml = 'Like what you see? Visit the ' +\n",
       "            '<a target=\"_blank\" href=https://colab.research.google.com/notebooks/data_table.ipynb>data table notebook</a>'\n",
       "            + ' to learn more about interactive tables.';\n",
       "          element.innerHTML = '';\n",
       "          dataTable['output_type'] = 'display_data';\n",
       "          await google.colab.output.renderOutput(dataTable, element);\n",
       "          const docLink = document.createElement('div');\n",
       "          docLink.innerHTML = docLinkHtml;\n",
       "          element.appendChild(docLink);\n",
       "        }\n",
       "      </script>\n",
       "    </div>\n",
       "  </div>\n",
       "  "
      ],
      "text/plain": [
       "   Clothing ID  Age                    Title  \\\n",
       "0          767   33                      NaN   \n",
       "1         1080   34                      NaN   \n",
       "2         1077   60  Some major design flaws   \n",
       "3         1049   50         My favorite buy!   \n",
       "4          847   47         Flattering shirt   \n",
       "\n",
       "                                         Review Text  Rating  Recommended IND  \\\n",
       "0  Absolutely wonderful - silky and sexy and comf...       4                1   \n",
       "1  Love this dress!  it's sooo pretty.  i happene...       5                1   \n",
       "2  I had such high hopes for this dress and reall...       3                0   \n",
       "3  I love, love, love this jumpsuit. it's fun, fl...       5                1   \n",
       "4  This shirt is very flattering to all due to th...       5                1   \n",
       "\n",
       "   Positive Feedback Count   Division Name Department Name Class Name  \n",
       "0                        0       Initmates        Intimate  Intimates  \n",
       "1                        4         General         Dresses    Dresses  \n",
       "2                        0         General         Dresses    Dresses  \n",
       "3                        0  General Petite         Bottoms      Pants  \n",
       "4                        6         General            Tops    Blouses  "
      ]
     },
     "execution_count": 4,
     "metadata": {},
     "output_type": "execute_result"
    }
   ],
   "source": [
    "# Armar el dataset\n",
    "df = pd.read_csv('clothing_ecommerce_reviews.csv')\n",
    "df.drop(columns = ['Unnamed: 0'], inplace = True)\n",
    "df.head()"
   ]
  },
  {
   "cell_type": "markdown",
   "metadata": {
    "id": "q-OwSePKm-FK"
   },
   "source": [
    "### 1 - Limpieza de datos\n",
    "\n",
    "\n"
   ]
  },
  {
   "cell_type": "markdown",
   "metadata": {
    "id": "Tktkye3BkRxb"
   },
   "source": [
    "#### Alumno:\n",
    "- Del dataset unicamente utilizar las columnas \"Review Text\" y \"Rating.\n",
    "- Tranformar el rating 1-5 a una escala numérica de 0 a 4."
   ]
  },
  {
   "cell_type": "code",
   "execution_count": 5,
   "metadata": {
    "colab": {
     "base_uri": "https://localhost:8080/",
     "height": 206
    },
    "id": "-hc7-AmYnPC3",
    "outputId": "a910c92b-10fb-422a-e102-687e6c78cabf"
   },
   "outputs": [
    {
     "data": {
      "text/html": [
       "\n",
       "  <div id=\"df-56073865-ca1f-453d-953f-5d39dbf8dc2c\">\n",
       "    <div class=\"colab-df-container\">\n",
       "      <div>\n",
       "<style scoped>\n",
       "    .dataframe tbody tr th:only-of-type {\n",
       "        vertical-align: middle;\n",
       "    }\n",
       "\n",
       "    .dataframe tbody tr th {\n",
       "        vertical-align: top;\n",
       "    }\n",
       "\n",
       "    .dataframe thead th {\n",
       "        text-align: right;\n",
       "    }\n",
       "</style>\n",
       "<table border=\"1\" class=\"dataframe\">\n",
       "  <thead>\n",
       "    <tr style=\"text-align: right;\">\n",
       "      <th></th>\n",
       "      <th>Review Text</th>\n",
       "      <th>Rating</th>\n",
       "    </tr>\n",
       "  </thead>\n",
       "  <tbody>\n",
       "    <tr>\n",
       "      <th>0</th>\n",
       "      <td>Absolutely wonderful - silky and sexy and comf...</td>\n",
       "      <td>3</td>\n",
       "    </tr>\n",
       "    <tr>\n",
       "      <th>1</th>\n",
       "      <td>Love this dress!  it's sooo pretty.  i happene...</td>\n",
       "      <td>4</td>\n",
       "    </tr>\n",
       "    <tr>\n",
       "      <th>2</th>\n",
       "      <td>I had such high hopes for this dress and reall...</td>\n",
       "      <td>2</td>\n",
       "    </tr>\n",
       "    <tr>\n",
       "      <th>3</th>\n",
       "      <td>I love, love, love this jumpsuit. it's fun, fl...</td>\n",
       "      <td>4</td>\n",
       "    </tr>\n",
       "    <tr>\n",
       "      <th>4</th>\n",
       "      <td>This shirt is very flattering to all due to th...</td>\n",
       "      <td>4</td>\n",
       "    </tr>\n",
       "  </tbody>\n",
       "</table>\n",
       "</div>\n",
       "      <button class=\"colab-df-convert\" onclick=\"convertToInteractive('df-56073865-ca1f-453d-953f-5d39dbf8dc2c')\"\n",
       "              title=\"Convert this dataframe to an interactive table.\"\n",
       "              style=\"display:none;\">\n",
       "        \n",
       "  <svg xmlns=\"http://www.w3.org/2000/svg\" height=\"24px\"viewBox=\"0 0 24 24\"\n",
       "       width=\"24px\">\n",
       "    <path d=\"M0 0h24v24H0V0z\" fill=\"none\"/>\n",
       "    <path d=\"M18.56 5.44l.94 2.06.94-2.06 2.06-.94-2.06-.94-.94-2.06-.94 2.06-2.06.94zm-11 1L8.5 8.5l.94-2.06 2.06-.94-2.06-.94L8.5 2.5l-.94 2.06-2.06.94zm10 10l.94 2.06.94-2.06 2.06-.94-2.06-.94-.94-2.06-.94 2.06-2.06.94z\"/><path d=\"M17.41 7.96l-1.37-1.37c-.4-.4-.92-.59-1.43-.59-.52 0-1.04.2-1.43.59L10.3 9.45l-7.72 7.72c-.78.78-.78 2.05 0 2.83L4 21.41c.39.39.9.59 1.41.59.51 0 1.02-.2 1.41-.59l7.78-7.78 2.81-2.81c.8-.78.8-2.07 0-2.86zM5.41 20L4 18.59l7.72-7.72 1.47 1.35L5.41 20z\"/>\n",
       "  </svg>\n",
       "      </button>\n",
       "      \n",
       "  <style>\n",
       "    .colab-df-container {\n",
       "      display:flex;\n",
       "      flex-wrap:wrap;\n",
       "      gap: 12px;\n",
       "    }\n",
       "\n",
       "    .colab-df-convert {\n",
       "      background-color: #E8F0FE;\n",
       "      border: none;\n",
       "      border-radius: 50%;\n",
       "      cursor: pointer;\n",
       "      display: none;\n",
       "      fill: #1967D2;\n",
       "      height: 32px;\n",
       "      padding: 0 0 0 0;\n",
       "      width: 32px;\n",
       "    }\n",
       "\n",
       "    .colab-df-convert:hover {\n",
       "      background-color: #E2EBFA;\n",
       "      box-shadow: 0px 1px 2px rgba(60, 64, 67, 0.3), 0px 1px 3px 1px rgba(60, 64, 67, 0.15);\n",
       "      fill: #174EA6;\n",
       "    }\n",
       "\n",
       "    [theme=dark] .colab-df-convert {\n",
       "      background-color: #3B4455;\n",
       "      fill: #D2E3FC;\n",
       "    }\n",
       "\n",
       "    [theme=dark] .colab-df-convert:hover {\n",
       "      background-color: #434B5C;\n",
       "      box-shadow: 0px 1px 3px 1px rgba(0, 0, 0, 0.15);\n",
       "      filter: drop-shadow(0px 1px 2px rgba(0, 0, 0, 0.3));\n",
       "      fill: #FFFFFF;\n",
       "    }\n",
       "  </style>\n",
       "\n",
       "      <script>\n",
       "        const buttonEl =\n",
       "          document.querySelector('#df-56073865-ca1f-453d-953f-5d39dbf8dc2c button.colab-df-convert');\n",
       "        buttonEl.style.display =\n",
       "          google.colab.kernel.accessAllowed ? 'block' : 'none';\n",
       "\n",
       "        async function convertToInteractive(key) {\n",
       "          const element = document.querySelector('#df-56073865-ca1f-453d-953f-5d39dbf8dc2c');\n",
       "          const dataTable =\n",
       "            await google.colab.kernel.invokeFunction('convertToInteractive',\n",
       "                                                     [key], {});\n",
       "          if (!dataTable) return;\n",
       "\n",
       "          const docLinkHtml = 'Like what you see? Visit the ' +\n",
       "            '<a target=\"_blank\" href=https://colab.research.google.com/notebooks/data_table.ipynb>data table notebook</a>'\n",
       "            + ' to learn more about interactive tables.';\n",
       "          element.innerHTML = '';\n",
       "          dataTable['output_type'] = 'display_data';\n",
       "          await google.colab.output.renderOutput(dataTable, element);\n",
       "          const docLink = document.createElement('div');\n",
       "          docLink.innerHTML = docLinkHtml;\n",
       "          element.appendChild(docLink);\n",
       "        }\n",
       "      </script>\n",
       "    </div>\n",
       "  </div>\n",
       "  "
      ],
      "text/plain": [
       "                                         Review Text  Rating\n",
       "0  Absolutely wonderful - silky and sexy and comf...       3\n",
       "1  Love this dress!  it's sooo pretty.  i happene...       4\n",
       "2  I had such high hopes for this dress and reall...       2\n",
       "3  I love, love, love this jumpsuit. it's fun, fl...       4\n",
       "4  This shirt is very flattering to all due to th...       4"
      ]
     },
     "execution_count": 5,
     "metadata": {},
     "output_type": "execute_result"
    }
   ],
   "source": [
    "df_reviews = df.loc[:, ['Review Text', 'Rating']].dropna()\n",
    "df_reviews['Rating'] = df_reviews['Rating'] - 1\n",
    "df_reviews.head()"
   ]
  },
  {
   "cell_type": "markdown",
   "metadata": {
    "id": "f0MN-o4NihMR"
   },
   "source": [
    "#### Alumno: \n",
    "\n",
    "Observar como está distribuido el dataset respecto a la columna Rating es decir, observar que tan balanceado se encuentra respecto a cada clase"
   ]
  },
  {
   "cell_type": "code",
   "execution_count": 6,
   "metadata": {
    "colab": {
     "base_uri": "https://localhost:8080/"
    },
    "id": "sZtvASVOn3ty",
    "outputId": "1e5132f1-af7d-4737-ed26-6ff05f69d7ea"
   },
   "outputs": [
    {
     "data": {
      "text/plain": [
       "4    0.553862\n",
       "3    0.216775\n",
       "2    0.124685\n",
       "1    0.068416\n",
       "0    0.036262\n",
       "Name: Rating, dtype: float64"
      ]
     },
     "execution_count": 6,
     "metadata": {},
     "output_type": "execute_result"
    }
   ],
   "source": [
    "# Alumno: Observar como está distribuido el dataset respecto a la columna Rating\n",
    "# es decir, observar que tan balanceado se encuentra respecto a cada clase\n",
    "balance_clases=df_reviews['Rating'].value_counts(normalize=True)\n",
    "balance_clases\n"
   ]
  },
  {
   "cell_type": "code",
   "execution_count": 7,
   "metadata": {
    "colab": {
     "base_uri": "https://localhost:8080/",
     "height": 295
    },
    "id": "vrlbM5itjveq",
    "outputId": "b3dd33ae-4b19-4a18-b3e1-6d65abf5e3dc"
   },
   "outputs": [
    {
     "data": {
      "image/png": "[encoded data removed]",
      "text/plain": [
       "<Figure size 432x288 with 1 Axes>"
      ]
     },
     "metadata": {
      "needs_background": "light"
     },
     "output_type": "display_data"
    }
   ],
   "source": [
    "sns.countplot(x='Rating', data=df_reviews)\n",
    "plt.title(\"Balanceo de clases\")\n",
    "plt.xlabel(\"Rating\")\n",
    "plt.ylabel(\"Número de observaciones\");\n",
    "plt.show()"
   ]
  },
  {
   "cell_type": "markdown",
   "metadata": {
    "id": "E53QIBPLjTjZ"
   },
   "source": [
    "Vemos que las clases están bastante desbalanceadas"
   ]
  },
  {
   "cell_type": "markdown",
   "metadata": {
    "id": "q6Q9TB7zkEzd"
   },
   "source": [
    "#### Alumno: tomar la columna de las review y almacenarlo todo en un vector numpy de reviews"
   ]
  },
  {
   "cell_type": "code",
   "execution_count": 8,
   "metadata": {
    "colab": {
     "base_uri": "https://localhost:8080/"
    },
    "id": "gVJ_RVi4o1h3",
    "outputId": "c2fe5f6a-3681-4c86-a6ea-c86767c09f8a"
   },
   "outputs": [
    {
     "name": "stdout",
     "output_type": "stream",
     "text": [
      "Shape del vecotr de reviews:  (22641,)\n"
     ]
    }
   ],
   "source": [
    "rating_reviews = df_reviews['Review Text'].values\n",
    "print(\"Shape del vecotr de reviews: \",rating_reviews.shape)"
   ]
  },
  {
   "cell_type": "markdown",
   "metadata": {
    "id": "PSBFUgIPktsk"
   },
   "source": [
    "#### Alumno: Cuantas reviews (rows) hay para evaluar?"
   ]
  },
  {
   "cell_type": "code",
   "execution_count": 9,
   "metadata": {
    "colab": {
     "base_uri": "https://localhost:8080/"
    },
    "id": "4nT5Un_co65Q",
    "outputId": "5ab60e1b-0b8d-4260-f289-f8eb34a2136a"
   },
   "outputs": [
    {
     "name": "stdout",
     "output_type": "stream",
     "text": [
      "Cantidad de reviews a evaluar:  22641\n"
     ]
    }
   ],
   "source": [
    "print(\"Cantidad de reviews a evaluar: \",len(rating_reviews))"
   ]
  },
  {
   "cell_type": "code",
   "execution_count": 10,
   "metadata": {
    "colab": {
     "base_uri": "https://localhost:8080/"
    },
    "id": "2pqI_WKsll1x",
    "outputId": "8e2996e4-e946-4fe9-b2c6-0b8a4d04612f"
   },
   "outputs": [
    {
     "name": "stdout",
     "output_type": "stream",
     "text": [
      "Las primeras 5 reviews son: \n",
      "\n"
     ]
    },
    {
     "data": {
      "text/plain": [
       "array(['Absolutely wonderful - silky and sexy and comfortable',\n",
       "       'Love this dress!  it\\'s sooo pretty.  i happened to find it in a store, and i\\'m glad i did bc i never would have ordered it online bc it\\'s petite.  i bought a petite and am 5\\'8\".  i love the length on me- hits just a little below the knee.  would definitely be a true midi on someone who is truly petite.',\n",
       "       'I had such high hopes for this dress and really wanted it to work for me. i initially ordered the petite small (my usual size) but i found this to be outrageously small. so small in fact that i could not zip it up! i reordered it in petite medium, which was just ok. overall, the top half was comfortable and fit nicely, but the bottom half had a very tight under layer and several somewhat cheap (net) over layers. imo, a major design flaw was the net over layer sewn directly into the zipper - it c',\n",
       "       \"I love, love, love this jumpsuit. it's fun, flirty, and fabulous! every time i wear it, i get nothing but great compliments!\",\n",
       "       'This shirt is very flattering to all due to the adjustable front tie. it is the perfect length to wear with leggings and it is sleeveless so it pairs well with any cardigan. love this shirt!!!'],\n",
       "      dtype=object)"
      ]
     },
     "execution_count": 10,
     "metadata": {},
     "output_type": "execute_result"
    }
   ],
   "source": [
    "print(\"Las primeras 5 reviews son: \\n\")\n",
    "rating_reviews[:5]"
   ]
  },
  {
   "cell_type": "markdown",
   "metadata": {
    "id": "jfcpwuuXlASo"
   },
   "source": [
    "#### Alumno: Concatenar todas las reviews para armar el corpus"
   ]
  },
  {
   "cell_type": "code",
   "execution_count": 11,
   "metadata": {
    "id": "HP5uN9tqpHu_"
   },
   "outputs": [],
   "source": [
    "corpus = ' '.join(rating_reviews)"
   ]
  },
  {
   "cell_type": "markdown",
   "metadata": {
    "id": "Oy8NoB1fl9jR"
   },
   "source": [
    "#### Alumno: ¿Cuál es la longitud de ese corpus?"
   ]
  },
  {
   "cell_type": "code",
   "execution_count": 12,
   "metadata": {
    "colab": {
     "base_uri": "https://localhost:8080/"
    },
    "id": "FEzmePgdpf74",
    "outputId": "d7146a02-3445-4ceb-8109-50b8d0aba0c0"
   },
   "outputs": [
    {
     "name": "stdout",
     "output_type": "stream",
     "text": [
      "Longitud del corpus:  7011643\n"
     ]
    }
   ],
   "source": [
    "print(\"Longitud del corpus: \",len(corpus))"
   ]
  },
  {
   "cell_type": "markdown",
   "metadata": {
    "id": "ZQgH5kewmPEU"
   },
   "source": [
    "#### Alumno: Utilizar \"text_to_word_sequence\" para separar las palabras en tokens\n",
    "\n",
    "Recordar que text_to_word_sequence automaticamente quita los signos de puntuacion y pasa el texto a lowercase"
   ]
  },
  {
   "cell_type": "code",
   "execution_count": 13,
   "metadata": {
    "id": "MYeJLdDmpvOe"
   },
   "outputs": [],
   "source": [
    "tokens = text_to_word_sequence(corpus)"
   ]
  },
  {
   "cell_type": "markdown",
   "metadata": {
    "id": "IS-e6p4PmcMY"
   },
   "source": [
    "#### Alumno: Dar un vistazo a los primeros 20 tokens/palabras"
   ]
  },
  {
   "cell_type": "code",
   "execution_count": 14,
   "metadata": {
    "colab": {
     "base_uri": "https://localhost:8080/"
    },
    "id": "M6L-fnWAp_lA",
    "outputId": "7069e958-1e68-447f-9aee-9acdc010f9be"
   },
   "outputs": [
    {
     "name": "stdout",
     "output_type": "stream",
     "text": [
      "Primeros 20 tokens:\n",
      " ['absolutely', 'wonderful', 'silky', 'and', 'sexy', 'and', 'comfortable', 'love', 'this', 'dress', \"it's\", 'sooo', 'pretty', 'i', 'happened', 'to', 'find', 'it', 'in', 'a']\n"
     ]
    }
   ],
   "source": [
    "print(\"Primeros 20 tokens:\\n\",tokens[:20])"
   ]
  },
  {
   "cell_type": "markdown",
   "metadata": {
    "id": "eaQRIH5PnSTo"
   },
   "source": [
    "#### Alumno: ¿Cuántos tokens/palabras hay?"
   ]
  },
  {
   "cell_type": "code",
   "execution_count": 15,
   "metadata": {
    "colab": {
     "base_uri": "https://localhost:8080/"
    },
    "id": "-8QgwwMUqG0d",
    "outputId": "b838d94d-e3ba-4da1-bbfa-614bc54da727"
   },
   "outputs": [
    {
     "name": "stdout",
     "output_type": "stream",
     "text": [
      "Cantidad de tokens:  1372203\n"
     ]
    }
   ],
   "source": [
    "print(\"Cantidad de tokens: \",len(tokens))"
   ]
  },
  {
   "cell_type": "markdown",
   "metadata": {
    "id": "qQK9isUFn3hT"
   },
   "source": [
    "#### Alumno: Tokenizar las palabras con el Tokenizer de Keras\n",
    "\n",
    "- Definir una máxima cantidad de palabras a utilizar: num_words "
   ]
  },
  {
   "cell_type": "code",
   "execution_count": 16,
   "metadata": {
    "id": "TFukNZdOsZ8_"
   },
   "outputs": [],
   "source": [
    "num_words = 8000\n",
    "vocab_size = num_words\n",
    "tokenizador = Tokenizer(num_words=num_words)\n",
    "tokenizador.fit_on_texts(tokens)"
   ]
  },
  {
   "cell_type": "markdown",
   "metadata": {
    "id": "gGszfoPtopRG"
   },
   "source": [
    "#### Alumno: Obtener el diccionario de palabra (word) a índice y observar la cantidad total del vocabulario"
   ]
  },
  {
   "cell_type": "code",
   "execution_count": 17,
   "metadata": {
    "colab": {
     "base_uri": "https://localhost:8080/"
    },
    "id": "JnR1tlqZy94X",
    "outputId": "ffcf7298-bc71-4993-b9ac-59a572e115b5"
   },
   "outputs": [
    {
     "name": "stdout",
     "output_type": "stream",
     "text": [
      "Cantidad total del vocabulario:  14847\n"
     ]
    }
   ],
   "source": [
    "word_index = tokenizador.word_index\n",
    "print(\"Cantidad total del vocabulario: \",len(word_index))"
   ]
  },
  {
   "cell_type": "markdown",
   "metadata": {
    "id": "8UxnIgvEppgx"
   },
   "source": [
    "#### Alumno: Convertir las palabras/tokens a números"
   ]
  },
  {
   "cell_type": "code",
   "execution_count": 18,
   "metadata": {
    "id": "AvWzzSretQXf"
   },
   "outputs": [],
   "source": [
    "reviews_nums = tokenizador.texts_to_sequences(rating_reviews)"
   ]
  },
  {
   "cell_type": "code",
   "execution_count": 19,
   "metadata": {
    "colab": {
     "base_uri": "https://localhost:8080/"
    },
    "id": "H8Nu8juKqGEe",
    "outputId": "fb6a6bb5-f110-4011-d576-39b27025d6af"
   },
   "outputs": [
    {
     "name": "stdout",
     "output_type": "stream",
     "text": [
      "Para el review: ' Absolutely wonderful - silky and sexy and comfortable ' su representación númerica es:  [253, 532, 917, 3, 662, 3, 68]\n"
     ]
    }
   ],
   "source": [
    "print(\"Para el review: '\",rating_reviews[0], \"' su representación númerica es: \", reviews_nums[0])"
   ]
  },
  {
   "cell_type": "markdown",
   "metadata": {
    "id": "PF7zISE8vTdn"
   },
   "source": [
    "#### Alumno: Determinar cual es la oración más larga"
   ]
  },
  {
   "cell_type": "code",
   "execution_count": 20,
   "metadata": {
    "colab": {
     "base_uri": "https://localhost:8080/"
    },
    "id": "za73M5SRtbrP",
    "outputId": "6fd8e89d-39f5-4770-fae8-450e22e59653"
   },
   "outputs": [
    {
     "name": "stdout",
     "output_type": "stream",
     "text": [
      "La oracion más larga tiene  116  palabras\n"
     ]
    }
   ],
   "source": [
    "long_max =max(len(s) for s in reviews_nums)\n",
    "print(\"La oracion más larga tiene \",long_max, \" palabras\")"
   ]
  },
  {
   "cell_type": "markdown",
   "metadata": {
    "id": "9UXb3OAHwp0K"
   },
   "source": [
    "#### Alumno: Realizar padding de las sentencias al mismo tamaño tomando de referencia la máxima sentencia"
   ]
  },
  {
   "cell_type": "code",
   "execution_count": 21,
   "metadata": {
    "id": "oCkO9Wc9tls1"
   },
   "outputs": [],
   "source": [
    " X = pad_sequences(reviews_nums, padding='pre', maxlen=long_max)"
   ]
  },
  {
   "cell_type": "markdown",
   "metadata": {
    "id": "6ALC1SQ8xJj_"
   },
   "source": [
    "#### Alumno: Observar las dimensiones de la variable input"
   ]
  },
  {
   "cell_type": "code",
   "execution_count": 22,
   "metadata": {
    "colab": {
     "base_uri": "https://localhost:8080/"
    },
    "id": "kGHHabVdt_aa",
    "outputId": "02bf4050-cc40-483c-b6e9-c964153c645e"
   },
   "outputs": [
    {
     "name": "stdout",
     "output_type": "stream",
     "text": [
      "Dimensiones de la variable input(x):  (22641, 116)\n"
     ]
    }
   ],
   "source": [
    "print(\"Dimensiones de la variable input(x): \",X.shape)"
   ]
  },
  {
   "cell_type": "markdown",
   "metadata": {
    "id": "ZklRHdyAxrfg"
   },
   "source": [
    "#### Alumno tomar la columna rating y alcemacenarla en una variable \"y\" transformada a oneHotEncoding\n",
    "Su shape debe ser equivalente la cantidad de rows del corpus y a la cantidad de clases que se deseen predecir (en este ejemplo son 5)"
   ]
  },
  {
   "cell_type": "code",
   "execution_count": 23,
   "metadata": {
    "id": "llVM-tzQo9_F"
   },
   "outputs": [],
   "source": [
    "y = to_categorical(df_reviews['Rating'].values)"
   ]
  },
  {
   "cell_type": "code",
   "execution_count": 24,
   "metadata": {
    "colab": {
     "base_uri": "https://localhost:8080/"
    },
    "id": "6cmwJ8X00AtT",
    "outputId": "4223c2d1-eef6-427c-ee9a-04a621fdbb72"
   },
   "outputs": [
    {
     "name": "stdout",
     "output_type": "stream",
     "text": [
      "Dimensiones de la variable output(y):  (22641, 5)\n"
     ]
    }
   ],
   "source": [
    "print(\"Dimensiones de la variable output(y): \",y.shape)"
   ]
  },
  {
   "cell_type": "code",
   "execution_count": 26,
   "metadata": {
    "id": "7W13Cjau4Pu8"
   },
   "outputs": [],
   "source": [
    "#smt = SMOTE(random_state=0)\n",
    "#X, y = smt.fit_resample(X, y)\n",
    "oversampler = RandomOverSampler(sampling_strategy=\"all\")\n",
    "X, y = oversampler.fit_resample(X, y)\n"
   ]
  },
  {
   "cell_type": "code",
   "execution_count": 30,
   "metadata": {
    "colab": {
     "base_uri": "https://localhost:8080/",
     "height": 295
    },
    "id": "lY_hXK5M-OaO",
    "outputId": "29227989-3442-4885-94fe-fe4ebeaa2e60"
   },
   "outputs": [
    {
     "data": {
      "image/png": "[encoded data removed]",
      "text/plain": [
       "<Figure size 432x288 with 1 Axes>"
      ]
     },
     "metadata": {
      "needs_background": "light"
     },
     "output_type": "display_data"
    }
   ],
   "source": [
    "sns.countplot(data=y)#, data=y)\n",
    "plt.title(\"Balanceo de clases\")\n",
    "plt.xlabel(\"Rating\")\n",
    "plt.ylabel(\"Número de observaciones\");\n",
    "plt.show()\n",
    "\n"
   ]
  },
  {
   "cell_type": "markdown",
   "metadata": {
    "id": "tYJ1KzpV0eqA"
   },
   "source": [
    "#### Alumno: Dividir los datos en train y test"
   ]
  },
  {
   "cell_type": "code",
   "execution_count": 31,
   "metadata": {
    "id": "Rmz9A6n4uK4V"
   },
   "outputs": [],
   "source": [
    "X_train, X_test, y_train, y_test = train_test_split(X, y, test_size=0.2, random_state=18)"
   ]
  },
  {
   "cell_type": "markdown",
   "metadata": {
    "id": "GknXbrw10sHf"
   },
   "source": [
    "#### Alumno: determinar la dimensiones de entrada y salida"
   ]
  },
  {
   "cell_type": "code",
   "execution_count": 32,
   "metadata": {
    "colab": {
     "base_uri": "https://localhost:8080/"
    },
    "id": "EcDPlhEouQ9E",
    "outputId": "ce62d93d-86f0-4043-fabe-c3a922c1d229"
   },
   "outputs": [
    {
     "name": "stdout",
     "output_type": "stream",
     "text": [
      "Dimensiones de entrada:  116\n",
      "Dimensiones de salida:  5\n"
     ]
    }
   ],
   "source": [
    "in_shape = X.shape[1]\n",
    "out_shape = y.shape[1]\n",
    "print(\"Dimensiones de entrada: \",in_shape)\n",
    "print(\"Dimensiones de salida: \",out_shape)"
   ]
  },
  {
   "cell_type": "markdown",
   "metadata": {
    "id": "NpbQHExL6OTu"
   },
   "source": [
    "### 2 - Entrenar el modelo con Embeddings + LSTM"
   ]
  },
  {
   "cell_type": "markdown",
   "metadata": {
    "id": "doiFEwXRJX40"
   },
   "source": [
    "#### Alumno: Entrene su modelo con LSTM entrenando sus propios embeddings o utilizando embeddings pre-entrenados."
   ]
  },
  {
   "cell_type": "markdown",
   "metadata": {
    "id": "BNot--sbMrdt"
   },
   "source": [
    "#### 2.1 - Entrenar el modelo con Embeddings + LSTM con embedings propios"
   ]
  },
  {
   "cell_type": "markdown",
   "metadata": {
    "id": "hMHQRR8nNDlQ"
   },
   "source": [
    "##### Generamos nuestro modelo 1\n",
    "\n",
    "El mismo consta de:\n",
    "\n",
    "* Capa de embedings con tamaño de embeding de 50\n",
    "* Capa LSTM de 64 unidades \n",
    "* Capa LSTM de 128 unidades\n",
    "* Capa densa de 64 unidades\n",
    "* Capa densa final con activación Softmax y tamaño de salida de 5 (5 clases)"
   ]
  },
  {
   "cell_type": "code",
   "execution_count": 33,
   "metadata": {
    "colab": {
     "base_uri": "https://localhost:8080/"
    },
    "id": "NUkuWBsM6cx3",
    "outputId": "51cece8e-9f6c-4902-f688-31e36247603d"
   },
   "outputs": [
    {
     "name": "stdout",
     "output_type": "stream",
     "text": [
      "Model: \"sequential\"\n",
      "_________________________________________________________________\n",
      " Layer (type)                Output Shape              Param #   \n",
      "=================================================================\n",
      " embedding (Embedding)       (None, 116, 50)           400050    \n",
      "                                                                 \n",
      " lstm (LSTM)                 (None, 116, 64)           29440     \n",
      "                                                                 \n",
      " dropout (Dropout)           (None, 116, 64)           0         \n",
      "                                                                 \n",
      " lstm_1 (LSTM)               (None, 128)               98816     \n",
      "                                                                 \n",
      " dense (Dense)               (None, 64)                8256      \n",
      "                                                                 \n",
      " dropout_1 (Dropout)         (None, 64)                0         \n",
      "                                                                 \n",
      " dense_1 (Dense)             (None, 5)                 325       \n",
      "                                                                 \n",
      "=================================================================\n",
      "Total params: 536,887\n",
      "Trainable params: 536,887\n",
      "Non-trainable params: 0\n",
      "_________________________________________________________________\n"
     ]
    }
   ],
   "source": [
    "model = Sequential()\n",
    "tam_embed = 50\n",
    "model.add(Embedding(input_dim=vocab_size+1, output_dim=tam_embed, input_length=in_shape))\n",
    "model.add((LSTM(units=64, return_sequences=True)))\n",
    "model.add(Dropout(0.2))\n",
    "model.add(LSTM(units=128)) \n",
    "\n",
    "model.add(Dense(units=64, activation='relu'))\n",
    "model.add(Dropout(rate=0.2))\n",
    "model.add(Dense(units=out_shape, activation='softmax'))\n",
    "\n",
    "model.compile(optimizer=\"adam\",\n",
    "              loss='categorical_crossentropy',\n",
    "              metrics=['accuracy'])\n",
    "\n",
    "model.summary()"
   ]
  },
  {
   "cell_type": "code",
   "execution_count": 34,
   "metadata": {
    "colab": {
     "base_uri": "https://localhost:8080/",
     "height": 865
    },
    "id": "Fl7mW6TuPaPF",
    "outputId": "7d701d0c-d83c-45e5-b442-6c7248227ee7"
   },
   "outputs": [
    {
     "data": {
      "image/png": "[encoded data removed]",
      "text/plain": [
       "<IPython.core.display.Image object>"
      ]
     },
     "execution_count": 34,
     "metadata": {},
     "output_type": "execute_result"
    }
   ],
   "source": [
    "plot_model(model, to_file='model_plot.png', show_shapes=True, show_layer_names=True)"
   ]
  },
  {
   "cell_type": "code",
   "execution_count": 35,
   "metadata": {
    "colab": {
     "base_uri": "https://localhost:8080/"
    },
    "id": "3irwWK-qPa9z",
    "outputId": "43c8eab5-6b58-45e6-cebe-a7c54454c1d8"
   },
   "outputs": [
    {
     "name": "stdout",
     "output_type": "stream",
     "text": [
      "Epoch 1/60\n",
      "1254/1254 [==============================] - 27s 15ms/step - loss: 1.0807 - accuracy: 0.5146 - val_loss: 0.8132 - val_accuracy: 0.6623\n",
      "Epoch 2/60\n",
      "1254/1254 [==============================] - 20s 16ms/step - loss: 0.6794 - accuracy: 0.7239 - val_loss: 0.6741 - val_accuracy: 0.7272\n",
      "Epoch 3/60\n",
      "1254/1254 [==============================] - 18s 15ms/step - loss: 0.5035 - accuracy: 0.8056 - val_loss: 0.5351 - val_accuracy: 0.7976\n",
      "Epoch 4/60\n",
      "1254/1254 [==============================] - 19s 15ms/step - loss: 0.4010 - accuracy: 0.8480 - val_loss: 0.4820 - val_accuracy: 0.8271\n",
      "Epoch 5/60\n",
      "1254/1254 [==============================] - 19s 15ms/step - loss: 0.3290 - accuracy: 0.8799 - val_loss: 0.4567 - val_accuracy: 0.8376\n",
      "Epoch 6/60\n",
      "1254/1254 [==============================] - 18s 14ms/step - loss: 0.2813 - accuracy: 0.8982 - val_loss: 0.4423 - val_accuracy: 0.8531\n",
      "Epoch 7/60\n",
      "1254/1254 [==============================] - 19s 15ms/step - loss: 0.2417 - accuracy: 0.9147 - val_loss: 0.4134 - val_accuracy: 0.8649\n",
      "Epoch 8/60\n",
      "1254/1254 [==============================] - 19s 15ms/step - loss: 0.2045 - accuracy: 0.9304 - val_loss: 0.4255 - val_accuracy: 0.8646\n",
      "Epoch 9/60\n",
      "1254/1254 [==============================] - 18s 14ms/step - loss: 0.1821 - accuracy: 0.9375 - val_loss: 0.4213 - val_accuracy: 0.8743\n",
      "Epoch 10/60\n",
      "1254/1254 [==============================] - 18s 14ms/step - loss: 0.1552 - accuracy: 0.9463 - val_loss: 0.4264 - val_accuracy: 0.8812\n",
      "Epoch 11/60\n",
      "1254/1254 [==============================] - 18s 14ms/step - loss: 0.1426 - accuracy: 0.9518 - val_loss: 0.4120 - val_accuracy: 0.8887\n",
      "Epoch 12/60\n",
      "1254/1254 [==============================] - 18s 14ms/step - loss: 0.1203 - accuracy: 0.9605 - val_loss: 0.4263 - val_accuracy: 0.8889\n",
      "Epoch 13/60\n",
      "1254/1254 [==============================] - 19s 15ms/step - loss: 0.1080 - accuracy: 0.9640 - val_loss: 0.4618 - val_accuracy: 0.8935\n",
      "Epoch 14/60\n",
      "1254/1254 [==============================] - 18s 14ms/step - loss: 0.0919 - accuracy: 0.9693 - val_loss: 0.5017 - val_accuracy: 0.8827\n",
      "Epoch 15/60\n",
      "1254/1254 [==============================] - 18s 14ms/step - loss: 0.0801 - accuracy: 0.9743 - val_loss: 0.4950 - val_accuracy: 0.8867\n",
      "Epoch 16/60\n",
      "1254/1254 [==============================] - 18s 14ms/step - loss: 0.0758 - accuracy: 0.9752 - val_loss: 0.4789 - val_accuracy: 0.8990\n",
      "Epoch 17/60\n",
      "1254/1254 [==============================] - 19s 15ms/step - loss: 0.0573 - accuracy: 0.9813 - val_loss: 0.5418 - val_accuracy: 0.8958\n",
      "Epoch 18/60\n",
      "1254/1254 [==============================] - 18s 14ms/step - loss: 0.0548 - accuracy: 0.9825 - val_loss: 0.5544 - val_accuracy: 0.8965\n",
      "Epoch 19/60\n",
      "1254/1254 [==============================] - 18s 15ms/step - loss: 0.0493 - accuracy: 0.9846 - val_loss: 0.5307 - val_accuracy: 0.9058\n",
      "Epoch 20/60\n",
      "1254/1254 [==============================] - 23s 18ms/step - loss: 0.0403 - accuracy: 0.9876 - val_loss: 0.6455 - val_accuracy: 0.8950\n",
      "Epoch 21/60\n",
      "1254/1254 [==============================] - 19s 15ms/step - loss: 0.0437 - accuracy: 0.9863 - val_loss: 0.6201 - val_accuracy: 0.8929\n",
      "Epoch 22/60\n",
      "1254/1254 [==============================] - 18s 15ms/step - loss: 0.0322 - accuracy: 0.9901 - val_loss: 0.6043 - val_accuracy: 0.8992\n",
      "Epoch 23/60\n",
      "1254/1254 [==============================] - 18s 15ms/step - loss: 0.0304 - accuracy: 0.9902 - val_loss: 0.6689 - val_accuracy: 0.8987\n",
      "Epoch 24/60\n",
      "1254/1254 [==============================] - 24s 19ms/step - loss: 0.0343 - accuracy: 0.9895 - val_loss: 0.5757 - val_accuracy: 0.9026\n",
      "Epoch 25/60\n",
      "1254/1254 [==============================] - 29s 23ms/step - loss: 0.0255 - accuracy: 0.9921 - val_loss: 0.6132 - val_accuracy: 0.9049\n",
      "Epoch 26/60\n",
      "1254/1254 [==============================] - 19s 15ms/step - loss: 0.0196 - accuracy: 0.9939 - val_loss: 0.7191 - val_accuracy: 0.8956\n",
      "Epoch 27/60\n",
      "1254/1254 [==============================] - 18s 15ms/step - loss: 0.0213 - accuracy: 0.9937 - val_loss: 0.7090 - val_accuracy: 0.9035\n",
      "Epoch 28/60\n",
      "1254/1254 [==============================] - 18s 15ms/step - loss: 0.0207 - accuracy: 0.9937 - val_loss: 0.7427 - val_accuracy: 0.8975\n",
      "Epoch 29/60\n",
      "1254/1254 [==============================] - 19s 15ms/step - loss: 0.0206 - accuracy: 0.9935 - val_loss: 0.7157 - val_accuracy: 0.9069\n",
      "Epoch 30/60\n",
      "1254/1254 [==============================] - 18s 15ms/step - loss: 0.0186 - accuracy: 0.9944 - val_loss: 0.6935 - val_accuracy: 0.9057\n",
      "Epoch 31/60\n",
      "1254/1254 [==============================] - 19s 15ms/step - loss: 0.0186 - accuracy: 0.9941 - val_loss: 0.6778 - val_accuracy: 0.9033\n",
      "Epoch 32/60\n",
      "1254/1254 [==============================] - 19s 15ms/step - loss: 0.0167 - accuracy: 0.9951 - val_loss: 0.6898 - val_accuracy: 0.9050\n",
      "Epoch 33/60\n",
      "1254/1254 [==============================] - 20s 16ms/step - loss: 0.0171 - accuracy: 0.9950 - val_loss: 0.7168 - val_accuracy: 0.9034\n",
      "Epoch 34/60\n",
      "1254/1254 [==============================] - 18s 15ms/step - loss: 0.0114 - accuracy: 0.9967 - val_loss: 0.7662 - val_accuracy: 0.9068\n",
      "Epoch 35/60\n",
      "1254/1254 [==============================] - 19s 15ms/step - loss: 0.0143 - accuracy: 0.9953 - val_loss: 0.7961 - val_accuracy: 0.8996\n",
      "Epoch 36/60\n",
      "1254/1254 [==============================] - 18s 15ms/step - loss: 0.0130 - accuracy: 0.9964 - val_loss: 0.8099 - val_accuracy: 0.9002\n",
      "Epoch 37/60\n",
      "1254/1254 [==============================] - 19s 15ms/step - loss: 0.0119 - accuracy: 0.9960 - val_loss: 0.7308 - val_accuracy: 0.9133\n",
      "Epoch 38/60\n",
      "1254/1254 [==============================] - 18s 15ms/step - loss: 0.0103 - accuracy: 0.9969 - val_loss: 0.8456 - val_accuracy: 0.9025\n",
      "Epoch 39/60\n",
      "1254/1254 [==============================] - 20s 16ms/step - loss: 0.0113 - accuracy: 0.9965 - val_loss: 0.8259 - val_accuracy: 0.9069\n",
      "Epoch 40/60\n",
      "1254/1254 [==============================] - 19s 15ms/step - loss: 0.0110 - accuracy: 0.9966 - val_loss: 0.8463 - val_accuracy: 0.9022\n",
      "Epoch 41/60\n",
      "1254/1254 [==============================] - 19s 15ms/step - loss: 0.0107 - accuracy: 0.9971 - val_loss: 0.8316 - val_accuracy: 0.9011\n",
      "Epoch 42/60\n",
      "1254/1254 [==============================] - 18s 14ms/step - loss: 0.0081 - accuracy: 0.9976 - val_loss: 0.8425 - val_accuracy: 0.9044\n",
      "Epoch 43/60\n",
      "1254/1254 [==============================] - 18s 14ms/step - loss: 0.0103 - accuracy: 0.9968 - val_loss: 0.8616 - val_accuracy: 0.9085\n",
      "Epoch 44/60\n",
      "1254/1254 [==============================] - 18s 15ms/step - loss: 0.0102 - accuracy: 0.9970 - val_loss: 0.8472 - val_accuracy: 0.9024\n",
      "Epoch 45/60\n",
      "1254/1254 [==============================] - 18s 15ms/step - loss: 0.0084 - accuracy: 0.9972 - val_loss: 0.9712 - val_accuracy: 0.9046\n",
      "Epoch 46/60\n",
      "1254/1254 [==============================] - 19s 15ms/step - loss: 0.0077 - accuracy: 0.9975 - val_loss: 0.8302 - val_accuracy: 0.9072\n",
      "Epoch 47/60\n",
      "1254/1254 [==============================] - 19s 15ms/step - loss: 0.0086 - accuracy: 0.9975 - val_loss: 0.8954 - val_accuracy: 0.9058\n",
      "Epoch 48/60\n",
      "1254/1254 [==============================] - 18s 15ms/step - loss: 0.0078 - accuracy: 0.9977 - val_loss: 0.8329 - val_accuracy: 0.9081\n",
      "Epoch 49/60\n",
      "1254/1254 [==============================] - 18s 15ms/step - loss: 0.0096 - accuracy: 0.9969 - val_loss: 0.8304 - val_accuracy: 0.9037\n",
      "Epoch 50/60\n",
      "1254/1254 [==============================] - 19s 15ms/step - loss: 0.0077 - accuracy: 0.9979 - val_loss: 0.8257 - val_accuracy: 0.9058\n",
      "Epoch 51/60\n",
      "1254/1254 [==============================] - 19s 15ms/step - loss: 0.0071 - accuracy: 0.9979 - val_loss: 0.9293 - val_accuracy: 0.8972\n",
      "Epoch 52/60\n",
      "1254/1254 [==============================] - 19s 15ms/step - loss: 0.0082 - accuracy: 0.9979 - val_loss: 0.8512 - val_accuracy: 0.9071\n",
      "Epoch 53/60\n",
      "1254/1254 [==============================] - 19s 15ms/step - loss: 0.0063 - accuracy: 0.9982 - val_loss: 0.9235 - val_accuracy: 0.8949\n",
      "Epoch 54/60\n",
      "1254/1254 [==============================] - 19s 15ms/step - loss: 0.0082 - accuracy: 0.9974 - val_loss: 0.8606 - val_accuracy: 0.9088\n",
      "Epoch 55/60\n",
      "1254/1254 [==============================] - 18s 14ms/step - loss: 0.0070 - accuracy: 0.9980 - val_loss: 0.8402 - val_accuracy: 0.9006\n",
      "Epoch 56/60\n",
      "1254/1254 [==============================] - 18s 14ms/step - loss: 0.0050 - accuracy: 0.9984 - val_loss: 0.9175 - val_accuracy: 0.9015\n",
      "Epoch 57/60\n",
      "1254/1254 [==============================] - 18s 14ms/step - loss: 0.0051 - accuracy: 0.9986 - val_loss: 1.0071 - val_accuracy: 0.8849\n",
      "Epoch 58/60\n",
      "1254/1254 [==============================] - 19s 15ms/step - loss: 0.0067 - accuracy: 0.9980 - val_loss: 0.9718 - val_accuracy: 0.9046\n",
      "Epoch 59/60\n",
      "1254/1254 [==============================] - 18s 14ms/step - loss: 0.0035 - accuracy: 0.9988 - val_loss: 1.0998 - val_accuracy: 0.8940\n",
      "Epoch 60/60\n",
      "1254/1254 [==============================] - 19s 15ms/step - loss: 0.0067 - accuracy: 0.9980 - val_loss: 0.9473 - val_accuracy: 0.8996\n"
     ]
    }
   ],
   "source": [
    "epochs = 60 \n",
    "hist = model.fit(X_train, y_train, epochs=epochs, validation_split=0.2)"
   ]
  },
  {
   "cell_type": "code",
   "execution_count": 36,
   "metadata": {
    "colab": {
     "base_uri": "https://localhost:8080/",
     "height": 265
    },
    "id": "B97YEsGQPjsU",
    "outputId": "b588ba8a-bbf5-4602-dc49-6a8433c29ee6"
   },
   "outputs": [
    {
     "data": {
      "image/png": "[encoded data removed]",
      "text/plain": [
       "<Figure size 432x288 with 1 Axes>"
      ]
     },
     "metadata": {
      "needs_background": "light"
     },
     "output_type": "display_data"
    }
   ],
   "source": [
    "epoch_count = range(1, len(hist.history['accuracy']) + 1)\n",
    "sns.lineplot(x=epoch_count,  y=hist.history['accuracy'], label='train')\n",
    "sns.lineplot(x=epoch_count,  y=hist.history['val_accuracy'], label='valid')\n",
    "plt.show()"
   ]
  },
  {
   "cell_type": "code",
   "execution_count": 37,
   "metadata": {
    "colab": {
     "base_uri": "https://localhost:8080/"
    },
    "id": "uVnnb8EoPl8r",
    "outputId": "e9fcd7c1-a55c-440d-b757-2714bf389e24"
   },
   "outputs": [
    {
     "name": "stdout",
     "output_type": "stream",
     "text": [
      "392/392 [==============================] - 3s 7ms/step - loss: 0.8856 - accuracy: 0.9081\n"
     ]
    },
    {
     "data": {
      "text/plain": [
       "[0.8855710029602051, 0.9081339836120605]"
      ]
     },
     "execution_count": 37,
     "metadata": {},
     "output_type": "execute_result"
    }
   ],
   "source": [
    "model.evaluate(X_test, y_test)"
   ]
  },
  {
   "cell_type": "markdown",
   "metadata": {
    "id": "LL3-lsqySl-T"
   },
   "source": [
    "##### Generamos nuestro modelo 2\n",
    "\n",
    "El mismo consta de:\n",
    "\n",
    "* Capa de embedings con tamaño de embeding de 100\n",
    "* 2 Capas LSTM de 64 unidades \n",
    "* Capa densa de 32 unidades\n",
    "* Capa densa final con activación Softmax y tamaño de salida de 5 (5 clases)"
   ]
  },
  {
   "cell_type": "code",
   "execution_count": 38,
   "metadata": {
    "colab": {
     "base_uri": "https://localhost:8080/"
    },
    "id": "s_STnCSxSl-U",
    "outputId": "1da485d2-f89c-4a19-b318-2fa16a8426ac"
   },
   "outputs": [
    {
     "name": "stdout",
     "output_type": "stream",
     "text": [
      "Model: \"sequential_1\"\n",
      "_________________________________________________________________\n",
      " Layer (type)                Output Shape              Param #   \n",
      "=================================================================\n",
      " embedding_1 (Embedding)     (None, 116, 100)          800100    \n",
      "                                                                 \n",
      " lstm_2 (LSTM)               (None, 116, 64)           42240     \n",
      "                                                                 \n",
      " dropout_2 (Dropout)         (None, 116, 64)           0         \n",
      "                                                                 \n",
      " lstm_3 (LSTM)               (None, 64)                33024     \n",
      "                                                                 \n",
      " dense_2 (Dense)             (None, 32)                2080      \n",
      "                                                                 \n",
      " dropout_3 (Dropout)         (None, 32)                0         \n",
      "                                                                 \n",
      " dense_3 (Dense)             (None, 5)                 165       \n",
      "                                                                 \n",
      "=================================================================\n",
      "Total params: 877,609\n",
      "Trainable params: 877,609\n",
      "Non-trainable params: 0\n",
      "_________________________________________________________________\n"
     ]
    }
   ],
   "source": [
    "model2 = Sequential()\n",
    "tam_embed = 100\n",
    "\n",
    "model2.add(Embedding(input_dim=vocab_size+1, output_dim=tam_embed, input_length=in_shape))\n",
    "model2.add((LSTM(units=64, return_sequences=True)))\n",
    "model2.add(Dropout(0.2))\n",
    "model2.add((LSTM(units=64)))\n",
    "\n",
    "model2.add(Dense(units=32, activation='relu'))\n",
    "model2.add(Dropout(rate=0.2))\n",
    "model2.add(Dense(units=out_shape, activation='softmax'))\n",
    "\n",
    "model2.compile(optimizer=\"adam\",\n",
    "              loss='categorical_crossentropy',\n",
    "              metrics=['accuracy'])\n",
    "\n",
    "model2.summary()"
   ]
  },
  {
   "cell_type": "code",
   "execution_count": 39,
   "metadata": {
    "colab": {
     "base_uri": "https://localhost:8080/",
     "height": 865
    },
    "id": "-kbWwhksSl-U",
    "outputId": "03a3c2bb-de35-4dcc-d50d-222ed6b473bd"
   },
   "outputs": [
    {
     "data": {
      "image/png": "[encoded data removed]",
      "text/plain": [
       "<IPython.core.display.Image object>"
      ]
     },
     "execution_count": 39,
     "metadata": {},
     "output_type": "execute_result"
    }
   ],
   "source": [
    "plot_model(model2, to_file='model_plot2.png', show_shapes=True, show_layer_names=True)"
   ]
  },
  {
   "cell_type": "code",
   "execution_count": 40,
   "metadata": {
    "colab": {
     "base_uri": "https://localhost:8080/"
    },
    "id": "DWeErN9eSl-V",
    "outputId": "1b4ef7d5-9771-4895-94af-9db9eb9a26a3"
   },
   "outputs": [
    {
     "name": "stdout",
     "output_type": "stream",
     "text": [
      "Epoch 1/60\n",
      "1254/1254 [==============================] - 19s 13ms/step - loss: 1.0464 - accuracy: 0.5419 - val_loss: 0.8601 - val_accuracy: 0.6374\n",
      "Epoch 2/60\n",
      "1254/1254 [==============================] - 17s 13ms/step - loss: 0.6523 - accuracy: 0.7396 - val_loss: 0.5913 - val_accuracy: 0.7672\n",
      "Epoch 3/60\n",
      "1254/1254 [==============================] - 16s 13ms/step - loss: 0.4723 - accuracy: 0.8209 - val_loss: 0.5010 - val_accuracy: 0.8151\n",
      "Epoch 4/60\n",
      "1254/1254 [==============================] - 16s 13ms/step - loss: 0.3674 - accuracy: 0.8654 - val_loss: 0.4597 - val_accuracy: 0.8286\n",
      "Epoch 5/60\n",
      "1254/1254 [==============================] - 16s 13ms/step - loss: 0.2965 - accuracy: 0.8921 - val_loss: 0.4509 - val_accuracy: 0.8452\n",
      "Epoch 6/60\n",
      "1254/1254 [==============================] - 16s 13ms/step - loss: 0.2487 - accuracy: 0.9126 - val_loss: 0.4303 - val_accuracy: 0.8609\n",
      "Epoch 7/60\n",
      "1254/1254 [==============================] - 17s 13ms/step - loss: 0.2132 - accuracy: 0.9273 - val_loss: 0.4233 - val_accuracy: 0.8671\n",
      "Epoch 8/60\n",
      "1254/1254 [==============================] - 16s 13ms/step - loss: 0.1830 - accuracy: 0.9386 - val_loss: 0.4362 - val_accuracy: 0.8787\n",
      "Epoch 9/60\n",
      "1254/1254 [==============================] - 16s 13ms/step - loss: 0.1556 - accuracy: 0.9500 - val_loss: 0.4379 - val_accuracy: 0.8798\n",
      "Epoch 10/60\n",
      "1254/1254 [==============================] - 16s 13ms/step - loss: 0.1354 - accuracy: 0.9555 - val_loss: 0.4501 - val_accuracy: 0.8826\n",
      "Epoch 11/60\n",
      "1254/1254 [==============================] - 16s 13ms/step - loss: 0.1117 - accuracy: 0.9641 - val_loss: 0.4595 - val_accuracy: 0.8898\n",
      "Epoch 12/60\n",
      "1254/1254 [==============================] - 17s 13ms/step - loss: 0.0971 - accuracy: 0.9687 - val_loss: 0.4803 - val_accuracy: 0.8943\n",
      "Epoch 13/60\n",
      "1254/1254 [==============================] - 16s 13ms/step - loss: 0.0878 - accuracy: 0.9722 - val_loss: 0.4674 - val_accuracy: 0.8950\n",
      "Epoch 14/60\n",
      "1254/1254 [==============================] - 16s 13ms/step - loss: 0.0705 - accuracy: 0.9780 - val_loss: 0.5215 - val_accuracy: 0.8954\n",
      "Epoch 15/60\n",
      "1254/1254 [==============================] - 16s 13ms/step - loss: 0.0678 - accuracy: 0.9782 - val_loss: 0.5381 - val_accuracy: 0.8955\n",
      "Epoch 16/60\n",
      "1254/1254 [==============================] - 16s 13ms/step - loss: 0.0547 - accuracy: 0.9828 - val_loss: 0.5083 - val_accuracy: 0.9075\n",
      "Epoch 17/60\n",
      "1254/1254 [==============================] - 17s 13ms/step - loss: 0.0460 - accuracy: 0.9853 - val_loss: 0.5598 - val_accuracy: 0.9032\n",
      "Epoch 18/60\n",
      "1254/1254 [==============================] - 16s 13ms/step - loss: 0.0398 - accuracy: 0.9877 - val_loss: 0.5773 - val_accuracy: 0.8974\n",
      "Epoch 19/60\n",
      "1254/1254 [==============================] - 16s 13ms/step - loss: 0.0426 - accuracy: 0.9874 - val_loss: 0.6114 - val_accuracy: 0.9035\n",
      "Epoch 20/60\n",
      "1254/1254 [==============================] - 16s 13ms/step - loss: 0.0316 - accuracy: 0.9905 - val_loss: 0.6182 - val_accuracy: 0.9043\n",
      "Epoch 21/60\n",
      "1254/1254 [==============================] - 16s 13ms/step - loss: 0.0248 - accuracy: 0.9930 - val_loss: 0.6552 - val_accuracy: 0.9041\n",
      "Epoch 22/60\n",
      "1254/1254 [==============================] - 17s 13ms/step - loss: 0.0307 - accuracy: 0.9907 - val_loss: 0.5994 - val_accuracy: 0.9017\n",
      "Epoch 23/60\n",
      "1254/1254 [==============================] - 16s 13ms/step - loss: 0.0277 - accuracy: 0.9919 - val_loss: 0.6577 - val_accuracy: 0.9001\n",
      "Epoch 24/60\n",
      "1254/1254 [==============================] - 16s 13ms/step - loss: 0.0207 - accuracy: 0.9935 - val_loss: 0.6852 - val_accuracy: 0.9080\n",
      "Epoch 25/60\n",
      "1254/1254 [==============================] - 16s 13ms/step - loss: 0.0156 - accuracy: 0.9956 - val_loss: 0.7623 - val_accuracy: 0.8983\n",
      "Epoch 26/60\n",
      "1254/1254 [==============================] - 21s 17ms/step - loss: 0.0226 - accuracy: 0.9935 - val_loss: 0.7778 - val_accuracy: 0.8996\n",
      "Epoch 27/60\n",
      "1254/1254 [==============================] - 19s 15ms/step - loss: 0.0179 - accuracy: 0.9949 - val_loss: 0.8291 - val_accuracy: 0.8908\n",
      "Epoch 28/60\n",
      "1254/1254 [==============================] - 22s 17ms/step - loss: 0.0150 - accuracy: 0.9959 - val_loss: 0.8017 - val_accuracy: 0.8978\n",
      "Epoch 29/60\n",
      "1254/1254 [==============================] - 16s 13ms/step - loss: 0.0160 - accuracy: 0.9954 - val_loss: 0.7740 - val_accuracy: 0.9043\n",
      "Epoch 30/60\n",
      "1254/1254 [==============================] - 17s 13ms/step - loss: 0.0158 - accuracy: 0.9961 - val_loss: 0.7156 - val_accuracy: 0.9064\n",
      "Epoch 31/60\n",
      "1254/1254 [==============================] - 16s 13ms/step - loss: 0.0158 - accuracy: 0.9952 - val_loss: 0.8287 - val_accuracy: 0.8932\n",
      "Epoch 32/60\n",
      "1254/1254 [==============================] - 16s 13ms/step - loss: 0.0147 - accuracy: 0.9962 - val_loss: 0.7500 - val_accuracy: 0.9065\n",
      "Epoch 33/60\n",
      "1254/1254 [==============================] - 21s 17ms/step - loss: 0.0102 - accuracy: 0.9967 - val_loss: 0.7697 - val_accuracy: 0.9056\n",
      "Epoch 34/60\n",
      "1254/1254 [==============================] - 21s 17ms/step - loss: 0.0108 - accuracy: 0.9970 - val_loss: 0.7965 - val_accuracy: 0.9100\n",
      "Epoch 35/60\n",
      "1254/1254 [==============================] - 17s 13ms/step - loss: 0.0130 - accuracy: 0.9964 - val_loss: 0.6898 - val_accuracy: 0.9168\n",
      "Epoch 36/60\n",
      "1254/1254 [==============================] - 16s 13ms/step - loss: 0.0101 - accuracy: 0.9971 - val_loss: 0.7783 - val_accuracy: 0.9121\n",
      "Epoch 37/60\n",
      "1254/1254 [==============================] - 16s 13ms/step - loss: 0.0139 - accuracy: 0.9959 - val_loss: 0.7381 - val_accuracy: 0.9103\n",
      "Epoch 38/60\n",
      "1254/1254 [==============================] - 16s 13ms/step - loss: 0.0072 - accuracy: 0.9978 - val_loss: 0.8641 - val_accuracy: 0.9051\n",
      "Epoch 39/60\n",
      "1254/1254 [==============================] - 17s 14ms/step - loss: 0.0092 - accuracy: 0.9975 - val_loss: 0.7914 - val_accuracy: 0.9162\n",
      "Epoch 40/60\n",
      "1254/1254 [==============================] - 16s 13ms/step - loss: 0.0081 - accuracy: 0.9977 - val_loss: 0.9524 - val_accuracy: 0.9059\n",
      "Epoch 41/60\n",
      "1254/1254 [==============================] - 18s 15ms/step - loss: 0.0080 - accuracy: 0.9977 - val_loss: 0.8899 - val_accuracy: 0.9066\n",
      "Epoch 42/60\n",
      "1254/1254 [==============================] - 16s 13ms/step - loss: 0.0107 - accuracy: 0.9971 - val_loss: 0.7758 - val_accuracy: 0.9090\n",
      "Epoch 43/60\n",
      "1254/1254 [==============================] - 16s 13ms/step - loss: 0.0072 - accuracy: 0.9978 - val_loss: 0.8144 - val_accuracy: 0.9053\n",
      "Epoch 44/60\n",
      "1254/1254 [==============================] - 17s 13ms/step - loss: 0.0084 - accuracy: 0.9978 - val_loss: 0.9459 - val_accuracy: 0.9023\n",
      "Epoch 45/60\n",
      "1254/1254 [==============================] - 16s 13ms/step - loss: 0.0097 - accuracy: 0.9973 - val_loss: 0.8763 - val_accuracy: 0.9091\n",
      "Epoch 46/60\n",
      "1254/1254 [==============================] - 16s 13ms/step - loss: 0.0060 - accuracy: 0.9985 - val_loss: 0.7849 - val_accuracy: 0.9144\n",
      "Epoch 47/60\n",
      "1254/1254 [==============================] - 16s 13ms/step - loss: 0.0042 - accuracy: 0.9989 - val_loss: 0.8578 - val_accuracy: 0.9143\n",
      "Epoch 48/60\n",
      "1254/1254 [==============================] - 16s 13ms/step - loss: 0.0123 - accuracy: 0.9966 - val_loss: 0.7250 - val_accuracy: 0.9004\n",
      "Epoch 49/60\n",
      "1254/1254 [==============================] - 17s 13ms/step - loss: 0.0083 - accuracy: 0.9979 - val_loss: 0.8175 - val_accuracy: 0.9083\n",
      "Epoch 50/60\n",
      "1254/1254 [==============================] - 16s 13ms/step - loss: 0.0041 - accuracy: 0.9989 - val_loss: 0.9609 - val_accuracy: 0.9036\n",
      "Epoch 51/60\n",
      "1254/1254 [==============================] - 16s 13ms/step - loss: 0.0074 - accuracy: 0.9982 - val_loss: 0.8677 - val_accuracy: 0.9099\n",
      "Epoch 52/60\n",
      "1254/1254 [==============================] - 16s 13ms/step - loss: 0.0099 - accuracy: 0.9973 - val_loss: 0.8585 - val_accuracy: 0.9101\n",
      "Epoch 53/60\n",
      "1254/1254 [==============================] - 17s 13ms/step - loss: 0.0036 - accuracy: 0.9990 - val_loss: 0.9841 - val_accuracy: 0.9023\n",
      "Epoch 54/60\n",
      "1254/1254 [==============================] - 16s 13ms/step - loss: 0.0033 - accuracy: 0.9993 - val_loss: 0.8516 - val_accuracy: 0.9074\n",
      "Epoch 55/60\n",
      "1254/1254 [==============================] - 16s 13ms/step - loss: 0.0094 - accuracy: 0.9974 - val_loss: 0.8217 - val_accuracy: 0.9098\n",
      "Epoch 56/60\n",
      "1254/1254 [==============================] - 16s 13ms/step - loss: 0.0048 - accuracy: 0.9986 - val_loss: 0.8354 - val_accuracy: 0.9088\n",
      "Epoch 57/60\n",
      "1254/1254 [==============================] - 16s 13ms/step - loss: 0.0040 - accuracy: 0.9989 - val_loss: 1.0075 - val_accuracy: 0.9027\n",
      "Epoch 58/60\n",
      "1254/1254 [==============================] - 17s 13ms/step - loss: 0.0079 - accuracy: 0.9981 - val_loss: 0.7958 - val_accuracy: 0.9134\n",
      "Epoch 59/60\n",
      "1254/1254 [==============================] - 16s 13ms/step - loss: 0.0039 - accuracy: 0.9990 - val_loss: 0.7622 - val_accuracy: 0.9148\n",
      "Epoch 60/60\n",
      "1254/1254 [==============================] - 16s 13ms/step - loss: 0.0032 - accuracy: 0.9992 - val_loss: 0.9283 - val_accuracy: 0.9123\n"
     ]
    }
   ],
   "source": [
    "hist2 = model2.fit(X_train, y_train, epochs=epochs, validation_split=0.2)"
   ]
  },
  {
   "cell_type": "code",
   "execution_count": 41,
   "metadata": {
    "colab": {
     "base_uri": "https://localhost:8080/",
     "height": 265
    },
    "id": "aSJ0KKV4Sl-V",
    "outputId": "269c0ae5-13e0-489b-825b-d760ff6bde64"
   },
   "outputs": [
    {
     "data": {
      "image/png": "[encoded data removed]",
      "text/plain": [
       "<Figure size 432x288 with 1 Axes>"
      ]
     },
     "metadata": {
      "needs_background": "light"
     },
     "output_type": "display_data"
    }
   ],
   "source": [
    "epoch_count = range(1, len(hist2.history['accuracy']) + 1)\n",
    "sns.lineplot(x=epoch_count,  y=hist2.history['accuracy'], label='train')\n",
    "sns.lineplot(x=epoch_count,  y=hist2.history['val_accuracy'], label='valid')\n",
    "plt.show()"
   ]
  },
  {
   "cell_type": "code",
   "execution_count": 42,
   "metadata": {
    "colab": {
     "base_uri": "https://localhost:8080/"
    },
    "id": "VuYLPHXmSl-W",
    "outputId": "ee8167c0-a389-4e26-819a-adef3d7d71fc"
   },
   "outputs": [
    {
     "name": "stdout",
     "output_type": "stream",
     "text": [
      "392/392 [==============================] - 3s 7ms/step - loss: 0.9351 - accuracy: 0.9096\n"
     ]
    },
    {
     "data": {
      "text/plain": [
       "[0.93513423204422, 0.909649133682251]"
      ]
     },
     "execution_count": 42,
     "metadata": {},
     "output_type": "execute_result"
    }
   ],
   "source": [
    "model2.evaluate(X_test, y_test)"
   ]
  },
  {
   "cell_type": "markdown",
   "metadata": {
    "id": "fr5oLyZcdp9_"
   },
   "source": [
    "En ambos modelos se obtuvieron resultado similares. En train se obtuvieron muy buenos valores, pero entramos en overfitting dado que en validación los resultados fueron bastante menores. \n",
    "\n",
    "A continuación probaremos con embeddding pre-entrenados para ver la performance."
   ]
  },
  {
   "cell_type": "markdown",
   "metadata": {
    "id": "0OBMIpcpMzWU"
   },
   "source": [
    "#### 2.2 - Entrenar el modelo con Embeddings + LSTM con embedings pre-entrenados"
   ]
  },
  {
   "cell_type": "markdown",
   "metadata": {
    "id": "O90SJIe2eQOZ"
   },
   "source": [
    "##### Vamos a descargar los embeddings de fasttext para utilizar en nuestro modelo"
   ]
  },
  {
   "cell_type": "code",
   "execution_count": 43,
   "metadata": {
    "colab": {
     "base_uri": "https://localhost:8080/"
    },
    "id": "6PMLSaazeW7a",
    "outputId": "9cd29445-c868-47c8-9018-7fc8e48da5da"
   },
   "outputs": [
    {
     "name": "stderr",
     "output_type": "stream",
     "text": [
      "Downloading...\n",
      "From: https://drive.google.com/uc?id=1KU5qmAYh3LATMvVgocFDfW-PK3prm1WU&export=download\n",
      "To: /content/fasttext.pkl\n",
      "100%|██████████| 2.88G/2.88G [00:31<00:00, 90.9MB/s]\n"
     ]
    }
   ],
   "source": [
    "if os.access('fasttext.pkl', os.F_OK) is False:\n",
    "    url = 'https://drive.google.com/uc?id=1KU5qmAYh3LATMvVgocFDfW-PK3prm1WU&export=download'\n",
    "    output = 'fasttext.pkl'\n",
    "    gdown.download(url, output, quiet=False)\n",
    "else:\n",
    "    print(\"Los embeddings fasttext.pkl ya están descargados\")"
   ]
  },
  {
   "cell_type": "markdown",
   "metadata": {
    "id": "aTeyTxU6fC3q"
   },
   "source": [
    "##### Generamos la funcion para leer los embeddings"
   ]
  },
  {
   "cell_type": "code",
   "execution_count": 44,
   "metadata": {
    "id": "pjNG885tfB8R"
   },
   "outputs": [],
   "source": [
    "class WordsEmbeddings(object):\n",
    "    logger = logging.getLogger(__name__)\n",
    "\n",
    "    def __init__(self):\n",
    "        # load the embeddings\n",
    "        words_embedding_pkl = Path(self.PKL_PATH)\n",
    "        if not words_embedding_pkl.is_file():\n",
    "            words_embedding_txt = Path(self.WORD_TO_VEC_MODEL_TXT_PATH)\n",
    "            assert words_embedding_txt.is_file(), 'Words embedding not available'\n",
    "            embeddings = self.convert_model_to_pickle()\n",
    "        else:\n",
    "            embeddings = self.load_model_from_pickle()\n",
    "        self.embeddings = embeddings\n",
    "        # build the vocabulary hashmap\n",
    "        index = np.arange(self.embeddings.shape[0])\n",
    "        # Dicctionarios para traducir de embedding a IDX de la palabra\n",
    "        self.word2idx = dict(zip(self.embeddings['word'], index))\n",
    "        self.idx2word = dict(zip(index, self.embeddings['word']))\n",
    "\n",
    "    def get_words_embeddings(self, words):\n",
    "        words_idxs = self.words2idxs(words)\n",
    "        return self.embeddings[words_idxs]['embedding']\n",
    "\n",
    "    def words2idxs(self, words):\n",
    "        return np.array([self.word2idx.get(word, -1) for word in words])\n",
    "\n",
    "    def idxs2words(self, idxs):\n",
    "        return np.array([self.idx2word.get(idx, '-1') for idx in idxs])\n",
    "\n",
    "    def load_model_from_pickle(self):\n",
    "        self.logger.debug(\n",
    "            'loading words embeddings from pickle {}'.format(\n",
    "                self.PKL_PATH\n",
    "            )\n",
    "        )\n",
    "        max_bytes = 2**28 - 1 # 256MB\n",
    "        bytes_in = bytearray(0)\n",
    "        input_size = os.path.getsize(self.PKL_PATH)\n",
    "        with open(self.PKL_PATH, 'rb') as f_in:\n",
    "            for _ in range(0, input_size, max_bytes):\n",
    "                bytes_in += f_in.read(max_bytes)\n",
    "        embeddings = pickle.loads(bytes_in)\n",
    "        self.logger.debug('words embeddings loaded')\n",
    "        return embeddings\n",
    "\n",
    "    def convert_model_to_pickle(self):\n",
    "        # create a numpy strctured array:\n",
    "        # word     embedding\n",
    "        # U50      np.float32[]\n",
    "        # word_1   a, b, c\n",
    "        # word_2   d, e, f\n",
    "        # ...\n",
    "        # word_n   g, h, i\n",
    "        self.logger.debug(\n",
    "            'converting and loading words embeddings from text file {}'.format(\n",
    "                self.WORD_TO_VEC_MODEL_TXT_PATH\n",
    "            )\n",
    "        )\n",
    "        structure = [('word', np.dtype('U' + str(self.WORD_MAX_SIZE))),\n",
    "                     ('embedding', np.float32, (self.N_FEATURES,))]\n",
    "        structure = np.dtype(structure)\n",
    "        # load numpy array from disk using a generator\n",
    "        with open(self.WORD_TO_VEC_MODEL_TXT_PATH, encoding=\"utf8\") as words_embeddings_txt:\n",
    "            embeddings_gen = (\n",
    "                (line.split()[0], line.split()[1:]) for line in words_embeddings_txt\n",
    "                if len(line.split()[1:]) == self.N_FEATURES\n",
    "            )\n",
    "            embeddings = np.fromiter(embeddings_gen, structure)\n",
    "        # add a null embedding\n",
    "        null_embedding = np.array(\n",
    "            [('null_embedding', np.zeros((self.N_FEATURES,), dtype=np.float32))],\n",
    "            dtype=structure\n",
    "        )\n",
    "        embeddings = np.concatenate([embeddings, null_embedding])\n",
    "        # dump numpy array to disk using pickle\n",
    "        max_bytes = 2**28 - 1 # # 256MB\n",
    "        bytes_out = pickle.dumps(embeddings, protocol=pickle.HIGHEST_PROTOCOL)\n",
    "        with open(self.PKL_PATH, 'wb') as f_out:\n",
    "            for idx in range(0, len(bytes_out), max_bytes):\n",
    "                f_out.write(bytes_out[idx:idx+max_bytes])\n",
    "        self.logger.debug('words embeddings loaded')\n",
    "        return embeddings\n",
    "\n",
    "\n",
    "class GloveEmbeddings(WordsEmbeddings):\n",
    "    WORD_TO_VEC_MODEL_TXT_PATH = 'glove.twitter.27B.50d.txt'\n",
    "    PKL_PATH = 'gloveembedding.pkl'\n",
    "    N_FEATURES = 50\n",
    "    WORD_MAX_SIZE = 60\n",
    "\n",
    "\n",
    "class FasttextEmbeddings(WordsEmbeddings):\n",
    "    WORD_TO_VEC_MODEL_TXT_PATH = 'cc.en.300.vec'\n",
    "    PKL_PATH = 'fasttext.pkl'\n",
    "    N_FEATURES = 300\n",
    "    WORD_MAX_SIZE = 60"
   ]
  },
  {
   "cell_type": "markdown",
   "metadata": {
    "id": "cBZNrYAWfO61"
   },
   "source": [
    "##### Generamos la matriz de embeddings"
   ]
  },
  {
   "cell_type": "code",
   "execution_count": 45,
   "metadata": {
    "id": "luuSk2cyfVEL"
   },
   "outputs": [],
   "source": [
    "model_fasttext = FasttextEmbeddings()"
   ]
  },
  {
   "cell_type": "code",
   "execution_count": 46,
   "metadata": {
    "colab": {
     "base_uri": "https://localhost:8080/"
    },
    "id": "T--Kk5vSfafc",
    "outputId": "48812278-8b42-4cdd-ec5a-1b44771e9f55"
   },
   "outputs": [
    {
     "name": "stdout",
     "output_type": "stream",
     "text": [
      "Preparamos la matriz de embeddings...\n",
      "Numemro de word embeddings nulos: 2\n"
     ]
    }
   ],
   "source": [
    "print('Preparamos la matriz de embeddings...')\n",
    "embed_dim = 300 # fasttext\n",
    "words_not_found = []\n",
    "\n",
    "# word_index proviene del tokenizer\n",
    "\n",
    "nb_words = min(num_words, len(word_index)) \n",
    "embedding_matrix = np.zeros((nb_words, embed_dim))\n",
    "for word, i in word_index.items():\n",
    "    if i >= nb_words:\n",
    "        continue\n",
    "    embedding_vector = model_fasttext.get_words_embeddings(word)[0]\n",
    "    if (embedding_vector is not None) and len(embedding_vector) > 0:\n",
    "        embedding_matrix[i] = embedding_vector\n",
    "    else:\n",
    "        # words not found in embedding index will be all-zeros.\n",
    "        words_not_found.append(word)\n",
    "        print(word)\n",
    "\n",
    "print('Numemro de word embeddings nulos:', np.sum(np.sum(embedding_matrix, axis=1) == 0))"
   ]
  },
  {
   "cell_type": "markdown",
   "metadata": {
    "id": "Fy1Trk6MhLk1"
   },
   "source": [
    "##### Generamos nuestro modelo similar al modelo 1 pero con embeddings pre-entrenados\n",
    "\n",
    "El mismo consta de:\n",
    "\n",
    "* Capa de embedings pre-entranada de longitud 300\n",
    "* Capa LSTM de 64 unidades \n",
    "* Capa LSTM de 128 unidades\n",
    "* Capa densa de 64 unidades\n",
    "* Capa densa final con activación Softmax y tamaño de salida de 5 (5 clases)"
   ]
  },
  {
   "cell_type": "code",
   "execution_count": 47,
   "metadata": {
    "colab": {
     "base_uri": "https://localhost:8080/"
    },
    "id": "cJfx9J33hQvG",
    "outputId": "60a56731-811d-4180-9d40-d48b65d7e1ff"
   },
   "outputs": [
    {
     "name": "stdout",
     "output_type": "stream",
     "text": [
      "Model: \"sequential_2\"\n",
      "_________________________________________________________________\n",
      " Layer (type)                Output Shape              Param #   \n",
      "=================================================================\n",
      " embedding_2 (Embedding)     (None, 116, 300)          2400000   \n",
      "                                                                 \n",
      " lstm_4 (LSTM)               (None, 116, 64)           93440     \n",
      "                                                                 \n",
      " dropout_4 (Dropout)         (None, 116, 64)           0         \n",
      "                                                                 \n",
      " lstm_5 (LSTM)               (None, 128)               98816     \n",
      "                                                                 \n",
      " dense_4 (Dense)             (None, 64)                8256      \n",
      "                                                                 \n",
      " dropout_5 (Dropout)         (None, 64)                0         \n",
      "                                                                 \n",
      " dense_5 (Dense)             (None, 5)                 325       \n",
      "                                                                 \n",
      "=================================================================\n",
      "Total params: 2,600,837\n",
      "Trainable params: 200,837\n",
      "Non-trainable params: 2,400,000\n",
      "_________________________________________________________________\n"
     ]
    }
   ],
   "source": [
    "model3 = Sequential()\n",
    "model3.add(Embedding(input_dim=vocab_size, output_dim=embed_dim, input_length=in_shape,\n",
    "                     weights=[embedding_matrix], trainable=False))\n",
    "\n",
    "model3.add((LSTM(units=64, return_sequences=True)))\n",
    "model3.add(Dropout(0.2))\n",
    "model3.add(LSTM(units=128)) \n",
    "\n",
    "model3.add(Dense(units=64, activation='relu'))\n",
    "model3.add(Dropout(rate=0.2))\n",
    "model3.add(Dense(units=out_shape, activation='softmax'))\n",
    "\n",
    "model3.compile(optimizer=\"adam\",\n",
    "              loss='categorical_crossentropy',\n",
    "              metrics=['accuracy'])\n",
    "\n",
    "model3.summary()"
   ]
  },
  {
   "cell_type": "code",
   "execution_count": 48,
   "metadata": {
    "colab": {
     "base_uri": "https://localhost:8080/",
     "height": 865
    },
    "id": "AglOa2nAiPTa",
    "outputId": "f2642475-12d4-44f1-dbe5-36c62683b3aa"
   },
   "outputs": [
    {
     "data": {
      "image/png": "[encoded data removed]",
      "text/plain": [
       "<IPython.core.display.Image object>"
      ]
     },
     "execution_count": 48,
     "metadata": {},
     "output_type": "execute_result"
    }
   ],
   "source": [
    "plot_model(model3, to_file='model_plot3.png', show_shapes=True, show_layer_names=True)"
   ]
  },
  {
   "cell_type": "code",
   "execution_count": 49,
   "metadata": {
    "colab": {
     "base_uri": "https://localhost:8080/"
    },
    "id": "9XtP0wQ1ifHQ",
    "outputId": "50fe1899-92e6-427a-f4f5-18dd19fe91a2"
   },
   "outputs": [
    {
     "name": "stdout",
     "output_type": "stream",
     "text": [
      "Epoch 1/60\n",
      "1254/1254 [==============================] - 22s 16ms/step - loss: 1.5485 - accuracy: 0.2820 - val_loss: 1.4776 - val_accuracy: 0.3321\n",
      "Epoch 2/60\n",
      "1254/1254 [==============================] - 18s 14ms/step - loss: 1.4022 - accuracy: 0.3803 - val_loss: 1.3017 - val_accuracy: 0.4330\n",
      "Epoch 3/60\n",
      "1254/1254 [==============================] - 18s 14ms/step - loss: 1.1604 - accuracy: 0.5069 - val_loss: 1.0838 - val_accuracy: 0.5462\n",
      "Epoch 4/60\n",
      "1254/1254 [==============================] - 18s 14ms/step - loss: 0.9194 - accuracy: 0.6119 - val_loss: 0.8378 - val_accuracy: 0.6400\n",
      "Epoch 5/60\n",
      "1254/1254 [==============================] - 18s 14ms/step - loss: 0.7643 - accuracy: 0.6755 - val_loss: 0.7874 - val_accuracy: 0.6707\n",
      "Epoch 6/60\n",
      "1254/1254 [==============================] - 19s 15ms/step - loss: 0.6654 - accuracy: 0.7179 - val_loss: 0.6860 - val_accuracy: 0.7137\n",
      "Epoch 7/60\n",
      "1254/1254 [==============================] - 18s 14ms/step - loss: 0.5893 - accuracy: 0.7487 - val_loss: 0.6078 - val_accuracy: 0.7515\n",
      "Epoch 8/60\n",
      "1254/1254 [==============================] - 18s 14ms/step - loss: 0.5374 - accuracy: 0.7714 - val_loss: 0.5630 - val_accuracy: 0.7726\n",
      "Epoch 9/60\n",
      "1254/1254 [==============================] - 18s 14ms/step - loss: 0.4949 - accuracy: 0.7898 - val_loss: 0.5593 - val_accuracy: 0.7707\n",
      "Epoch 10/60\n",
      "1254/1254 [==============================] - 18s 15ms/step - loss: 0.4644 - accuracy: 0.8020 - val_loss: 0.4995 - val_accuracy: 0.7967\n",
      "Epoch 11/60\n",
      "1254/1254 [==============================] - 18s 14ms/step - loss: 0.4308 - accuracy: 0.8166 - val_loss: 0.4925 - val_accuracy: 0.8019\n",
      "Epoch 12/60\n",
      "1254/1254 [==============================] - 18s 14ms/step - loss: 0.4118 - accuracy: 0.8229 - val_loss: 0.4750 - val_accuracy: 0.8150\n",
      "Epoch 13/60\n",
      "1254/1254 [==============================] - 18s 14ms/step - loss: 0.3920 - accuracy: 0.8354 - val_loss: 0.4807 - val_accuracy: 0.8163\n",
      "Epoch 14/60\n",
      "1254/1254 [==============================] - 18s 15ms/step - loss: 0.3679 - accuracy: 0.8459 - val_loss: 0.5148 - val_accuracy: 0.8150\n",
      "Epoch 15/60\n",
      "1254/1254 [==============================] - 18s 14ms/step - loss: 0.3485 - accuracy: 0.8534 - val_loss: 0.4765 - val_accuracy: 0.8253\n",
      "Epoch 16/60\n",
      "1254/1254 [==============================] - 18s 14ms/step - loss: 0.3401 - accuracy: 0.8591 - val_loss: 0.4575 - val_accuracy: 0.8317\n",
      "Epoch 17/60\n",
      "1254/1254 [==============================] - 18s 14ms/step - loss: 0.3197 - accuracy: 0.8681 - val_loss: 0.4725 - val_accuracy: 0.8361\n",
      "Epoch 18/60\n",
      "1254/1254 [==============================] - 18s 15ms/step - loss: 0.3150 - accuracy: 0.8711 - val_loss: 0.4546 - val_accuracy: 0.8371\n",
      "Epoch 19/60\n",
      "1254/1254 [==============================] - 18s 14ms/step - loss: 0.3062 - accuracy: 0.8752 - val_loss: 0.4645 - val_accuracy: 0.8381\n",
      "Epoch 20/60\n",
      "1254/1254 [==============================] - 18s 14ms/step - loss: 0.2873 - accuracy: 0.8841 - val_loss: 0.4514 - val_accuracy: 0.8478\n",
      "Epoch 21/60\n",
      "1254/1254 [==============================] - 18s 15ms/step - loss: 0.2749 - accuracy: 0.8905 - val_loss: 0.4645 - val_accuracy: 0.8494\n",
      "Epoch 22/60\n",
      "1254/1254 [==============================] - 18s 15ms/step - loss: 0.2736 - accuracy: 0.8914 - val_loss: 0.4593 - val_accuracy: 0.8548\n",
      "Epoch 23/60\n",
      "1254/1254 [==============================] - 19s 15ms/step - loss: 0.2571 - accuracy: 0.8983 - val_loss: 0.4549 - val_accuracy: 0.8550\n",
      "Epoch 24/60\n",
      "1254/1254 [==============================] - 18s 14ms/step - loss: 0.2559 - accuracy: 0.8984 - val_loss: 0.4957 - val_accuracy: 0.8501\n",
      "Epoch 25/60\n",
      "1254/1254 [==============================] - 18s 14ms/step - loss: 0.2414 - accuracy: 0.9059 - val_loss: 0.4750 - val_accuracy: 0.8597\n",
      "Epoch 26/60\n",
      "1254/1254 [==============================] - 18s 15ms/step - loss: 0.2344 - accuracy: 0.9090 - val_loss: 0.4526 - val_accuracy: 0.8618\n",
      "Epoch 27/60\n",
      "1254/1254 [==============================] - 19s 15ms/step - loss: 0.2267 - accuracy: 0.9122 - val_loss: 0.4748 - val_accuracy: 0.8599\n",
      "Epoch 28/60\n",
      "1254/1254 [==============================] - 18s 14ms/step - loss: 0.2243 - accuracy: 0.9144 - val_loss: 0.4680 - val_accuracy: 0.8621\n",
      "Epoch 29/60\n",
      "1254/1254 [==============================] - 18s 14ms/step - loss: 0.2145 - accuracy: 0.9193 - val_loss: 0.4500 - val_accuracy: 0.8686\n",
      "Epoch 30/60\n",
      "1254/1254 [==============================] - 19s 15ms/step - loss: 0.2143 - accuracy: 0.9196 - val_loss: 0.4586 - val_accuracy: 0.8683\n",
      "Epoch 31/60\n",
      "1254/1254 [==============================] - 19s 15ms/step - loss: 0.2018 - accuracy: 0.9245 - val_loss: 0.4871 - val_accuracy: 0.8580\n",
      "Epoch 32/60\n",
      "1254/1254 [==============================] - 19s 15ms/step - loss: 0.1986 - accuracy: 0.9263 - val_loss: 0.4603 - val_accuracy: 0.8682\n",
      "Epoch 33/60\n",
      "1254/1254 [==============================] - 18s 14ms/step - loss: 0.1862 - accuracy: 0.9293 - val_loss: 0.5042 - val_accuracy: 0.8616\n",
      "Epoch 34/60\n",
      "1254/1254 [==============================] - 18s 14ms/step - loss: 0.1842 - accuracy: 0.9326 - val_loss: 0.5159 - val_accuracy: 0.8639\n",
      "Epoch 35/60\n",
      "1254/1254 [==============================] - 19s 15ms/step - loss: 0.1919 - accuracy: 0.9283 - val_loss: 0.4519 - val_accuracy: 0.8717\n",
      "Epoch 36/60\n",
      "1254/1254 [==============================] - 18s 14ms/step - loss: 0.1785 - accuracy: 0.9329 - val_loss: 0.5281 - val_accuracy: 0.8645\n",
      "Epoch 37/60\n",
      "1254/1254 [==============================] - 18s 14ms/step - loss: 0.1793 - accuracy: 0.9331 - val_loss: 0.4616 - val_accuracy: 0.8734\n",
      "Epoch 38/60\n",
      "1254/1254 [==============================] - 18s 14ms/step - loss: 0.1657 - accuracy: 0.9382 - val_loss: 0.5281 - val_accuracy: 0.8684\n",
      "Epoch 39/60\n",
      "1254/1254 [==============================] - 19s 15ms/step - loss: 0.1753 - accuracy: 0.9352 - val_loss: 0.4940 - val_accuracy: 0.8642\n",
      "Epoch 40/60\n",
      "1254/1254 [==============================] - 18s 14ms/step - loss: 0.1691 - accuracy: 0.9374 - val_loss: 0.4921 - val_accuracy: 0.8682\n",
      "Epoch 41/60\n",
      "1254/1254 [==============================] - 19s 15ms/step - loss: 0.1574 - accuracy: 0.9435 - val_loss: 0.4906 - val_accuracy: 0.8759\n",
      "Epoch 42/60\n",
      "1254/1254 [==============================] - 18s 14ms/step - loss: 0.1587 - accuracy: 0.9422 - val_loss: 0.4870 - val_accuracy: 0.8755\n",
      "Epoch 43/60\n",
      "1254/1254 [==============================] - 18s 15ms/step - loss: 0.1547 - accuracy: 0.9448 - val_loss: 0.4920 - val_accuracy: 0.8753\n",
      "Epoch 44/60\n",
      "1254/1254 [==============================] - 18s 15ms/step - loss: 0.1570 - accuracy: 0.9426 - val_loss: 0.5243 - val_accuracy: 0.8722\n",
      "Epoch 45/60\n",
      "1254/1254 [==============================] - 18s 14ms/step - loss: 0.1520 - accuracy: 0.9447 - val_loss: 0.4810 - val_accuracy: 0.8818\n",
      "Epoch 46/60\n",
      "1254/1254 [==============================] - 18s 14ms/step - loss: 0.1505 - accuracy: 0.9460 - val_loss: 0.5313 - val_accuracy: 0.8704\n",
      "Epoch 47/60\n",
      "1254/1254 [==============================] - 18s 14ms/step - loss: 0.1466 - accuracy: 0.9466 - val_loss: 0.6010 - val_accuracy: 0.8607\n",
      "Epoch 48/60\n",
      "1254/1254 [==============================] - 19s 15ms/step - loss: 0.1490 - accuracy: 0.9462 - val_loss: 0.5320 - val_accuracy: 0.8776\n",
      "Epoch 49/60\n",
      "1254/1254 [==============================] - 18s 14ms/step - loss: 0.1443 - accuracy: 0.9475 - val_loss: 0.5310 - val_accuracy: 0.8757\n",
      "Epoch 50/60\n",
      "1254/1254 [==============================] - 18s 14ms/step - loss: 0.1410 - accuracy: 0.9483 - val_loss: 0.5565 - val_accuracy: 0.8718\n",
      "Epoch 51/60\n",
      "1254/1254 [==============================] - 18s 14ms/step - loss: 0.1417 - accuracy: 0.9490 - val_loss: 0.5449 - val_accuracy: 0.8749\n",
      "Epoch 52/60\n",
      "1254/1254 [==============================] - 19s 15ms/step - loss: 0.1384 - accuracy: 0.9503 - val_loss: 0.5531 - val_accuracy: 0.8777\n",
      "Epoch 53/60\n",
      "1254/1254 [==============================] - 18s 14ms/step - loss: 0.1416 - accuracy: 0.9500 - val_loss: 0.5255 - val_accuracy: 0.8768\n",
      "Epoch 54/60\n",
      "1254/1254 [==============================] - 18s 14ms/step - loss: 0.1365 - accuracy: 0.9513 - val_loss: 0.4893 - val_accuracy: 0.8859\n",
      "Epoch 55/60\n",
      "1254/1254 [==============================] - 18s 14ms/step - loss: 0.1340 - accuracy: 0.9521 - val_loss: 0.5430 - val_accuracy: 0.8790\n",
      "Epoch 56/60\n",
      "1254/1254 [==============================] - 19s 15ms/step - loss: 0.1304 - accuracy: 0.9534 - val_loss: 0.5684 - val_accuracy: 0.8731\n",
      "Epoch 57/60\n",
      "1254/1254 [==============================] - 18s 15ms/step - loss: 0.1325 - accuracy: 0.9522 - val_loss: 0.5872 - val_accuracy: 0.8674\n",
      "Epoch 58/60\n",
      "1254/1254 [==============================] - 18s 15ms/step - loss: 0.1290 - accuracy: 0.9539 - val_loss: 0.5558 - val_accuracy: 0.8752\n",
      "Epoch 59/60\n",
      "1254/1254 [==============================] - 18s 15ms/step - loss: 0.1240 - accuracy: 0.9550 - val_loss: 0.6167 - val_accuracy: 0.8687\n",
      "Epoch 60/60\n",
      "1254/1254 [==============================] - 19s 15ms/step - loss: 0.1310 - accuracy: 0.9539 - val_loss: 0.5638 - val_accuracy: 0.8752\n"
     ]
    }
   ],
   "source": [
    "hist3 = model3.fit(X_train, y_train, epochs=epochs, validation_split=0.2)"
   ]
  },
  {
   "cell_type": "code",
   "execution_count": 50,
   "metadata": {
    "colab": {
     "base_uri": "https://localhost:8080/",
     "height": 265
    },
    "id": "EF5A-xIYiq_J",
    "outputId": "49b17442-25cf-4c16-d4bd-756d3b49e936"
   },
   "outputs": [
    {
     "data": {
      "image/png": "[encoded data removed]",
      "text/plain": [
       "<Figure size 432x288 with 1 Axes>"
      ]
     },
     "metadata": {
      "needs_background": "light"
     },
     "output_type": "display_data"
    }
   ],
   "source": [
    "epoch_count = range(1, len(hist3.history['accuracy']) + 1)\n",
    "sns.lineplot(x=epoch_count,  y=hist3.history['accuracy'], label='train')\n",
    "sns.lineplot(x=epoch_count,  y=hist3.history['val_accuracy'], label='valid')\n",
    "plt.show()"
   ]
  },
  {
   "cell_type": "code",
   "execution_count": 51,
   "metadata": {
    "colab": {
     "base_uri": "https://localhost:8080/"
    },
    "id": "_MWEoW-BitA_",
    "outputId": "0290c779-05e3-4ea9-957f-87b36f9e56a5"
   },
   "outputs": [
    {
     "name": "stdout",
     "output_type": "stream",
     "text": [
      "392/392 [==============================] - 3s 7ms/step - loss: 0.5761 - accuracy: 0.8719\n"
     ]
    },
    {
     "data": {
      "text/plain": [
       "[0.5760506391525269, 0.8718500733375549]"
      ]
     },
     "execution_count": 51,
     "metadata": {},
     "output_type": "execute_result"
    }
   ],
   "source": [
    "model3.evaluate(X_test, y_test)"
   ]
  },
  {
   "cell_type": "markdown",
   "metadata": {
    "id": "SlOaDpeHi9En"
   },
   "source": [
    "##### Generamos nuestro modelo similar al modelo 2 pero con embeddings pre-entrenados\n",
    "\n",
    "El mismo consta de:\n",
    "\n",
    "* Capa de embedings pre-entranada de longitud 300\n",
    "* 2 Capas LSTM de 64 unidades \n",
    "* Capa densa de 32 unidades\n",
    "* Capa densa final con activación Softmax y tamaño de salida de 5 (5 clases)"
   ]
  },
  {
   "cell_type": "code",
   "execution_count": 52,
   "metadata": {
    "colab": {
     "base_uri": "https://localhost:8080/"
    },
    "id": "1D4g9n2Wj5xR",
    "outputId": "32f8cfd2-d76f-43d8-c920-8bdc741ae14d"
   },
   "outputs": [
    {
     "name": "stdout",
     "output_type": "stream",
     "text": [
      "Model: \"sequential_3\"\n",
      "_________________________________________________________________\n",
      " Layer (type)                Output Shape              Param #   \n",
      "=================================================================\n",
      " embedding_3 (Embedding)     (None, 116, 300)          2400000   \n",
      "                                                                 \n",
      " lstm_6 (LSTM)               (None, 116, 64)           93440     \n",
      "                                                                 \n",
      " dropout_6 (Dropout)         (None, 116, 64)           0         \n",
      "                                                                 \n",
      " lstm_7 (LSTM)               (None, 64)                33024     \n",
      "                                                                 \n",
      " dense_6 (Dense)             (None, 32)                2080      \n",
      "                                                                 \n",
      " dropout_7 (Dropout)         (None, 32)                0         \n",
      "                                                                 \n",
      " dense_7 (Dense)             (None, 5)                 165       \n",
      "                                                                 \n",
      "=================================================================\n",
      "Total params: 2,528,709\n",
      "Trainable params: 128,709\n",
      "Non-trainable params: 2,400,000\n",
      "_________________________________________________________________\n"
     ]
    }
   ],
   "source": [
    "model4 = Sequential()\n",
    "model4.add(Embedding(input_dim=vocab_size, output_dim=embed_dim, input_length=in_shape,\n",
    "                     weights=[embedding_matrix], trainable=False))\n",
    "model4.add((LSTM(units=64, return_sequences=True)))\n",
    "model4.add(Dropout(0.2))\n",
    "model4.add((LSTM(units=64)))\n",
    "model4.add(Dense(units=32, activation='relu'))\n",
    "model4.add(Dropout(rate=0.2))\n",
    "model4.add(Dense(units=out_shape, activation='softmax'))\n",
    "\n",
    "model4.compile(optimizer=\"adam\",\n",
    "              loss='categorical_crossentropy',\n",
    "              metrics=['accuracy'])\n",
    "\n",
    "model4.summary()"
   ]
  },
  {
   "cell_type": "code",
   "execution_count": 53,
   "metadata": {
    "colab": {
     "base_uri": "https://localhost:8080/",
     "height": 865
    },
    "id": "3hVB86-vkAxW",
    "outputId": "50d3966a-5af9-4243-c753-d02d74d6b2fb"
   },
   "outputs": [
    {
     "data": {
      "image/png": "[encoded data removed]",
      "text/plain": [
       "<IPython.core.display.Image object>"
      ]
     },
     "execution_count": 53,
     "metadata": {},
     "output_type": "execute_result"
    }
   ],
   "source": [
    "plot_model(model4, to_file='model_plot4.png', show_shapes=True, show_layer_names=True)"
   ]
  },
  {
   "cell_type": "code",
   "execution_count": 54,
   "metadata": {
    "colab": {
     "base_uri": "https://localhost:8080/"
    },
    "id": "nXjLNa3SkDqL",
    "outputId": "435706d2-d649-42ee-9827-1ca6e5d7ceb5"
   },
   "outputs": [
    {
     "name": "stdout",
     "output_type": "stream",
     "text": [
      "Epoch 1/60\n",
      "1254/1254 [==============================] - 20s 14ms/step - loss: 1.5584 - accuracy: 0.2691 - val_loss: 1.4956 - val_accuracy: 0.3181\n",
      "Epoch 2/60\n",
      "1254/1254 [==============================] - 17s 13ms/step - loss: 1.4206 - accuracy: 0.3693 - val_loss: 1.3368 - val_accuracy: 0.4191\n",
      "Epoch 3/60\n",
      "1254/1254 [==============================] - 17s 13ms/step - loss: 1.2346 - accuracy: 0.4703 - val_loss: 1.1375 - val_accuracy: 0.5137\n",
      "Epoch 4/60\n",
      "1254/1254 [==============================] - 17s 14ms/step - loss: 1.0405 - accuracy: 0.5556 - val_loss: 0.9948 - val_accuracy: 0.5765\n",
      "Epoch 5/60\n",
      "1254/1254 [==============================] - 17s 13ms/step - loss: 0.9049 - accuracy: 0.6099 - val_loss: 0.9078 - val_accuracy: 0.6071\n",
      "Epoch 6/60\n",
      "1254/1254 [==============================] - 16s 13ms/step - loss: 0.8131 - accuracy: 0.6496 - val_loss: 0.8149 - val_accuracy: 0.6488\n",
      "Epoch 7/60\n",
      "1254/1254 [==============================] - 17s 13ms/step - loss: 0.7422 - accuracy: 0.6803 - val_loss: 0.7430 - val_accuracy: 0.6866\n",
      "Epoch 8/60\n",
      "1254/1254 [==============================] - 17s 14ms/step - loss: 0.6919 - accuracy: 0.7012 - val_loss: 0.6800 - val_accuracy: 0.7163\n",
      "Epoch 9/60\n",
      "1254/1254 [==============================] - 17s 14ms/step - loss: 0.6506 - accuracy: 0.7205 - val_loss: 0.6505 - val_accuracy: 0.7258\n",
      "Epoch 10/60\n",
      "1254/1254 [==============================] - 17s 13ms/step - loss: 0.6056 - accuracy: 0.7411 - val_loss: 0.6427 - val_accuracy: 0.7341\n",
      "Epoch 11/60\n",
      "1254/1254 [==============================] - 16s 13ms/step - loss: 0.5849 - accuracy: 0.7488 - val_loss: 0.6378 - val_accuracy: 0.7339\n",
      "Epoch 12/60\n",
      "1254/1254 [==============================] - 16s 13ms/step - loss: 0.5659 - accuracy: 0.7558 - val_loss: 0.5862 - val_accuracy: 0.7505\n",
      "Epoch 13/60\n",
      "1254/1254 [==============================] - 16s 13ms/step - loss: 0.5401 - accuracy: 0.7686 - val_loss: 0.5592 - val_accuracy: 0.7632\n",
      "Epoch 14/60\n",
      "1254/1254 [==============================] - 17s 14ms/step - loss: 0.5178 - accuracy: 0.7744 - val_loss: 0.5504 - val_accuracy: 0.7699\n",
      "Epoch 15/60\n",
      "1254/1254 [==============================] - 17s 13ms/step - loss: 0.5099 - accuracy: 0.7799 - val_loss: 0.5445 - val_accuracy: 0.7739\n",
      "Epoch 16/60\n",
      "1254/1254 [==============================] - 16s 13ms/step - loss: 0.4890 - accuracy: 0.7885 - val_loss: 0.5258 - val_accuracy: 0.7804\n",
      "Epoch 17/60\n",
      "1254/1254 [==============================] - 16s 13ms/step - loss: 0.4750 - accuracy: 0.7957 - val_loss: 0.5446 - val_accuracy: 0.7787\n",
      "Epoch 18/60\n",
      "1254/1254 [==============================] - 17s 14ms/step - loss: 0.4615 - accuracy: 0.8011 - val_loss: 0.5321 - val_accuracy: 0.7872\n",
      "Epoch 19/60\n",
      "1254/1254 [==============================] - 16s 13ms/step - loss: 0.4510 - accuracy: 0.8059 - val_loss: 0.5214 - val_accuracy: 0.7859\n",
      "Epoch 20/60\n",
      "1254/1254 [==============================] - 16s 13ms/step - loss: 0.4348 - accuracy: 0.8125 - val_loss: 0.5239 - val_accuracy: 0.7879\n",
      "Epoch 21/60\n",
      "1254/1254 [==============================] - 17s 14ms/step - loss: 0.4335 - accuracy: 0.8131 - val_loss: 0.5766 - val_accuracy: 0.7789\n",
      "Epoch 22/60\n",
      "1254/1254 [==============================] - 18s 14ms/step - loss: 0.4204 - accuracy: 0.8194 - val_loss: 0.5394 - val_accuracy: 0.7886\n",
      "Epoch 23/60\n",
      "1254/1254 [==============================] - 17s 14ms/step - loss: 0.4132 - accuracy: 0.8225 - val_loss: 0.5004 - val_accuracy: 0.8085\n",
      "Epoch 24/60\n",
      "1254/1254 [==============================] - 17s 13ms/step - loss: 0.4054 - accuracy: 0.8236 - val_loss: 0.4869 - val_accuracy: 0.8119\n",
      "Epoch 25/60\n",
      "1254/1254 [==============================] - 17s 13ms/step - loss: 0.3996 - accuracy: 0.8281 - val_loss: 0.4900 - val_accuracy: 0.8114\n",
      "Epoch 26/60\n",
      "1254/1254 [==============================] - 18s 14ms/step - loss: 0.3877 - accuracy: 0.8349 - val_loss: 0.4861 - val_accuracy: 0.8070\n",
      "Epoch 27/60\n",
      "1254/1254 [==============================] - 17s 14ms/step - loss: 0.3889 - accuracy: 0.8308 - val_loss: 0.4993 - val_accuracy: 0.8134\n",
      "Epoch 28/60\n",
      "1254/1254 [==============================] - 17s 13ms/step - loss: 0.3845 - accuracy: 0.8348 - val_loss: 0.4832 - val_accuracy: 0.8159\n",
      "Epoch 29/60\n",
      "1254/1254 [==============================] - 16s 13ms/step - loss: 0.3703 - accuracy: 0.8419 - val_loss: 0.5030 - val_accuracy: 0.8124\n",
      "Epoch 30/60\n",
      "1254/1254 [==============================] - 16s 12ms/step - loss: 0.3657 - accuracy: 0.8442 - val_loss: 0.4720 - val_accuracy: 0.8178\n",
      "Epoch 31/60\n",
      "1254/1254 [==============================] - 16s 12ms/step - loss: 0.3593 - accuracy: 0.8455 - val_loss: 0.4620 - val_accuracy: 0.8219\n",
      "Epoch 32/60\n",
      "1254/1254 [==============================] - 16s 13ms/step - loss: 0.3598 - accuracy: 0.8468 - val_loss: 0.4718 - val_accuracy: 0.8228\n",
      "Epoch 33/60\n",
      "1254/1254 [==============================] - 16s 12ms/step - loss: 0.3561 - accuracy: 0.8489 - val_loss: 0.4807 - val_accuracy: 0.8258\n",
      "Epoch 34/60\n",
      "1254/1254 [==============================] - 16s 12ms/step - loss: 0.3557 - accuracy: 0.8503 - val_loss: 0.4983 - val_accuracy: 0.8223\n",
      "Epoch 35/60\n",
      "1254/1254 [==============================] - 15s 12ms/step - loss: 0.3379 - accuracy: 0.8554 - val_loss: 0.4831 - val_accuracy: 0.8219\n",
      "Epoch 36/60\n",
      "1254/1254 [==============================] - 16s 12ms/step - loss: 0.3407 - accuracy: 0.8582 - val_loss: 0.4741 - val_accuracy: 0.8277\n",
      "Epoch 37/60\n",
      "1254/1254 [==============================] - 16s 13ms/step - loss: 0.3401 - accuracy: 0.8570 - val_loss: 0.4746 - val_accuracy: 0.8314\n",
      "Epoch 38/60\n",
      "1254/1254 [==============================] - 16s 12ms/step - loss: 0.3309 - accuracy: 0.8614 - val_loss: 0.4742 - val_accuracy: 0.8304\n",
      "Epoch 39/60\n",
      "1254/1254 [==============================] - 16s 12ms/step - loss: 0.3301 - accuracy: 0.8621 - val_loss: 0.4672 - val_accuracy: 0.8312\n",
      "Epoch 40/60\n",
      "1254/1254 [==============================] - 16s 12ms/step - loss: 0.3270 - accuracy: 0.8632 - val_loss: 0.4618 - val_accuracy: 0.8349\n",
      "Epoch 41/60\n",
      "1254/1254 [==============================] - 16s 12ms/step - loss: 0.3204 - accuracy: 0.8678 - val_loss: 0.4543 - val_accuracy: 0.8409\n",
      "Epoch 42/60\n",
      "1254/1254 [==============================] - 16s 13ms/step - loss: 0.3124 - accuracy: 0.8703 - val_loss: 0.4974 - val_accuracy: 0.8288\n",
      "Epoch 43/60\n",
      "1254/1254 [==============================] - 17s 13ms/step - loss: 0.3261 - accuracy: 0.8659 - val_loss: 0.4728 - val_accuracy: 0.8339\n",
      "Epoch 44/60\n",
      "1254/1254 [==============================] - 16s 12ms/step - loss: 0.3142 - accuracy: 0.8717 - val_loss: 0.4673 - val_accuracy: 0.8381\n",
      "Epoch 45/60\n",
      "1254/1254 [==============================] - 16s 13ms/step - loss: 0.3042 - accuracy: 0.8759 - val_loss: 0.4783 - val_accuracy: 0.8330\n",
      "Epoch 46/60\n",
      "1254/1254 [==============================] - 16s 13ms/step - loss: 0.3018 - accuracy: 0.8781 - val_loss: 0.4727 - val_accuracy: 0.8373\n",
      "Epoch 47/60\n",
      "1254/1254 [==============================] - 16s 13ms/step - loss: 0.2980 - accuracy: 0.8809 - val_loss: 0.4603 - val_accuracy: 0.8411\n",
      "Epoch 48/60\n",
      "1254/1254 [==============================] - 16s 13ms/step - loss: 0.3032 - accuracy: 0.8776 - val_loss: 0.4454 - val_accuracy: 0.8391\n",
      "Epoch 49/60\n",
      "1254/1254 [==============================] - 16s 13ms/step - loss: 0.2936 - accuracy: 0.8805 - val_loss: 0.4771 - val_accuracy: 0.8386\n",
      "Epoch 50/60\n",
      "1254/1254 [==============================] - 16s 13ms/step - loss: 0.2923 - accuracy: 0.8813 - val_loss: 0.4734 - val_accuracy: 0.8358\n",
      "Epoch 51/60\n",
      "1254/1254 [==============================] - 16s 13ms/step - loss: 0.2854 - accuracy: 0.8854 - val_loss: 0.4693 - val_accuracy: 0.8447\n",
      "Epoch 52/60\n",
      "1254/1254 [==============================] - 16s 13ms/step - loss: 0.2903 - accuracy: 0.8848 - val_loss: 0.4696 - val_accuracy: 0.8462\n",
      "Epoch 53/60\n",
      "1254/1254 [==============================] - 16s 13ms/step - loss: 0.2786 - accuracy: 0.8868 - val_loss: 0.4829 - val_accuracy: 0.8420\n",
      "Epoch 54/60\n",
      "1254/1254 [==============================] - 16s 13ms/step - loss: 0.2861 - accuracy: 0.8867 - val_loss: 0.4842 - val_accuracy: 0.8444\n",
      "Epoch 55/60\n",
      "1254/1254 [==============================] - 16s 13ms/step - loss: 0.2732 - accuracy: 0.8912 - val_loss: 0.4636 - val_accuracy: 0.8521\n",
      "Epoch 56/60\n",
      "1254/1254 [==============================] - 16s 13ms/step - loss: 0.2754 - accuracy: 0.8921 - val_loss: 0.4881 - val_accuracy: 0.8454\n",
      "Epoch 57/60\n",
      "1254/1254 [==============================] - 15s 12ms/step - loss: 0.2701 - accuracy: 0.8929 - val_loss: 0.4816 - val_accuracy: 0.8486\n",
      "Epoch 58/60\n",
      "1254/1254 [==============================] - 15s 12ms/step - loss: 0.2761 - accuracy: 0.8925 - val_loss: 0.4637 - val_accuracy: 0.8481\n",
      "Epoch 59/60\n",
      "1254/1254 [==============================] - 15s 12ms/step - loss: 0.2596 - accuracy: 0.8984 - val_loss: 0.4516 - val_accuracy: 0.8535\n",
      "Epoch 60/60\n",
      "1254/1254 [==============================] - 16s 12ms/step - loss: 0.2694 - accuracy: 0.8952 - val_loss: 0.4546 - val_accuracy: 0.8530\n"
     ]
    }
   ],
   "source": [
    "hist4 = model4.fit(X_train, y_train, epochs=epochs, validation_split=0.2)"
   ]
  },
  {
   "cell_type": "code",
   "execution_count": 55,
   "metadata": {
    "colab": {
     "base_uri": "https://localhost:8080/",
     "height": 265
    },
    "id": "eXFzTj4okLE0",
    "outputId": "140ce0e9-969d-4515-fdef-d895e5757b83"
   },
   "outputs": [
    {
     "data": {
      "image/png": "[encoded data removed]",
      "text/plain": [
       "<Figure size 432x288 with 1 Axes>"
      ]
     },
     "metadata": {
      "needs_background": "light"
     },
     "output_type": "display_data"
    }
   ],
   "source": [
    "epoch_count = range(1, len(hist4.history['accuracy']) + 1)\n",
    "sns.lineplot(x=epoch_count,  y=hist4.history['accuracy'], label='train')\n",
    "sns.lineplot(x=epoch_count,  y=hist4.history['val_accuracy'], label='valid')\n",
    "plt.show()"
   ]
  },
  {
   "cell_type": "code",
   "execution_count": 56,
   "metadata": {
    "colab": {
     "base_uri": "https://localhost:8080/"
    },
    "id": "19Vq0IQwkNkS",
    "outputId": "1f77eb46-879b-429e-afc6-1f0ffa78760a"
   },
   "outputs": [
    {
     "name": "stdout",
     "output_type": "stream",
     "text": [
      "392/392 [==============================] - 2s 6ms/step - loss: 0.4497 - accuracy: 0.8565\n"
     ]
    },
    {
     "data": {
      "text/plain": [
       "[0.4497276544570923, 0.8565390706062317]"
      ]
     },
     "execution_count": 56,
     "metadata": {},
     "output_type": "execute_result"
    }
   ],
   "source": [
    "model4.evaluate(X_test, y_test)"
   ]
  },
  {
   "cell_type": "markdown",
   "metadata": {
    "id": "LWxiqz8uIu62"
   },
   "source": [
    "#### Conclusiones"
   ]
  },
  {
   "cell_type": "markdown",
   "metadata": {
    "id": "iLXKDAEBnodH"
   },
   "source": [
    "Los resultados fueron similares con ambos modelos, del orden del 90% en test para el caso de embedding sin entrenamiento previo y 86% para los embedding pre-entrenados.\n",
    "\n",
    "Los modelos con embedding pre-entrenados tuvieron resultados algo menores, pero su tiempo de entrenamiento fue  menor."
   ]
  },
  {
   "cell_type": "markdown",
   "metadata": {
    "id": "Er-BoecUoALI"
   },
   "source": [
    "Los puntos a destacar son:\n",
    "\n",
    "* Con modelos más simples y menos profundos se lograron mejores resultados que la notebook anterior.\n",
    "* Con los embeddings pre-entrenados de fastex los tiempos de entrenamiento fueron menores, pero los resultados obtenidos fueron algo peores. Se vio que entrenar los embeddings considerando el contexto propio del problema ayudó a tener mejores resultados, aún cuando la longitud de los embeddings fueron menores (Ventajas: mejores resultados y embeddings más pequeños).\n",
    "* Con el oversampling se pudo mejorar mucho la performance final. Fue fundamental el correcto preprocesamiento de los datos y entendimiento y análisis del problema y los datos."
   ]
  }
 ],
 "metadata": {
  "accelerator": "GPU",
  "colab": {
   "collapsed_sections": [],
   "name": "Desafio_5_oversampling.ipynb",
   "provenance": [],
   "toc_visible": true
  },
  "kernelspec": {
   "display_name": "Python 3 (ipykernel)",
   "language": "python",
   "name": "python3"
  },
  "language_info": {
   "codemirror_mode": {
    "name": "ipython",
    "version": 3
   },
   "file_extension": ".py",
   "mimetype": "text/x-python",
   "name": "python",
   "nbconvert_exporter": "python",
   "pygments_lexer": "ipython3",
   "version": "3.9.12"
  }
 },
 "nbformat": 4,
 "nbformat_minor": 4
}
